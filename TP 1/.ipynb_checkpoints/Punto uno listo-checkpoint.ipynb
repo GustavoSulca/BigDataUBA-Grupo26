{
 "cells": [
  {
   "cell_type": "markdown",
   "metadata": {
    "collapsed": true,
    "id": "Dh8MkXaG-c9Y",
    "jupyter": {
     "outputs_hidden": true
    }
   },
   "source": [
    "# Big Data y Machine Learning (UBA) -  2025\n",
    "\n",
    "## Trabajo Práctico 1: Jugando con APIs y WebScraping "
   ]
  },
  {
   "cell_type": "markdown",
   "metadata": {
    "id": "RhBlm6mZ-c9e"
   },
   "source": [
    "### Reglas de formato y presentación\n",
    "- El trabajo debe estar debidamente documentado comentado (utilizando #) para que tanto los docentes como sus compañeros puedan comprender el código fácilmente.\n",
    "\n",
    "- El mismo debe ser completado en este Jupyter Notebook y entregado como tal, es decir en un archivo .ipynb\n"
   ]
  },
  {
   "cell_type": "markdown",
   "metadata": {
    "id": "ZEjGaa4U-c9g"
   },
   "source": [
    "### Fecha de entrega:\n",
    "Viernes 4 de Abril a las 13:00 hs"
   ]
  },
  {
   "cell_type": "markdown",
   "metadata": {
    "id": "N9TU2y7E-c9h"
   },
   "source": [
    "### Modalidad de entrega\n",
    "- Al finalizar el trabajo práctico deben hacer un último <i>commit</i> en su repositorio de GitHub llamado “Entrega final del tp”. \n",
    "- Asegurense de haber creado una carpeta llamada TP1. Este Jupyter Notebook y el correspondiente al TP1 deben estar dentro de esa carpeta.\n",
    "- También deben enviar el link de su repositorio -para que pueda ser clonado y corregido- a mi correo 25RO35480961@campus.economicas.uba.ar. Usar de asunto de email <i>\"Big Data - TP 1 - Grupo #\"</i> y nombrar el archivo <i>\"TP1_Grupo #\"</i> donde # es el número de grupo que le fue asignado.\n",
    "- La última versión en el repositorio es la que será evaluada. Por lo que es importante que: \n",
    "    - No envien el correo hasta no haber terminado y estar seguros de que han hecho el <i>commit y push</i> a la versión final que quieren entregar. \n",
    "    - No hagan nuevos <i>push</i> despues de haber entregado su versión final. Esto generaría confusión acerca de que versión es la que quieren que se les corrija.\n",
    "- En resumen, la carpeta del repositorio debe incluir:\n",
    "    - El codigo\n",
    "    - Un documento Word (Parte A) donde esten las figuras y una breve descripción de las mismas.\n",
    "    - El excel con los links webscrappeados (Parte B)"
   ]
  },
  {
   "cell_type": "markdown",
   "metadata": {},
   "source": [
    "### Parte A"
   ]
  },
  {
   "cell_type": "markdown",
   "metadata": {
    "id": "ZXbrPraa-c9i"
   },
   "source": [
    "#### Ejercicio 1 - Jugando con APIs\n",
    "Usando la API del Banco Mundial [link](https://wbdata.readthedocs.io/en/stable/) , obtener dos series de indicadores para dos paises a elección en una consulta de búsqueda. Pueden buscar serie de indicadores de su interés."
   ]
  },
  {
   "cell_type": "code",
   "execution_count": 6,
   "metadata": {},
   "outputs": [
    {
     "name": "stderr",
     "output_type": "stream",
     "text": [
      "ERROR: Invalid requirement: '#instalo': Expected package name at the start of dependency specifier\n",
      "    #instalo\n",
      "    ^\n"
     ]
    },
    {
     "name": "stdout",
     "output_type": "stream",
     "text": [
      "Requirement already satisfied: pandas in c:\\users\\gustavo\\anaconda3\\lib\\site-packages (2.2.3)\n",
      "Requirement already satisfied: numpy>=1.26.0 in c:\\users\\gustavo\\anaconda3\\lib\\site-packages (from pandas) (1.26.4)\n",
      "Requirement already satisfied: python-dateutil>=2.8.2 in c:\\users\\gustavo\\anaconda3\\lib\\site-packages (from pandas) (2.9.0.post0)\n",
      "Requirement already satisfied: pytz>=2020.1 in c:\\users\\gustavo\\anaconda3\\lib\\site-packages (from pandas) (2025.2)\n",
      "Requirement already satisfied: tzdata>=2022.7 in c:\\users\\gustavo\\anaconda3\\lib\\site-packages (from pandas) (2023.3)\n",
      "Requirement already satisfied: six>=1.5 in c:\\users\\gustavo\\anaconda3\\lib\\site-packages (from python-dateutil>=2.8.2->pandas) (1.16.0)\n"
     ]
    }
   ],
   "source": [
    "!pip install wbdata #instalo las librerías \n",
    "!pip install pandas"
   ]
  },
  {
   "cell_type": "code",
   "execution_count": 7,
   "metadata": {},
   "outputs": [],
   "source": [
    "import wbdata\n",
    "import pandas as pd\n",
    "import datetime"
   ]
  },
  {
   "cell_type": "code",
   "execution_count": 8,
   "metadata": {},
   "outputs": [
    {
     "name": "stdout",
     "output_type": "stream",
     "text": [
      "Help on package wbdata:\n",
      "\n",
      "NAME\n",
      "    wbdata - wbdata: A wrapper for the World Bank API\n",
      "\n",
      "PACKAGE CONTENTS\n",
      "    cache\n",
      "    client\n",
      "    dates\n",
      "    fetcher\n",
      "\n",
      "FUNCTIONS\n",
      "    get_default_client() -> wbdata.client.Client\n",
      "        Get the default client\n",
      "\n",
      "VERSION\n",
      "    1.0.0\n",
      "\n",
      "FILE\n",
      "    c:\\users\\gustavo\\anaconda3\\lib\\site-packages\\wbdata\\__init__.py\n",
      "\n",
      "\n"
     ]
    }
   ],
   "source": [
    "help(wbdata)"
   ]
  },
  {
   "cell_type": "code",
   "execution_count": 9,
   "metadata": {},
   "outputs": [],
   "source": [
    "indicadores = {'NY.GDP.PCAP.CD': 'PIB per cápita (USD corrientes)','SP.DYN.LE00.IN':'Esperanza de vida al nacer (años)'} #elijo indicadores\n",
    "\n",
    "\n",
    "data = wbdata.get_dataframe(indicadores, country=['BRA','ARG'])\n",
    "\n",
    "df = pd.DataFrame(data)\n",
    "\n"
   ]
  },
  {
   "cell_type": "code",
   "execution_count": 10,
   "metadata": {},
   "outputs": [],
   "source": [
    "df_reset = df.reset_index()"
   ]
  },
  {
   "cell_type": "code",
   "execution_count": 11,
   "metadata": {},
   "outputs": [],
   "source": [
    "df_reset[\"date\"] = df_reset[\"date\"].astype(int)      #hago esto ya que no me muestra las primeras 10 filas de brasil así que lo configuro por años\n",
    "df_brasil = df_reset[(df_reset[\"country\"] == \"Brazil\") & \n",
    "                      (df_reset[\"date\"] >= 2014) & \n",
    "                      (df_reset[\"date\"] <= 2023)]"
   ]
  },
  {
   "cell_type": "code",
   "execution_count": 12,
   "metadata": {},
   "outputs": [
    {
     "name": "stdout",
     "output_type": "stream",
     "text": [
      "                PIB per cápita (USD corrientes)  \\\n",
      "country   date                                    \n",
      "Argentina 2023                     14187.482725   \n",
      "          2022                     13935.681111   \n",
      "          2021                     10738.017922   \n",
      "          2020                      8535.599380   \n",
      "          2019                      9955.974787   \n",
      "          2018                     11752.799892   \n",
      "          2017                     14532.500931   \n",
      "          2016                     12699.962314   \n",
      "          2015                     13679.626498   \n",
      "          2014                     12233.144412   \n",
      "\n",
      "                Esperanza de vida al nacer (años)  \n",
      "country   date                                     \n",
      "Argentina 2023                                NaN  \n",
      "          2022                             76.064  \n",
      "          2021                             75.390  \n",
      "          2020                             75.892  \n",
      "          2019                             77.284  \n",
      "          2018                             76.999  \n",
      "          2017                             76.833  \n",
      "          2016                             76.308  \n",
      "          2015                             76.760  \n",
      "          2014                             76.755  \n",
      "   country  date  PIB per cápita (USD corrientes)  \\\n",
      "64  Brazil  2023                     10294.866681   \n",
      "65  Brazil  2022                      9281.333344   \n",
      "66  Brazil  2021                      7972.536650   \n",
      "67  Brazil  2020                      7074.193783   \n",
      "68  Brazil  2019                      9029.833267   \n",
      "69  Brazil  2018                      9300.661649   \n",
      "70  Brazil  2017                     10080.509282   \n",
      "71  Brazil  2016                      8836.286526   \n",
      "72  Brazil  2015                      8936.196618   \n",
      "73  Brazil  2014                     12274.993969   \n",
      "\n",
      "    Esperanza de vida al nacer (años)  \n",
      "64                                NaN  \n",
      "65                             73.425  \n",
      "66                             72.750  \n",
      "67                             74.009  \n",
      "68                             75.338  \n",
      "69                             75.109  \n",
      "70                             74.827  \n",
      "71                             74.442  \n",
      "72                             74.332  \n",
      "73                             74.306  \n"
     ]
    }
   ],
   "source": [
    "\n",
    "print(df.head(10))  # Muestra las primeras 10 filas de argentina\n",
    "print(df_brasil)"
   ]
  },
  {
   "cell_type": "markdown",
   "metadata": {},
   "source": [
    "#### Ejercicio 2 - Repaso de Pandas\n",
    "Realicen una estadistica descriptiva de ambas series de indicadores comparando los dos países."
   ]
  },
  {
   "cell_type": "code",
   "execution_count": 34,
   "metadata": {},
   "outputs": [
    {
     "name": "stdout",
     "output_type": "stream",
     "text": [
      "                PIB per cápita (USD corrientes)  \\\n",
      "country   date                                    \n",
      "Argentina 2023                     14187.482725   \n",
      "          2022                     13935.681111   \n",
      "          2021                     10738.017922   \n",
      "          2020                      8535.599380   \n",
      "          2019                      9955.974787   \n",
      "\n",
      "                Esperanza de vida al nacer (años)  \n",
      "country   date                                     \n",
      "Argentina 2023                                NaN  \n",
      "          2022                             76.064  \n",
      "          2021                             75.390  \n",
      "          2020                             75.892  \n",
      "          2019                             77.284  \n",
      "MultiIndex([('Argentina', '2023'),\n",
      "            ('Argentina', '2022'),\n",
      "            ('Argentina', '2021'),\n",
      "            ('Argentina', '2020'),\n",
      "            ('Argentina', '2019'),\n",
      "            ('Argentina', '2018'),\n",
      "            ('Argentina', '2017'),\n",
      "            ('Argentina', '2016'),\n",
      "            ('Argentina', '2015'),\n",
      "            ('Argentina', '2014'),\n",
      "            ...\n",
      "            (   'Brazil', '1969'),\n",
      "            (   'Brazil', '1968'),\n",
      "            (   'Brazil', '1967'),\n",
      "            (   'Brazil', '1966'),\n",
      "            (   'Brazil', '1965'),\n",
      "            (   'Brazil', '1964'),\n",
      "            (   'Brazil', '1963'),\n",
      "            (   'Brazil', '1962'),\n",
      "            (   'Brazil', '1961'),\n",
      "            (   'Brazil', '1960')],\n",
      "           names=['country', 'date'], length=128)\n"
     ]
    }
   ],
   "source": [
    "print(data.head())  # Ver las primeras filas del DataFrame\n",
    "print(data.index)   # Ver si los años están en el índice o en una columna"
   ]
  },
  {
   "cell_type": "code",
   "execution_count": 52,
   "metadata": {},
   "outputs": [
    {
     "name": "stdout",
     "output_type": "stream",
     "text": [
      "                PIB per cápita (USD corrientes)  \\\n",
      "country   date                                    \n",
      "Argentina 2023                     14187.482725   \n",
      "          2022                     13935.681111   \n",
      "          2021                     10738.017922   \n",
      "          2020                      8535.599380   \n",
      "          2019                      9955.974787   \n",
      "          2018                     11752.799892   \n",
      "          2017                     14532.500931   \n",
      "          2016                     12699.962314   \n",
      "          2015                     13679.626498   \n",
      "          2014                     12233.144412   \n",
      "Brazil    2023                     10294.866681   \n",
      "          2022                      9281.333344   \n",
      "          2021                      7972.536650   \n",
      "          2020                      7074.193783   \n",
      "          2019                      9029.833267   \n",
      "          2018                      9300.661649   \n",
      "          2017                     10080.509282   \n",
      "          2016                      8836.286526   \n",
      "          2015                      8936.196618   \n",
      "          2014                     12274.993969   \n",
      "\n",
      "                Esperanza de vida al nacer (años)  \n",
      "country   date                                     \n",
      "Argentina 2023                                NaN  \n",
      "          2022                             76.064  \n",
      "          2021                             75.390  \n",
      "          2020                             75.892  \n",
      "          2019                             77.284  \n",
      "          2018                             76.999  \n",
      "          2017                             76.833  \n",
      "          2016                             76.308  \n",
      "          2015                             76.760  \n",
      "          2014                             76.755  \n",
      "Brazil    2023                                NaN  \n",
      "          2022                             73.425  \n",
      "          2021                             72.750  \n",
      "          2020                             74.009  \n",
      "          2019                             75.338  \n",
      "          2018                             75.109  \n",
      "          2017                             74.827  \n",
      "          2016                             74.442  \n",
      "          2015                             74.332  \n",
      "          2014                             74.306  \n"
     ]
    }
   ],
   "source": [
    "data_filtered = data.loc[\n",
    "# Filtrar solo los datos de Argentina y Brasil\n",
    "    data.index.get_level_values(\"country\").isin([\"Argentina\", \"Brazil\"]) & \n",
    " # Convertir el índice de fecha a entero y filtrar entre 2014 y 2023\n",
    "    (data.index.get_level_values(\"date\").astype(int) >= 2014) &\n",
    "    (data.index.get_level_values(\"date\").astype(int) <= 2023)\n",
    "]\n",
    "# Imprimir los datos filtrados para verificar el resultado\n",
    "print(data_filtered)"
   ]
  },
  {
   "cell_type": "code",
   "execution_count": 56,
   "metadata": {},
   "outputs": [],
   "source": [
    "# Agrupar por país y calcular estadísticas descriptivas\n",
    "stats = data_filtered.groupby(\"country\").agg(\n",
    "    {\n",
    "        \"PIB per cápita (USD corrientes)\": [\"mean\", \"median\", \"std\", \"min\", \"max\"],\n",
    "        \"Esperanza de vida al nacer (años)\": [\"mean\", \"median\", \"std\", \"min\", \"max\"]\n",
    "    }\n",
    ")"
   ]
  },
  {
   "cell_type": "code",
   "execution_count": 58,
   "metadata": {},
   "outputs": [],
   "source": [
    "# Calcular el coeficiente de variación (std / mean * 100)\n",
    "stats[\"PIB per cápita (USD corrientes)\", \"Coeficiente de variación (%)\"] = \\\n",
    "    (stats[\"PIB per cápita (USD corrientes)\"][\"std\"] / stats[\"PIB per cápita (USD corrientes)\"][\"mean\"]) * 100\n",
    "\n",
    "stats[\"Esperanza de vida al nacer (años)\", \"Coeficiente de variación (%)\"] = \\\n",
    "    (stats[\"Esperanza de vida al nacer (años)\"][\"std\"] / stats[\"Esperanza de vida al nacer (años)\"][\"mean\"]) * 100"
   ]
  },
  {
   "cell_type": "code",
   "execution_count": 60,
   "metadata": {},
   "outputs": [
    {
     "name": "stdout",
     "output_type": "stream",
     "text": [
      "          PIB per cápita (USD corrientes)                             \\\n",
      "                                     mean        median          std   \n",
      "country                                                                \n",
      "Argentina                    12225.078997  12466.553363  1989.923605   \n",
      "Brazil                        9308.141177   9155.583306  1397.854510   \n",
      "\n",
      "                                     Esperanza de vida al nacer (años)  \\\n",
      "                   min           max                              mean   \n",
      "country                                                                  \n",
      "Argentina  8535.599380  14532.500931                         76.476111   \n",
      "Brazil     7074.193783  12274.993969                         74.282000   \n",
      "\n",
      "                                           PIB per cápita (USD corrientes)  \\\n",
      "           median       std    min     max    Coeficiente de variación (%)   \n",
      "country                                                                      \n",
      "Argentina  76.755  0.605264  75.39  77.284                       16.277389   \n",
      "Brazil     74.332  0.812463  72.75  75.338                       15.017547   \n",
      "\n",
      "          Esperanza de vida al nacer (años)  \n",
      "               Coeficiente de variación (%)  \n",
      "country                                      \n",
      "Argentina                          0.791442  \n",
      "Brazil                             1.093755  \n"
     ]
    }
   ],
   "source": [
    "# Mostrar las estadísticas descriptivas\n",
    "print(stats)"
   ]
  },
  {
   "cell_type": "markdown",
   "metadata": {},
   "source": [
    "#### Ejercicio 3 - Practicando con Matplotlib\n",
    "Armen dos gráficos distintos usando la librería Matplotlib (repasen Clase 4). Uno programandolo con el estilo *pyplot* y otro gráfico de estilo *orientada a objetos*"
   ]
  },
  {
   "cell_type": "code",
   "execution_count": null,
   "metadata": {},
   "outputs": [],
   "source": [
    "# Resolver acá estilo pyplot\n"
   ]
  },
  {
   "cell_type": "code",
   "execution_count": null,
   "metadata": {},
   "outputs": [],
   "source": [
    "# Resolver acá estilo orientado-objetos \n",
    "# Tip: aprovechar este estilo de programar una figura para hacerlo más lindo \n"
   ]
  },
  {
   "cell_type": "markdown",
   "metadata": {},
   "source": [
    "### Parte B"
   ]
  },
  {
   "cell_type": "markdown",
   "metadata": {},
   "source": [
    "#### Ejercicio 4\n",
    "De la página de noticias del [diario La Nación](https://www.lanacion.com.ar/) o cualquier diario que les interese, utilicen herramientas de web scraping para obtener los **links** de las noticias de la portada. Guarden los links obtenidos en un dataframe y expórtenlo a un archivo de excel.\n",
    "\n",
    "Nota 1: es posible que logren obtener los links a las noticias sin el dominio: \"https://www.lanacion.com.ar/\". De ser así, concatenen el dominio a la ruta del link obtenido, tal que se obtenga un link al que se pueda acceder. Es decir, que las cadenas de caracteres finales tendrán la forma: https://www.lanacion.com.ar/*texto_obtenido*)\n",
    "\n",
    "Nota 2: junto con su entrega, adjunten una captura de la página de noticias al momento de correr su código. Eso servirá al momento de la corrección para verificar que los links obtenidos hacen referencia a las noticias de ese día y hora."
   ]
  },
  {
   "cell_type": "code",
   "execution_count": null,
   "metadata": {},
   "outputs": [],
   "source": []
  },
  {
   "cell_type": "code",
   "execution_count": 3,
   "metadata": {},
   "outputs": [
    {
     "ename": "NoSuchDriverException",
     "evalue": "Message: Unable to obtain driver for chrome; For documentation on this error, please visit: https://www.selenium.dev/documentation/webdriver/troubleshooting/errors/driver_location\n",
     "output_type": "error",
     "traceback": [
      "\u001b[1;31m---------------------------------------------------------------------------\u001b[0m",
      "\u001b[1;31mValueError\u001b[0m                                Traceback (most recent call last)",
      "File \u001b[1;32m~\\anaconda3\\Lib\\site-packages\\selenium\\webdriver\\common\\driver_finder.py:64\u001b[0m, in \u001b[0;36mDriverFinder._binary_paths\u001b[1;34m(self)\u001b[0m\n\u001b[0;32m     63\u001b[0m \u001b[38;5;28;01mif\u001b[39;00m \u001b[38;5;129;01mnot\u001b[39;00m Path(path)\u001b[38;5;241m.\u001b[39mis_file():\n\u001b[1;32m---> 64\u001b[0m     \u001b[38;5;28;01mraise\u001b[39;00m \u001b[38;5;167;01mValueError\u001b[39;00m(\u001b[38;5;124mf\u001b[39m\u001b[38;5;124m\"\u001b[39m\u001b[38;5;124mThe path is not a valid file: \u001b[39m\u001b[38;5;132;01m{\u001b[39;00mpath\u001b[38;5;132;01m}\u001b[39;00m\u001b[38;5;124m\"\u001b[39m)\n\u001b[0;32m     65\u001b[0m \u001b[38;5;28mself\u001b[39m\u001b[38;5;241m.\u001b[39m_paths[\u001b[38;5;124m\"\u001b[39m\u001b[38;5;124mdriver_path\u001b[39m\u001b[38;5;124m\"\u001b[39m] \u001b[38;5;241m=\u001b[39m path\n",
      "\u001b[1;31mValueError\u001b[0m: The path is not a valid file: /ruta/a/chromedriver",
      "\nThe above exception was the direct cause of the following exception:\n",
      "\u001b[1;31mNoSuchDriverException\u001b[0m                     Traceback (most recent call last)",
      "Cell \u001b[1;32mIn[3], line 19\u001b[0m\n\u001b[0;32m     16\u001b[0m service \u001b[38;5;241m=\u001b[39m Service(chromedriver_path)\n\u001b[0;32m     18\u001b[0m \u001b[38;5;66;03m# Iniciar el navegador\u001b[39;00m\n\u001b[1;32m---> 19\u001b[0m driver \u001b[38;5;241m=\u001b[39m webdriver\u001b[38;5;241m.\u001b[39mChrome(service\u001b[38;5;241m=\u001b[39mservice, options\u001b[38;5;241m=\u001b[39mchrome_options)\n\u001b[0;32m     21\u001b[0m \u001b[38;5;66;03m# Navegar a la página de La Nación\u001b[39;00m\n\u001b[0;32m     22\u001b[0m driver\u001b[38;5;241m.\u001b[39mget(\u001b[38;5;124m'\u001b[39m\u001b[38;5;124mhttps://www.lanacion.com.ar/\u001b[39m\u001b[38;5;124m'\u001b[39m)\n",
      "File \u001b[1;32m~\\anaconda3\\Lib\\site-packages\\selenium\\webdriver\\chrome\\webdriver.py:45\u001b[0m, in \u001b[0;36mWebDriver.__init__\u001b[1;34m(self, options, service, keep_alive)\u001b[0m\n\u001b[0;32m     42\u001b[0m service \u001b[38;5;241m=\u001b[39m service \u001b[38;5;28;01mif\u001b[39;00m service \u001b[38;5;28;01melse\u001b[39;00m Service()\n\u001b[0;32m     43\u001b[0m options \u001b[38;5;241m=\u001b[39m options \u001b[38;5;28;01mif\u001b[39;00m options \u001b[38;5;28;01melse\u001b[39;00m Options()\n\u001b[1;32m---> 45\u001b[0m \u001b[38;5;28msuper\u001b[39m()\u001b[38;5;241m.\u001b[39m\u001b[38;5;21m__init__\u001b[39m(\n\u001b[0;32m     46\u001b[0m     browser_name\u001b[38;5;241m=\u001b[39mDesiredCapabilities\u001b[38;5;241m.\u001b[39mCHROME[\u001b[38;5;124m\"\u001b[39m\u001b[38;5;124mbrowserName\u001b[39m\u001b[38;5;124m\"\u001b[39m],\n\u001b[0;32m     47\u001b[0m     vendor_prefix\u001b[38;5;241m=\u001b[39m\u001b[38;5;124m\"\u001b[39m\u001b[38;5;124mgoog\u001b[39m\u001b[38;5;124m\"\u001b[39m,\n\u001b[0;32m     48\u001b[0m     options\u001b[38;5;241m=\u001b[39moptions,\n\u001b[0;32m     49\u001b[0m     service\u001b[38;5;241m=\u001b[39mservice,\n\u001b[0;32m     50\u001b[0m     keep_alive\u001b[38;5;241m=\u001b[39mkeep_alive,\n\u001b[0;32m     51\u001b[0m )\n",
      "File \u001b[1;32m~\\anaconda3\\Lib\\site-packages\\selenium\\webdriver\\chromium\\webdriver.py:50\u001b[0m, in \u001b[0;36mChromiumDriver.__init__\u001b[1;34m(self, browser_name, vendor_prefix, options, service, keep_alive)\u001b[0m\n\u001b[0;32m     47\u001b[0m \u001b[38;5;28mself\u001b[39m\u001b[38;5;241m.\u001b[39mservice \u001b[38;5;241m=\u001b[39m service\n\u001b[0;32m     49\u001b[0m finder \u001b[38;5;241m=\u001b[39m DriverFinder(\u001b[38;5;28mself\u001b[39m\u001b[38;5;241m.\u001b[39mservice, options)\n\u001b[1;32m---> 50\u001b[0m \u001b[38;5;28;01mif\u001b[39;00m finder\u001b[38;5;241m.\u001b[39mget_browser_path():\n\u001b[0;32m     51\u001b[0m     options\u001b[38;5;241m.\u001b[39mbinary_location \u001b[38;5;241m=\u001b[39m finder\u001b[38;5;241m.\u001b[39mget_browser_path()\n\u001b[0;32m     52\u001b[0m     options\u001b[38;5;241m.\u001b[39mbrowser_version \u001b[38;5;241m=\u001b[39m \u001b[38;5;28;01mNone\u001b[39;00m\n",
      "File \u001b[1;32m~\\anaconda3\\Lib\\site-packages\\selenium\\webdriver\\common\\driver_finder.py:47\u001b[0m, in \u001b[0;36mDriverFinder.get_browser_path\u001b[1;34m(self)\u001b[0m\n\u001b[0;32m     46\u001b[0m \u001b[38;5;28;01mdef\u001b[39;00m \u001b[38;5;21mget_browser_path\u001b[39m(\u001b[38;5;28mself\u001b[39m) \u001b[38;5;241m-\u001b[39m\u001b[38;5;241m>\u001b[39m \u001b[38;5;28mstr\u001b[39m:\n\u001b[1;32m---> 47\u001b[0m     \u001b[38;5;28;01mreturn\u001b[39;00m \u001b[38;5;28mself\u001b[39m\u001b[38;5;241m.\u001b[39m_binary_paths()[\u001b[38;5;124m\"\u001b[39m\u001b[38;5;124mbrowser_path\u001b[39m\u001b[38;5;124m\"\u001b[39m]\n",
      "File \u001b[1;32m~\\anaconda3\\Lib\\site-packages\\selenium\\webdriver\\common\\driver_finder.py:78\u001b[0m, in \u001b[0;36mDriverFinder._binary_paths\u001b[1;34m(self)\u001b[0m\n\u001b[0;32m     76\u001b[0m \u001b[38;5;28;01mexcept\u001b[39;00m \u001b[38;5;167;01mException\u001b[39;00m \u001b[38;5;28;01mas\u001b[39;00m err:\n\u001b[0;32m     77\u001b[0m     msg \u001b[38;5;241m=\u001b[39m \u001b[38;5;124mf\u001b[39m\u001b[38;5;124m\"\u001b[39m\u001b[38;5;124mUnable to obtain driver for \u001b[39m\u001b[38;5;132;01m{\u001b[39;00mbrowser\u001b[38;5;132;01m}\u001b[39;00m\u001b[38;5;124m\"\u001b[39m\n\u001b[1;32m---> 78\u001b[0m     \u001b[38;5;28;01mraise\u001b[39;00m NoSuchDriverException(msg) \u001b[38;5;28;01mfrom\u001b[39;00m \u001b[38;5;21;01merr\u001b[39;00m\n\u001b[0;32m     79\u001b[0m \u001b[38;5;28;01mreturn\u001b[39;00m \u001b[38;5;28mself\u001b[39m\u001b[38;5;241m.\u001b[39m_paths\n",
      "\u001b[1;31mNoSuchDriverException\u001b[0m: Message: Unable to obtain driver for chrome; For documentation on this error, please visit: https://www.selenium.dev/documentation/webdriver/troubleshooting/errors/driver_location\n"
     ]
    }
   ],
   "source": [
    "from selenium import webdriver\n",
    "from selenium.webdriver.chrome.service import Service\n",
    "from selenium.webdriver.chrome.options import Options\n",
    "from datetime import datetime\n",
    "\n",
    "# Configurar las opciones de Chrome\n",
    "chrome_options = Options()\n",
    "chrome_options.add_argument('--headless')  # Ejecutar en modo headless (sin interfaz gráfica)\n",
    "chrome_options.add_argument('--start-maximized')\n",
    "\n",
    "# Ruta al controlador de ChromeDriver\n",
    "# Asegúrate de que el controlador esté instalado y su ruta sea correcta\n",
    "chromedriver_path = '/ruta/a/chromedriver'\n",
    "\n",
    "# Configurar el servicio de ChromeDriver\n",
    "service = Service(chromedriver_path)\n",
    "\n",
    "# Iniciar el navegador\n",
    "driver = webdriver.Chrome(service=service, options=chrome_options)\n",
    "\n",
    "# Navegar a la página de La Nación\n",
    "driver.get('https://www.lanacion.com.ar/')\n",
    "\n",
    "# Obtener la fecha y hora actual para nombrar el archivo\n",
    "fecha_actual = datetime.now().strftime('%Y-%m-%d_%H-%M-%S')\n",
    "nombre_captura = f'captura_lanacion_{fecha_actual}.png'\n",
    "\n",
    "# Capturar la pantalla completa\n",
    "driver.save_screenshot(nombre_captura)\n",
    "\n",
    "print(f'Se ha guardado la captura de pantalla como {nombre_captura}')\n",
    "\n",
    "# Cerrar el navegador\n",
    "driver.quit()"
   ]
  },
  {
   "cell_type": "code",
   "execution_count": null,
   "metadata": {},
   "outputs": [],
   "source": []
  }
 ],
 "metadata": {
  "anaconda-cloud": {},
  "colab": {
   "name": "TP1 - Parte 1.ipynb",
   "provenance": []
  },
  "kernelspec": {
   "display_name": "Python [conda env:base] *",
   "language": "python",
   "name": "conda-base-py"
  },
  "language_info": {
   "codemirror_mode": {
    "name": "ipython",
    "version": 3
   },
   "file_extension": ".py",
   "mimetype": "text/x-python",
   "name": "python",
   "nbconvert_exporter": "python",
   "pygments_lexer": "ipython3",
   "version": "3.12.7"
  }
 },
 "nbformat": 4,
 "nbformat_minor": 4
}

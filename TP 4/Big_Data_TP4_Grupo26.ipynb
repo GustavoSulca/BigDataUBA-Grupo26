{
 "cells": [
  {
   "cell_type": "code",
   "execution_count": 1,
   "id": "a9fab23a-ed95-4aa7-9afd-1fe20bafe4b6",
   "metadata": {},
   "outputs": [],
   "source": [
    "#Parte A. Enfoque de validación"
   ]
  },
  {
   "cell_type": "code",
   "execution_count": 3,
   "id": "455e8789-ff37-47ee-8ee9-04371bb8714f",
   "metadata": {},
   "outputs": [],
   "source": [
    "import pandas as pd\n",
    "import numpy as np"
   ]
  },
  {
   "cell_type": "code",
   "execution_count": 5,
   "id": "64248f1c-8023-4962-9cb7-ea07f4192134",
   "metadata": {},
   "outputs": [],
   "source": [
    "# 2004 - formato Stata\n",
    "df_2004 = pd.read_stata(r\"C:\\Users\\Gustavo\\Documents\\GitHub\\BigDataUBA-Grupo26\\TP 4\\t104_dta\\Individual_t104.dta\")\n",
    "\n",
    "# 2024 - formato Excel\n",
    "df_2024 = pd.read_excel(r\"C:\\Users\\Gustavo\\Documents\\GitHub\\BigDataUBA-Grupo26\\TP 4\\EPH_usu_1_Trim_2024_xls\\EPH_usu_1er_Trim_2024_xlsx\\usu_individual_T124.xlsx\")"
   ]
  },
  {
   "cell_type": "code",
   "execution_count": 7,
   "id": "9a663011-c62e-4966-b4e4-2273c93d53a6",
   "metadata": {},
   "outputs": [],
   "source": [
    "# Renombrar columnas en df_2004\n",
    "df_2004 = df_2004.rename(columns={\n",
    "    'ch06': 'edad',\n",
    "    'nivel_ed': 'educ',\n",
    "    'ch04': 'sexo',\n",
    "    'estado': 'condicion_empleo',\n",
    "    'p21': 'salario_semanal'\n",
    "})\n",
    "\n",
    "# Seleccionar solo las columnas necesarias\n",
    "variables = ['edad', 'educ', 'sexo', 'condicion_empleo', 'salario_semanal']\n",
    "df_2004 = df_2004[variables]\n",
    "# Renombrar columnas en df_2024 para que coincidan con los nombres usados en df_2004\n",
    "df_2024 = df_2024.rename(columns={\n",
    "    'CH06': 'edad',\n",
    "    'NIVEL_ED': 'educ',\n",
    "    'CH04': 'sexo',\n",
    "    'ESTADO': 'condicion_empleo',\n",
    "    'P21': 'salario_semanal'\n",
    "})\n",
    "\n",
    "variables = ['edad', 'educ', 'sexo', 'condicion_empleo', 'salario_semanal']\n",
    "df_2024 = df_2024[variables]"
   ]
  },
  {
   "cell_type": "code",
   "execution_count": 9,
   "id": "0c66cb4d-f9e4-4020-ad18-af81b3985b69",
   "metadata": {},
   "outputs": [
    {
     "name": "stdout",
     "output_type": "stream",
     "text": [
      "   edad                             educ   sexo condicion_empleo  \\\n",
      "0  79.0            Secundaria Incompleta  Varón         Inactivo   \n",
      "1  67.0                Primaria Completa  Mujer          Ocupado   \n",
      "2  74.0                Primaria Completa  Mujer         Inactivo   \n",
      "3  54.0                Primaria Completa  Varón          Ocupado   \n",
      "4  51.0  Superior Universitaria Completa  Mujer         Inactivo   \n",
      "\n",
      "   salario_semanal  \n",
      "0              0.0  \n",
      "1              0.0  \n",
      "2              0.0  \n",
      "3           2000.0  \n",
      "4              0.0  \n"
     ]
    }
   ],
   "source": [
    "print(df_2004.head())"
   ]
  },
  {
   "cell_type": "code",
   "execution_count": 13,
   "id": "dc08b9bf-5cd2-43a8-b42c-a01c91b5d938",
   "metadata": {},
   "outputs": [
    {
     "name": "stdout",
     "output_type": "stream",
     "text": [
      "   edad  educ  sexo  condicion_empleo  salario_semanal\n",
      "0    44     3     2                 1               -9\n",
      "1    22     5     2                 3                0\n",
      "2     3     7     2                 4                0\n",
      "3    54     4     1                 1           250000\n",
      "4    53     4     2                 1           200000\n"
     ]
    }
   ],
   "source": [
    "print(df_2024.head())"
   ]
  },
  {
   "cell_type": "code",
   "execution_count": 23,
   "id": "baccdc90-6410-4010-ae1e-9aa79c54099d",
   "metadata": {},
   "outputs": [
    {
     "data": {
      "text/plain": [
       "['condicion_empleo']"
      ]
     },
     "execution_count": 23,
     "metadata": {},
     "output_type": "execute_result"
    }
   ],
   "source": [
    "[col for col in df_2004.columns if 'condicion' in col.lower() or 'actividad' in col.lower()]"
   ]
  },
  {
   "cell_type": "code",
   "execution_count": 25,
   "id": "5446db21-d162-405f-b805-09c4e28ad1fd",
   "metadata": {},
   "outputs": [
    {
     "name": "stdout",
     "output_type": "stream",
     "text": [
      "  condicion_empleo\n",
      "0         Inactivo\n",
      "1          Ocupado\n",
      "2         Inactivo\n",
      "3          Ocupado\n",
      "4         Inactivo\n"
     ]
    }
   ],
   "source": [
    "cols = [col for col in df_2004.columns if 'condicion' in col.lower() or 'actividad' in col.lower()]\n",
    "print(df_2004[cols].head())"
   ]
  },
  {
   "cell_type": "code",
   "execution_count": 27,
   "id": "218b80ba-8267-4fbf-a141-ae18c70c9ff0",
   "metadata": {},
   "outputs": [
    {
     "name": "stdout",
     "output_type": "stream",
     "text": [
      "['Inactivo', 'Ocupado', 'Desocupado', 'Menor de 10 años', 'Entrevista individual no realizada (no respue...]\n",
      "Categories (5, object): ['Entrevista individual no realizada (no respue... < 'Ocupado' < 'Desocupado' < 'Inactivo' < 'Menor de 10 años']\n"
     ]
    }
   ],
   "source": [
    "print(df_2004['condicion_empleo'].unique())"
   ]
  },
  {
   "cell_type": "code",
   "execution_count": 29,
   "id": "c26459d1-5dc1-489b-b873-e9e9229e1aa1",
   "metadata": {},
   "outputs": [],
   "source": [
    "df_2004['desocupado'] = df_2004['condicion_empleo'].apply(lambda x: 1 if x == 'Desocupado' else 0)\n",
    "df_2024['desocupado'] = df_2024['condicion_empleo'].apply(lambda x: 1 if x == 'Desocupado' else 0)"
   ]
  },
  {
   "cell_type": "code",
   "execution_count": 15,
   "id": "0aace682-3c3b-4cac-a386-b51090092ec6",
   "metadata": {},
   "outputs": [
    {
     "name": "stdout",
     "output_type": "stream",
     "text": [
      "Valores únicos en df_2004['condicion_empleo']:\n",
      "['Inactivo', 'Ocupado', 'Desocupado', 'Menor de 10 años', 'Entrevista individual no realizada (no respue...]\n",
      "Categories (5, object): ['Entrevista individual no realizada (no respue... < 'Ocupado' < 'Desocupado' < 'Inactivo' < 'Menor de 10 años']\n",
      "\n",
      "Valores únicos en df_2024['condicion_empleo']:\n",
      "[1 3 4 2 0]\n"
     ]
    }
   ],
   "source": [
    "print(\"Valores únicos en df_2004['condicion_empleo']:\")\n",
    "print(df_2004['condicion_empleo'].unique())\n",
    "\n",
    "print(\"\\nValores únicos en df_2024['condicion_empleo']:\")\n",
    "print(df_2024['condicion_empleo'].unique())"
   ]
  },
  {
   "cell_type": "code",
   "execution_count": 33,
   "id": "2f8cba04-13c8-438f-917d-9051c9d84c3e",
   "metadata": {},
   "outputs": [
    {
     "name": "stdout",
     "output_type": "stream",
     "text": [
      "Diferencia de medias entre train y test para 2004:\n",
      "                 media_train  media_test  diferencia\n",
      "edad               31.300612   31.522558   -0.221946\n",
      "educ                2.401710    2.403400   -0.001691\n",
      "sexo                0.524163    0.521086    0.003076\n",
      "salario_semanal   196.206422  195.092000    1.114423\n",
      "\n",
      "Diferencia de medias entre train y test para 2024:\n",
      "                   media_train     media_test   diferencia\n",
      "edad                 36.355824      36.147738     0.208086\n",
      "educ                  3.751450       3.731813     0.019637\n",
      "sexo                  1.521793       1.515092     0.006701\n",
      "salario_semanal  110175.317729  108044.356279  2130.961450\n"
     ]
    }
   ],
   "source": [
    "import pandas as pd\n",
    "from sklearn.model_selection import train_test_split\n",
    "\n",
    "# Variables independientes que querés usar (ejemplo, ajustá según tus variables)\n",
    "variables_indep = ['edad', 'educ', 'sexo', 'salario_semanal']\n",
    "\n",
    "def preparar_X_num(df, vars_indep):\n",
    "    X = df[vars_indep].copy()\n",
    "    for col in X.select_dtypes(include=['category', 'object']).columns:\n",
    "        X[col] = X[col].astype('category').cat.codes\n",
    "    X['const'] = 1\n",
    "    return X\n",
    "\n",
    "# Preparar X e y para 2004\n",
    "X_2004 = preparar_X_num(df_2004, variables_indep)\n",
    "y_2004 = df_2004['desocupado']\n",
    "\n",
    "# Split 2004\n",
    "X_train_2004, X_test_2004, y_train_2004, y_test_2004 = train_test_split(\n",
    "    X_2004, y_2004, test_size=0.3, random_state=444)\n",
    "\n",
    "train_2004 = X_train_2004.copy()\n",
    "train_2004['desocupado'] = y_train_2004\n",
    "test_2004 = X_test_2004.copy()\n",
    "test_2004['desocupado'] = y_test_2004\n",
    "\n",
    "diff_medias_2004 = pd.DataFrame({\n",
    "    'media_train': train_2004[variables_indep].mean(),\n",
    "    'media_test': test_2004[variables_indep].mean()\n",
    "})\n",
    "diff_medias_2004['diferencia'] = diff_medias_2004['media_train'] - diff_medias_2004['media_test']\n",
    "\n",
    "print(\"Diferencia de medias entre train y test para 2004:\")\n",
    "print(diff_medias_2004)\n",
    "\n",
    "# Preparar X e y para 2024\n",
    "X_2024 = preparar_X_num(df_2024, variables_indep)\n",
    "y_2024 = df_2024['desocupado']\n",
    "\n",
    "# Split 2024\n",
    "X_train_2024, X_test_2024, y_train_2024, y_test_2024 = train_test_split(\n",
    "    X_2024, y_2024, test_size=0.3, random_state=444)\n",
    "\n",
    "train_2024 = X_train_2024.copy()\n",
    "train_2024['desocupado'] = y_train_2024\n",
    "test_2024 = X_test_2024.copy()\n",
    "test_2024['desocupado'] = y_test_2024\n",
    "\n",
    "diff_medias_2024 = pd.DataFrame({\n",
    "    'media_train': train_2024[variables_indep].mean(),\n",
    "    'media_test': test_2024[variables_indep].mean()\n",
    "})\n",
    "diff_medias_2024['diferencia'] = diff_medias_2024['media_train'] - diff_medias_2024['media_test']\n",
    "\n",
    "print(\"\\nDiferencia de medias entre train y test para 2024:\")\n",
    "print(diff_medias_2024)"
   ]
  },
  {
   "cell_type": "code",
   "execution_count": 45,
   "id": "bfbe27d9-04e0-401b-9c33-d1ad3170f0a2",
   "metadata": {},
   "outputs": [],
   "source": [
    "import matplotlib.pyplot as plt\n",
    "import pandas as pd\n",
    "\n",
    "# Supongamos que diff_medias_2004 y diff_medias_2024 son tus DataFrames\n",
    "\n",
    "# Primero creamos un DataFrame para cada año:\n",
    "diff_medias_2004 = pd.DataFrame({\n",
    "    'media_train': [31.300612, 2.401710, 0.524163, 196.206422],\n",
    "    'media_test': [31.522558, 2.403400, 0.521086, 195.092000],\n",
    "    'diferencia': [-0.221946, -0.001691, 0.003076, 1.114423]\n",
    "}, index=['edad', 'educ', 'sexo', 'salario_semanal'])\n",
    "\n",
    "diff_medias_2024 = pd.DataFrame({\n",
    "    'media_train': [36.355824, 3.751450, 1.521793, 110175.317729],\n",
    "    'media_test': [36.147738, 3.731813, 1.515092, 108044.356279],\n",
    "    'diferencia': [0.208086, 0.019637, 0.006701, 2130.961450]\n",
    "}, index=['edad', 'educ', 'sexo', 'salario_semanal'])\n",
    "\n",
    "def save_table_as_image(df, filename):\n",
    "    fig, ax = plt.subplots(figsize=(8, 2)) # Ajusta tamaño si querés\n",
    "    ax.axis('off')\n",
    "    tabla = ax.table(cellText=df.round(6).values,\n",
    "                     colLabels=df.columns,\n",
    "                     rowLabels=df.index,\n",
    "                     cellLoc='center',\n",
    "                     loc='center')\n",
    "    tabla.auto_set_font_size(False)\n",
    "    tabla.set_fontsize(10)\n",
    "    tabla.auto_set_column_width([0,1,2,3])\n",
    "    plt.savefig(filename, bbox_inches='tight')\n",
    "    plt.close()\n",
    "\n",
    "# Guardar ambas tablas como imagen PNG\n",
    "save_table_as_image(diff_medias_2004, 'diff_medias_2004.png')\n",
    "save_table_as_image(diff_medias_2024, 'diff_medias_2024.png')"
   ]
  },
  {
   "cell_type": "code",
   "execution_count": 19,
   "id": "a0f54fb5-d3e6-4f44-80f3-6b23ed421482",
   "metadata": {},
   "outputs": [],
   "source": [
    "df_2004 = df_2004.rename(columns={'ESTADO_ACTIVIDAD_2004': 'condicion_actividad'})\n",
    "df_2024 = df_2024.rename(columns={'ESTADO_ACTIVIDAD_2024': 'condicion_actividad'})"
   ]
  },
  {
   "cell_type": "code",
   "execution_count": 21,
   "id": "756e8c14-350b-4e22-9b19-0fcac5fdb5e4",
   "metadata": {},
   "outputs": [
    {
     "name": "stdout",
     "output_type": "stream",
     "text": [
      "Index(['edad', 'educ', 'sexo', 'condicion_empleo', 'salario_semanal'], dtype='object')\n",
      "Index(['edad', 'educ', 'sexo', 'condicion_empleo', 'salario_semanal'], dtype='object')\n"
     ]
    }
   ],
   "source": [
    "print(df_2004.columns)\n",
    "print(df_2024.columns)\n"
   ]
  },
  {
   "cell_type": "code",
   "execution_count": 27,
   "id": "a933e504-70d6-45a1-9ee9-33fb22a77052",
   "metadata": {},
   "outputs": [
    {
     "ename": "NameError",
     "evalue": "name 'df_2004_original' is not defined",
     "output_type": "error",
     "traceback": [
      "\u001b[1;31m---------------------------------------------------------------------------\u001b[0m",
      "\u001b[1;31mNameError\u001b[0m                                 Traceback (most recent call last)",
      "Cell \u001b[1;32mIn[27], line 1\u001b[0m\n\u001b[1;32m----> 1\u001b[0m \u001b[38;5;28mprint\u001b[39m(df_2004_original\u001b[38;5;241m.\u001b[39mcolumns)\n\u001b[0;32m      2\u001b[0m \u001b[38;5;28mprint\u001b[39m(df_2024_original\u001b[38;5;241m.\u001b[39mcolumns)\n",
      "\u001b[1;31mNameError\u001b[0m: name 'df_2004_original' is not defined"
     ]
    }
   ],
   "source": [
    "print(df_2004_original.columns)\n",
    "print(df_2024_original.columns)"
   ]
  },
  {
   "cell_type": "code",
   "execution_count": 31,
   "id": "56bd1e93-7399-4c71-bf52-02f1507c14d2",
   "metadata": {},
   "outputs": [],
   "source": [
    "df_2004 = pd.read_stata(r\"C:\\Users\\Gustavo\\Documents\\GitHub\\BigDataUBA-Grupo26\\TP 4\\t104_dta\\Individual_t104.dta\")\n",
    "df_2024 = pd.read_excel(r\"C:\\Users\\Gustavo\\Documents\\GitHub\\BigDataUBA-Grupo26\\TP 4\\EPH_usu_1_Trim_2024_xls\\EPH_usu_1er_Trim_2024_xlsx\\usu_individual_T124.xlsx\")"
   ]
  },
  {
   "cell_type": "code",
   "execution_count": 33,
   "id": "69d0f716-c942-4c12-8029-56dccbe58679",
   "metadata": {},
   "outputs": [
    {
     "name": "stdout",
     "output_type": "stream",
     "text": [
      "Index(['CODUSU', 'nro_hogar', 'componente', 'h15', 'ano4', 'trimestre',\n",
      "       'region', 'mas_500', 'aglomerado', 'pondera',\n",
      "       ...\n",
      "       'deccfr', 'ideccfr', 'rdeccfr', 'gdeccfr', 'pdeccfr', 'adeccfr',\n",
      "       'pj1_1', 'pj2_1', 'pj3_1', 'idimpp'],\n",
      "      dtype='object', length=176)\n",
      "Index(['CODUSU', 'ANO4', 'TRIMESTRE', 'NRO_HOGAR', 'COMPONENTE', 'H15',\n",
      "       'REGION', 'MAS_500', 'AGLOMERADO', 'PONDERA',\n",
      "       ...\n",
      "       'PDECIFR', 'ADECIFR', 'IPCF', 'DECCFR', 'IDECCFR', 'RDECCFR', 'GDECCFR',\n",
      "       'PDECCFR', 'ADECCFR', 'PONDIH'],\n",
      "      dtype='object', length=177)\n"
     ]
    }
   ],
   "source": [
    "print(df_2004.columns)\n",
    "print(df_2024.columns)"
   ]
  },
  {
   "cell_type": "code",
   "execution_count": 35,
   "id": "70c3ed79-04af-4797-9fb8-a28eddf299c8",
   "metadata": {},
   "outputs": [],
   "source": [
    "# Pasar todos los nombres de columnas a minúsculas\n",
    "df_2004.columns = df_2004.columns.str.lower()\n",
    "df_2024.columns = df_2024.columns.str.lower()\n",
    "\n",
    "# Renombrar columnas clave para que coincidan (asegurate de poner el nombre correcto de cada año)\n",
    "df_2004 = df_2004.rename(columns={\n",
    "    'ch06': 'edad',\n",
    "    'nivel_ed': 'educ',\n",
    "    'ch04': 'sexo',\n",
    "    'cat_ocup': 'condicion_empleo',\n",
    "    'p21': 'salario_semanal'\n",
    "})\n",
    "\n",
    "df_2024 = df_2024.rename(columns={\n",
    "    'ch06': 'edad',          # o 'ch06' o 'ch06' según el dataset, verificá cuál es\n",
    "    'nivel_ed': 'educ',      # adaptá el nombre correcto\n",
    "    'ch04': 'sexo',\n",
    "    'cat_ocup': 'condicion_empleo',\n",
    "    'p21': 'salario_semanal'\n",
    "})\n",
    "\n",
    "# Definir las columnas que querés usar\n",
    "variables = ['edad', 'educ', 'sexo', 'condicion_empleo', 'salario_semanal']\n",
    "\n",
    "# Seleccionar solo esas columnas en cada dataframe\n",
    "df_2004 = df_2004[variables]\n",
    "df_2024 = df_2024[variables]"
   ]
  },
  {
   "cell_type": "code",
   "execution_count": 37,
   "id": "ddd93196-8156-44ca-b66c-0737a2e40949",
   "metadata": {},
   "outputs": [
    {
     "name": "stdout",
     "output_type": "stream",
     "text": [
      "Columnas df_2004:\n",
      "['edad', 'educ', 'sexo', 'condicion_empleo', 'salario_semanal']\n",
      "\n",
      "Columnas df_2024:\n",
      "['edad', 'educ', 'sexo', 'condicion_empleo', 'salario_semanal']\n"
     ]
    }
   ],
   "source": [
    "# Pasar todas las columnas a minúsculas\n",
    "df_2004.columns = df_2004.columns.str.lower()\n",
    "df_2024.columns = df_2024.columns.str.lower()\n",
    "\n",
    "# Mostrar las columnas de cada dataframe para que verifiques los nombres exactos\n",
    "print(\"Columnas df_2004:\")\n",
    "print(df_2004.columns.to_list())\n",
    "\n",
    "print(\"\\nColumnas df_2024:\")\n",
    "print(df_2024.columns.to_list())"
   ]
  },
  {
   "cell_type": "code",
   "execution_count": 39,
   "id": "d2636315-b798-4423-86ff-e9e8bfc7c67d",
   "metadata": {},
   "outputs": [
    {
     "name": "stdout",
     "output_type": "stream",
     "text": [
      "['condicion_empleo']\n",
      "['condicion_empleo']\n"
     ]
    }
   ],
   "source": [
    "print([col for col in df_2004.columns if 'cond' in col or 'act' in col])\n",
    "print([col for col in df_2024.columns if 'cond' in col or 'act' in col])"
   ]
  },
  {
   "cell_type": "code",
   "execution_count": 41,
   "id": "10d6647e-21d5-4436-8ef0-6480a5d714f1",
   "metadata": {},
   "outputs": [
    {
     "name": "stdout",
     "output_type": "stream",
     "text": [
      "0              0.0\n",
      "1    Cuenta propia\n",
      "2              0.0\n",
      "3    Cuenta propia\n",
      "4              0.0\n",
      "5    Cuenta propia\n",
      "6    Cuenta propia\n",
      "7    Cuenta propia\n",
      "8              0.0\n",
      "9              0.0\n",
      "Name: condicion_empleo, dtype: category\n",
      "Categories (5, object): [0.0 < 'Patrón' < 'Cuenta propia' < 'Obrero o empleado' < 'Trabajador familiar sin remuneración']\n",
      "0    3\n",
      "1    0\n",
      "2    0\n",
      "3    3\n",
      "4    3\n",
      "5    3\n",
      "6    3\n",
      "7    0\n",
      "8    3\n",
      "9    3\n",
      "Name: condicion_empleo, dtype: int64\n"
     ]
    }
   ],
   "source": [
    "print(df_2004['condicion_empleo'].head(10))\n",
    "print(df_2024['condicion_empleo'].head(10))"
   ]
  },
  {
   "cell_type": "code",
   "execution_count": 43,
   "id": "685de3dd-978b-4ef6-ad18-8164aa50f459",
   "metadata": {
    "scrolled": true
   },
   "outputs": [
    {
     "name": "stdout",
     "output_type": "stream",
     "text": [
      "['condicion_empleo']\n",
      "['condicion_empleo']\n"
     ]
    }
   ],
   "source": [
    "# Mostrar columnas que pueden tener \"condicion\" o \"actividad\" en su nombre, para buscar algo parecido\n",
    "print([col for col in df_2004.columns if 'condicion' in col.lower() or 'actividad' in col.lower()])\n",
    "print([col for col in df_2024.columns if 'condicion' in col.lower() or 'actividad' in col.lower()])"
   ]
  },
  {
   "cell_type": "code",
   "execution_count": 45,
   "id": "75391a78-8994-4606-8014-88ec0b3b6e4f",
   "metadata": {},
   "outputs": [
    {
     "name": "stdout",
     "output_type": "stream",
     "text": [
      "   edad                             educ   sexo condicion_empleo  \\\n",
      "0  79.0            Secundaria Incompleta  Varón              0.0   \n",
      "1  67.0                Primaria Completa  Mujer    Cuenta propia   \n",
      "2  74.0                Primaria Completa  Mujer              0.0   \n",
      "3  54.0                Primaria Completa  Varón    Cuenta propia   \n",
      "4  51.0  Superior Universitaria Completa  Mujer              0.0   \n",
      "\n",
      "   salario_semanal  \n",
      "0              0.0  \n",
      "1              0.0  \n",
      "2              0.0  \n",
      "3           2000.0  \n",
      "4              0.0  \n",
      "   edad  educ  sexo  condicion_empleo  salario_semanal\n",
      "0    44     3     2                 3               -9\n",
      "1    22     5     2                 0                0\n",
      "2     3     7     2                 0                0\n",
      "3    54     4     1                 3           250000\n",
      "4    53     4     2                 3           200000\n"
     ]
    }
   ],
   "source": [
    "print(df_2004.head())\n",
    "print(df_2024.head())"
   ]
  },
  {
   "cell_type": "code",
   "execution_count": 23,
   "id": "927ef49f-79e7-4274-ab27-ac435dba7a95",
   "metadata": {},
   "outputs": [
    {
     "ename": "KeyError",
     "evalue": "'condicion_actividad'",
     "output_type": "error",
     "traceback": [
      "\u001b[1;31m---------------------------------------------------------------------------\u001b[0m",
      "\u001b[1;31mKeyError\u001b[0m                                  Traceback (most recent call last)",
      "File \u001b[1;32m~\\anaconda3\\Lib\\site-packages\\pandas\\core\\indexes\\base.py:3805\u001b[0m, in \u001b[0;36mIndex.get_loc\u001b[1;34m(self, key)\u001b[0m\n\u001b[0;32m   3804\u001b[0m \u001b[38;5;28;01mtry\u001b[39;00m:\n\u001b[1;32m-> 3805\u001b[0m     \u001b[38;5;28;01mreturn\u001b[39;00m \u001b[38;5;28mself\u001b[39m\u001b[38;5;241m.\u001b[39m_engine\u001b[38;5;241m.\u001b[39mget_loc(casted_key)\n\u001b[0;32m   3806\u001b[0m \u001b[38;5;28;01mexcept\u001b[39;00m \u001b[38;5;167;01mKeyError\u001b[39;00m \u001b[38;5;28;01mas\u001b[39;00m err:\n",
      "File \u001b[1;32mindex.pyx:167\u001b[0m, in \u001b[0;36mpandas._libs.index.IndexEngine.get_loc\u001b[1;34m()\u001b[0m\n",
      "File \u001b[1;32mindex.pyx:196\u001b[0m, in \u001b[0;36mpandas._libs.index.IndexEngine.get_loc\u001b[1;34m()\u001b[0m\n",
      "File \u001b[1;32mpandas\\\\_libs\\\\hashtable_class_helper.pxi:7081\u001b[0m, in \u001b[0;36mpandas._libs.hashtable.PyObjectHashTable.get_item\u001b[1;34m()\u001b[0m\n",
      "File \u001b[1;32mpandas\\\\_libs\\\\hashtable_class_helper.pxi:7089\u001b[0m, in \u001b[0;36mpandas._libs.hashtable.PyObjectHashTable.get_item\u001b[1;34m()\u001b[0m\n",
      "\u001b[1;31mKeyError\u001b[0m: 'condicion_actividad'",
      "\nThe above exception was the direct cause of the following exception:\n",
      "\u001b[1;31mKeyError\u001b[0m                                  Traceback (most recent call last)",
      "Cell \u001b[1;32mIn[23], line 7\u001b[0m\n\u001b[0;32m      4\u001b[0m     df[\u001b[38;5;124m'\u001b[39m\u001b[38;5;124mdesocupado\u001b[39m\u001b[38;5;124m'\u001b[39m] \u001b[38;5;241m=\u001b[39m df[\u001b[38;5;124m'\u001b[39m\u001b[38;5;124mcondicion_actividad\u001b[39m\u001b[38;5;124m'\u001b[39m]\u001b[38;5;241m.\u001b[39mapply(\u001b[38;5;28;01mlambda\u001b[39;00m x: \u001b[38;5;241m1\u001b[39m \u001b[38;5;28;01mif\u001b[39;00m x \u001b[38;5;241m==\u001b[39m \u001b[38;5;241m2\u001b[39m \u001b[38;5;28;01melse\u001b[39;00m \u001b[38;5;241m0\u001b[39m)\n\u001b[0;32m      5\u001b[0m     \u001b[38;5;28;01mreturn\u001b[39;00m df\n\u001b[1;32m----> 7\u001b[0m df_2004 \u001b[38;5;241m=\u001b[39m crear_desocupado(df_2004)\n\u001b[0;32m      8\u001b[0m df_2024 \u001b[38;5;241m=\u001b[39m crear_desocupado(df_2024)\n",
      "Cell \u001b[1;32mIn[23], line 4\u001b[0m, in \u001b[0;36mcrear_desocupado\u001b[1;34m(df)\u001b[0m\n\u001b[0;32m      1\u001b[0m \u001b[38;5;28;01mdef\u001b[39;00m \u001b[38;5;21mcrear_desocupado\u001b[39m(df):\n\u001b[0;32m      2\u001b[0m     \u001b[38;5;66;03m# Asumiendo que la variable con estado de actividad se llama 'condicion_actividad'\u001b[39;00m\n\u001b[0;32m      3\u001b[0m     df \u001b[38;5;241m=\u001b[39m df\u001b[38;5;241m.\u001b[39mcopy()\n\u001b[1;32m----> 4\u001b[0m     df[\u001b[38;5;124m'\u001b[39m\u001b[38;5;124mdesocupado\u001b[39m\u001b[38;5;124m'\u001b[39m] \u001b[38;5;241m=\u001b[39m df[\u001b[38;5;124m'\u001b[39m\u001b[38;5;124mcondicion_actividad\u001b[39m\u001b[38;5;124m'\u001b[39m]\u001b[38;5;241m.\u001b[39mapply(\u001b[38;5;28;01mlambda\u001b[39;00m x: \u001b[38;5;241m1\u001b[39m \u001b[38;5;28;01mif\u001b[39;00m x \u001b[38;5;241m==\u001b[39m \u001b[38;5;241m2\u001b[39m \u001b[38;5;28;01melse\u001b[39;00m \u001b[38;5;241m0\u001b[39m)\n\u001b[0;32m      5\u001b[0m     \u001b[38;5;28;01mreturn\u001b[39;00m df\n",
      "File \u001b[1;32m~\\anaconda3\\Lib\\site-packages\\pandas\\core\\frame.py:4102\u001b[0m, in \u001b[0;36mDataFrame.__getitem__\u001b[1;34m(self, key)\u001b[0m\n\u001b[0;32m   4100\u001b[0m \u001b[38;5;28;01mif\u001b[39;00m \u001b[38;5;28mself\u001b[39m\u001b[38;5;241m.\u001b[39mcolumns\u001b[38;5;241m.\u001b[39mnlevels \u001b[38;5;241m>\u001b[39m \u001b[38;5;241m1\u001b[39m:\n\u001b[0;32m   4101\u001b[0m     \u001b[38;5;28;01mreturn\u001b[39;00m \u001b[38;5;28mself\u001b[39m\u001b[38;5;241m.\u001b[39m_getitem_multilevel(key)\n\u001b[1;32m-> 4102\u001b[0m indexer \u001b[38;5;241m=\u001b[39m \u001b[38;5;28mself\u001b[39m\u001b[38;5;241m.\u001b[39mcolumns\u001b[38;5;241m.\u001b[39mget_loc(key)\n\u001b[0;32m   4103\u001b[0m \u001b[38;5;28;01mif\u001b[39;00m is_integer(indexer):\n\u001b[0;32m   4104\u001b[0m     indexer \u001b[38;5;241m=\u001b[39m [indexer]\n",
      "File \u001b[1;32m~\\anaconda3\\Lib\\site-packages\\pandas\\core\\indexes\\base.py:3812\u001b[0m, in \u001b[0;36mIndex.get_loc\u001b[1;34m(self, key)\u001b[0m\n\u001b[0;32m   3807\u001b[0m     \u001b[38;5;28;01mif\u001b[39;00m \u001b[38;5;28misinstance\u001b[39m(casted_key, \u001b[38;5;28mslice\u001b[39m) \u001b[38;5;129;01mor\u001b[39;00m (\n\u001b[0;32m   3808\u001b[0m         \u001b[38;5;28misinstance\u001b[39m(casted_key, abc\u001b[38;5;241m.\u001b[39mIterable)\n\u001b[0;32m   3809\u001b[0m         \u001b[38;5;129;01mand\u001b[39;00m \u001b[38;5;28many\u001b[39m(\u001b[38;5;28misinstance\u001b[39m(x, \u001b[38;5;28mslice\u001b[39m) \u001b[38;5;28;01mfor\u001b[39;00m x \u001b[38;5;129;01min\u001b[39;00m casted_key)\n\u001b[0;32m   3810\u001b[0m     ):\n\u001b[0;32m   3811\u001b[0m         \u001b[38;5;28;01mraise\u001b[39;00m InvalidIndexError(key)\n\u001b[1;32m-> 3812\u001b[0m     \u001b[38;5;28;01mraise\u001b[39;00m \u001b[38;5;167;01mKeyError\u001b[39;00m(key) \u001b[38;5;28;01mfrom\u001b[39;00m \u001b[38;5;21;01merr\u001b[39;00m\n\u001b[0;32m   3813\u001b[0m \u001b[38;5;28;01mexcept\u001b[39;00m \u001b[38;5;167;01mTypeError\u001b[39;00m:\n\u001b[0;32m   3814\u001b[0m     \u001b[38;5;66;03m# If we have a listlike key, _check_indexing_error will raise\u001b[39;00m\n\u001b[0;32m   3815\u001b[0m     \u001b[38;5;66;03m#  InvalidIndexError. Otherwise we fall through and re-raise\u001b[39;00m\n\u001b[0;32m   3816\u001b[0m     \u001b[38;5;66;03m#  the TypeError.\u001b[39;00m\n\u001b[0;32m   3817\u001b[0m     \u001b[38;5;28mself\u001b[39m\u001b[38;5;241m.\u001b[39m_check_indexing_error(key)\n",
      "\u001b[1;31mKeyError\u001b[0m: 'condicion_actividad'"
     ]
    }
   ],
   "source": [
    "def crear_desocupado(df):\n",
    "    # Asumiendo que la variable con estado de actividad se llama 'condicion_actividad'\n",
    "    df = df.copy()\n",
    "    df['desocupado'] = df['condicion_actividad'].apply(lambda x: 1 if x == 2 else 0)\n",
    "    return df\n",
    "\n",
    "df_2004 = crear_desocupado(df_2004)\n",
    "df_2024 = crear_desocupado(df_2024)"
   ]
  },
  {
   "cell_type": "code",
   "execution_count": 15,
   "id": "83abe42f-4a3b-44ed-9bae-7c234b3074ac",
   "metadata": {},
   "outputs": [
    {
     "name": "stdout",
     "output_type": "stream",
     "text": [
      "Columnas df_2004: ['edad', 'educ', 'sexo', 'condicion_empleo', 'salario_semanal']\n",
      "Columnas df_2024: ['edad', 'educ', 'sexo', 'condicion_empleo', 'salario_semanal']\n"
     ]
    }
   ],
   "source": [
    "# Renombrar columnas en df_2004\n",
    "df_2004 = df_2004.rename(columns={\n",
    "    'ch03': 'edad',\n",
    "    'nivel_ed': 'educ',\n",
    "    'ch04': 'sexo',\n",
    "    'cat_ocup': 'condicion_empleo',\n",
    "    'p21': 'salario_semanal'\n",
    "})\n",
    "\n",
    "# Renombrar columnas en df_2024\n",
    "df_2024 = df_2024.rename(columns={\n",
    "    'CH03': 'edad',\n",
    "    'NIVEL_ED': 'educ',\n",
    "    'CH04': 'sexo',\n",
    "    'CAT_OCUP': 'condicion_empleo',\n",
    "    'P21': 'salario_semanal'\n",
    "})\n",
    "\n",
    "# Variables que vamos a usar\n",
    "variables = ['edad', 'educ', 'sexo', 'condicion_empleo', 'salario_semanal']\n",
    "\n",
    "# Seleccionar columnas para cada dataframe\n",
    "df_2004 = df_2004[variables]\n",
    "df_2024 = df_2024[variables]\n",
    "\n",
    "# Mostrar columnas para verificar\n",
    "print(\"Columnas df_2004:\", df_2004.columns.tolist())\n",
    "print(\"Columnas df_2024:\", df_2024.columns.tolist())"
   ]
  },
  {
   "cell_type": "code",
   "execution_count": 17,
   "id": "98634b73-dcd2-4437-b107-00be8c82a0aa",
   "metadata": {},
   "outputs": [],
   "source": [
    "def crear_variables(df):\n",
    "    df = df.copy()\n",
    "\n",
    "    # Edad\n",
    "    if 'CH06' in df.columns:\n",
    "        edad_col = 'CH06'\n",
    "    elif 'ch06' in df.columns:\n",
    "        edad_col = 'ch06'\n",
    "    else:\n",
    "        edad_col = None\n",
    "\n",
    "    if edad_col:\n",
    "        if pd.api.types.is_categorical_dtype(df[edad_col]):\n",
    "            df['edad'] = pd.to_numeric(df[edad_col].astype(str), errors='coerce')\n",
    "        else:\n",
    "            df['edad'] = pd.to_numeric(df[edad_col], errors='coerce')\n",
    "\n",
    "    # Sexo\n",
    "    if 'CH04' in df.columns:\n",
    "        sexo_col = 'CH04'\n",
    "    elif 'ch04' in df.columns:\n",
    "        sexo_col = 'ch04'\n",
    "    else:\n",
    "        sexo_col = None\n",
    "\n",
    "    if sexo_col:\n",
    "        df['sexo'] = pd.to_numeric(df[sexo_col], errors='coerce')\n",
    "\n",
    "    # Educación\n",
    "    if 'NIVEL_ED' in df.columns:\n",
    "        educ_col = 'NIVEL_ED'\n",
    "    elif 'nivel_ed' in df.columns:\n",
    "        educ_col = 'nivel_ed'\n",
    "    else:\n",
    "        educ_col = None\n",
    "\n",
    "    if educ_col:\n",
    "        df['educ'] = pd.to_numeric(df[educ_col], errors='coerce')\n",
    "\n",
    "    # Condición de empleo\n",
    "    if 'ESTADO' in df.columns:\n",
    "        df['condicion_empleo'] = df['ESTADO']\n",
    "    elif 'estado' in df.columns:\n",
    "        df['condicion_empleo'] = df['estado']\n",
    "\n",
    "    # Salario semanal\n",
    "    if 'P21' in df.columns:\n",
    "        df['salario_semanal'] = pd.to_numeric(df['P21'], errors='coerce')\n",
    "    elif 'p21' in df.columns:\n",
    "        df['salario_semanal'] = pd.to_numeric(df['p21'], errors='coerce')\n",
    "\n",
    "    # Variables derivadas\n",
    "    df['edad2'] = df['edad'] ** 2\n",
    "    df['mujer'] = df['sexo'].apply(lambda x: 1 if x == 2 else 0)\n",
    "    df['educ_alta'] = (df['educ'] > 12).astype(int)\n",
    "\n",
    "    return df"
   ]
  },
  {
   "cell_type": "code",
   "execution_count": 19,
   "id": "486a8beb-c6cf-44a4-b336-db94e60b18bb",
   "metadata": {},
   "outputs": [
    {
     "ename": "KeyError",
     "evalue": "'CH06'",
     "output_type": "error",
     "traceback": [
      "\u001b[1;31m---------------------------------------------------------------------------\u001b[0m",
      "\u001b[1;31mKeyError\u001b[0m                                  Traceback (most recent call last)",
      "File \u001b[1;32m~\\anaconda3\\Lib\\site-packages\\pandas\\core\\indexes\\base.py:3805\u001b[0m, in \u001b[0;36mIndex.get_loc\u001b[1;34m(self, key)\u001b[0m\n\u001b[0;32m   3804\u001b[0m \u001b[38;5;28;01mtry\u001b[39;00m:\n\u001b[1;32m-> 3805\u001b[0m     \u001b[38;5;28;01mreturn\u001b[39;00m \u001b[38;5;28mself\u001b[39m\u001b[38;5;241m.\u001b[39m_engine\u001b[38;5;241m.\u001b[39mget_loc(casted_key)\n\u001b[0;32m   3806\u001b[0m \u001b[38;5;28;01mexcept\u001b[39;00m \u001b[38;5;167;01mKeyError\u001b[39;00m \u001b[38;5;28;01mas\u001b[39;00m err:\n",
      "File \u001b[1;32mindex.pyx:167\u001b[0m, in \u001b[0;36mpandas._libs.index.IndexEngine.get_loc\u001b[1;34m()\u001b[0m\n",
      "File \u001b[1;32mindex.pyx:196\u001b[0m, in \u001b[0;36mpandas._libs.index.IndexEngine.get_loc\u001b[1;34m()\u001b[0m\n",
      "File \u001b[1;32mpandas\\\\_libs\\\\hashtable_class_helper.pxi:7081\u001b[0m, in \u001b[0;36mpandas._libs.hashtable.PyObjectHashTable.get_item\u001b[1;34m()\u001b[0m\n",
      "File \u001b[1;32mpandas\\\\_libs\\\\hashtable_class_helper.pxi:7089\u001b[0m, in \u001b[0;36mpandas._libs.hashtable.PyObjectHashTable.get_item\u001b[1;34m()\u001b[0m\n",
      "\u001b[1;31mKeyError\u001b[0m: 'CH06'",
      "\nThe above exception was the direct cause of the following exception:\n",
      "\u001b[1;31mKeyError\u001b[0m                                  Traceback (most recent call last)",
      "Cell \u001b[1;32mIn[19], line 1\u001b[0m\n\u001b[1;32m----> 1\u001b[0m \u001b[38;5;28mtype\u001b[39m(df_2004[\u001b[38;5;124m'\u001b[39m\u001b[38;5;124mCH06\u001b[39m\u001b[38;5;124m'\u001b[39m])\n",
      "File \u001b[1;32m~\\anaconda3\\Lib\\site-packages\\pandas\\core\\frame.py:4102\u001b[0m, in \u001b[0;36mDataFrame.__getitem__\u001b[1;34m(self, key)\u001b[0m\n\u001b[0;32m   4100\u001b[0m \u001b[38;5;28;01mif\u001b[39;00m \u001b[38;5;28mself\u001b[39m\u001b[38;5;241m.\u001b[39mcolumns\u001b[38;5;241m.\u001b[39mnlevels \u001b[38;5;241m>\u001b[39m \u001b[38;5;241m1\u001b[39m:\n\u001b[0;32m   4101\u001b[0m     \u001b[38;5;28;01mreturn\u001b[39;00m \u001b[38;5;28mself\u001b[39m\u001b[38;5;241m.\u001b[39m_getitem_multilevel(key)\n\u001b[1;32m-> 4102\u001b[0m indexer \u001b[38;5;241m=\u001b[39m \u001b[38;5;28mself\u001b[39m\u001b[38;5;241m.\u001b[39mcolumns\u001b[38;5;241m.\u001b[39mget_loc(key)\n\u001b[0;32m   4103\u001b[0m \u001b[38;5;28;01mif\u001b[39;00m is_integer(indexer):\n\u001b[0;32m   4104\u001b[0m     indexer \u001b[38;5;241m=\u001b[39m [indexer]\n",
      "File \u001b[1;32m~\\anaconda3\\Lib\\site-packages\\pandas\\core\\indexes\\base.py:3812\u001b[0m, in \u001b[0;36mIndex.get_loc\u001b[1;34m(self, key)\u001b[0m\n\u001b[0;32m   3807\u001b[0m     \u001b[38;5;28;01mif\u001b[39;00m \u001b[38;5;28misinstance\u001b[39m(casted_key, \u001b[38;5;28mslice\u001b[39m) \u001b[38;5;129;01mor\u001b[39;00m (\n\u001b[0;32m   3808\u001b[0m         \u001b[38;5;28misinstance\u001b[39m(casted_key, abc\u001b[38;5;241m.\u001b[39mIterable)\n\u001b[0;32m   3809\u001b[0m         \u001b[38;5;129;01mand\u001b[39;00m \u001b[38;5;28many\u001b[39m(\u001b[38;5;28misinstance\u001b[39m(x, \u001b[38;5;28mslice\u001b[39m) \u001b[38;5;28;01mfor\u001b[39;00m x \u001b[38;5;129;01min\u001b[39;00m casted_key)\n\u001b[0;32m   3810\u001b[0m     ):\n\u001b[0;32m   3811\u001b[0m         \u001b[38;5;28;01mraise\u001b[39;00m InvalidIndexError(key)\n\u001b[1;32m-> 3812\u001b[0m     \u001b[38;5;28;01mraise\u001b[39;00m \u001b[38;5;167;01mKeyError\u001b[39;00m(key) \u001b[38;5;28;01mfrom\u001b[39;00m \u001b[38;5;21;01merr\u001b[39;00m\n\u001b[0;32m   3813\u001b[0m \u001b[38;5;28;01mexcept\u001b[39;00m \u001b[38;5;167;01mTypeError\u001b[39;00m:\n\u001b[0;32m   3814\u001b[0m     \u001b[38;5;66;03m# If we have a listlike key, _check_indexing_error will raise\u001b[39;00m\n\u001b[0;32m   3815\u001b[0m     \u001b[38;5;66;03m#  InvalidIndexError. Otherwise we fall through and re-raise\u001b[39;00m\n\u001b[0;32m   3816\u001b[0m     \u001b[38;5;66;03m#  the TypeError.\u001b[39;00m\n\u001b[0;32m   3817\u001b[0m     \u001b[38;5;28mself\u001b[39m\u001b[38;5;241m.\u001b[39m_check_indexing_error(key)\n",
      "\u001b[1;31mKeyError\u001b[0m: 'CH06'"
     ]
    }
   ],
   "source": [
    "type(df_2004['CH06'])  # o ch06, según el nombre en tu dataset"
   ]
  },
  {
   "cell_type": "code",
   "execution_count": 21,
   "id": "3f36437e-6ddc-46be-9c8c-5d27036d3d98",
   "metadata": {},
   "outputs": [
    {
     "name": "stdout",
     "output_type": "stream",
     "text": [
      "['edad', 'educ', 'sexo', 'condicion_empleo', 'salario_semanal']\n"
     ]
    }
   ],
   "source": [
    "print(df_2004.columns.tolist())"
   ]
  },
  {
   "cell_type": "code",
   "execution_count": 23,
   "id": "25ccbf9e-4e6f-433c-854f-f81c3420abc7",
   "metadata": {},
   "outputs": [
    {
     "data": {
      "text/plain": [
       "['edad', 'educ', 'sexo', 'condicion_empleo', 'salario_semanal']"
      ]
     },
     "execution_count": 23,
     "metadata": {},
     "output_type": "execute_result"
    }
   ],
   "source": [
    "df_2024.columns.tolist()"
   ]
  },
  {
   "cell_type": "code",
   "execution_count": 25,
   "id": "593df3e1-8ed3-4f4d-bd73-9018be9f7aaa",
   "metadata": {},
   "outputs": [],
   "source": [
    "def crear_variables(df):\n",
    "    df = df.copy()\n",
    "    \n",
    "    # Convertir columnas a numéricas (puede haber valores no numéricos, que se vuelven NaN)\n",
    "    df['edad'] = pd.to_numeric(df['edad'], errors='coerce')\n",
    "    df['sexo'] = pd.to_numeric(df['sexo'], errors='coerce')\n",
    "    df['educ'] = pd.to_numeric(df['educ'], errors='coerce')\n",
    "    \n",
    "    # Crear salario_semanal si no existe, a partir de 'p21' (ejemplo)\n",
    "    if 'salario_semanal' not in df.columns:\n",
    "        if 'p21' in df.columns:\n",
    "            df['salario_semanal'] = pd.to_numeric(df['p21'], errors='coerce')\n",
    "        else:\n",
    "            df['salario_semanal'] = None  # O lo que corresponda según tu caso\n",
    "    \n",
    "    # Variables derivadas\n",
    "    df['edad2'] = df['edad'] ** 2\n",
    "    df['mujer'] = df['sexo'].apply(lambda x: 1 if x == 2 else 0)\n",
    "    df['educ_alta'] = (df['educ'] > 12).astype(int)\n",
    "    \n",
    "    return df"
   ]
  },
  {
   "cell_type": "code",
   "execution_count": 27,
   "id": "a660a1d9-0cfa-4a9c-b1ee-97baf5fd6fcc",
   "metadata": {},
   "outputs": [],
   "source": [
    "df_2024 = crear_variables(df_2024)\n",
    "df_2004 = crear_variables(df_2004)"
   ]
  },
  {
   "cell_type": "code",
   "execution_count": 29,
   "id": "84a8390d-4f45-42ae-ae2b-cc3d4defd765",
   "metadata": {},
   "outputs": [],
   "source": [
    "def crear_variables(df):\n",
    "    df = df.copy()\n",
    "    # Convertir edad y educ a numérico (por si acaso vienen como categorical)\n",
    "    df['edad'] = pd.to_numeric(df['edad'], errors='coerce')\n",
    "    df['educ'] = pd.to_numeric(df['educ'], errors='coerce')\n",
    "    \n",
    "    df['edad2'] = df['edad'] ** 2\n",
    "    df['mujer'] = df['sexo'].apply(lambda x: 1 if x == 2 else 0)\n",
    "    df['educ_alta'] = (df['educ'] > 12).astype(int)\n",
    "    return df"
   ]
  },
  {
   "cell_type": "code",
   "execution_count": 31,
   "id": "4a5d1ac0-b3ab-49c4-87ea-41d2f8bec516",
   "metadata": {},
   "outputs": [
    {
     "name": "stdout",
     "output_type": "stream",
     "text": [
      "   edad  educ  sexo condicion_empleo  salario_semanal   edad2  mujer  \\\n",
      "0  79.0   NaN   NaN              0.0              0.0  6241.0      0   \n",
      "1  67.0   NaN   NaN    Cuenta propia              0.0  4489.0      0   \n",
      "2  74.0   NaN   NaN              0.0              0.0  5476.0      0   \n",
      "3  54.0   NaN   NaN    Cuenta propia           2000.0  2916.0      0   \n",
      "4  51.0   NaN   NaN              0.0              0.0  2601.0      0   \n",
      "\n",
      "   educ_alta  \n",
      "0          0  \n",
      "1          0  \n",
      "2          0  \n",
      "3          0  \n",
      "4          0  \n",
      "Index(['edad', 'educ', 'sexo', 'condicion_empleo', 'salario_semanal', 'edad2',\n",
      "       'mujer', 'educ_alta'],\n",
      "      dtype='object')\n"
     ]
    }
   ],
   "source": [
    "print(df_2004.head())\n",
    "print(df_2004.columns)"
   ]
  },
  {
   "cell_type": "code",
   "execution_count": 43,
   "id": "65a272f1-1424-4a92-8754-af94386c8e11",
   "metadata": {},
   "outputs": [
    {
     "ename": "NameError",
     "evalue": "name 'diff_medias' is not defined",
     "output_type": "error",
     "traceback": [
      "\u001b[1;31m---------------------------------------------------------------------------\u001b[0m",
      "\u001b[1;31mNameError\u001b[0m                                 Traceback (most recent call last)",
      "Cell \u001b[1;32mIn[43], line 11\u001b[0m\n\u001b[0;32m      7\u001b[0m doc\u001b[38;5;241m.\u001b[39madd_heading(\u001b[38;5;124m'\u001b[39m\u001b[38;5;124mDiferencia de medias entre train y test para 2004\u001b[39m\u001b[38;5;124m'\u001b[39m, level\u001b[38;5;241m=\u001b[39m\u001b[38;5;241m1\u001b[39m)\n\u001b[0;32m      9\u001b[0m \u001b[38;5;66;03m# Suponiendo diff_medias es tu DataFrame\u001b[39;00m\n\u001b[0;32m     10\u001b[0m \u001b[38;5;66;03m# Convertir DataFrame a tabla en Word\u001b[39;00m\n\u001b[1;32m---> 11\u001b[0m table \u001b[38;5;241m=\u001b[39m doc\u001b[38;5;241m.\u001b[39madd_table(rows\u001b[38;5;241m=\u001b[39m\u001b[38;5;241m1\u001b[39m, cols\u001b[38;5;241m=\u001b[39m\u001b[38;5;28mlen\u001b[39m(diff_medias\u001b[38;5;241m.\u001b[39mcolumns) \u001b[38;5;241m+\u001b[39m \u001b[38;5;241m1\u001b[39m)\n\u001b[0;32m     13\u001b[0m \u001b[38;5;66;03m# Agregar encabezados\u001b[39;00m\n\u001b[0;32m     14\u001b[0m hdr_cells \u001b[38;5;241m=\u001b[39m table\u001b[38;5;241m.\u001b[39mrows[\u001b[38;5;241m0\u001b[39m]\u001b[38;5;241m.\u001b[39mcells\n",
      "\u001b[1;31mNameError\u001b[0m: name 'diff_medias' is not defined"
     ]
    }
   ],
   "source": [
    "from docx import Document\n",
    "import pandas as pd\n",
    "\n",
    "# Crear documento\n",
    "doc = Document()\n",
    "\n",
    "doc.add_heading('Diferencia de medias entre train y test para 2004', level=1)\n",
    "\n",
    "# Suponiendo diff_medias es tu DataFrame\n",
    "# Convertir DataFrame a tabla en Word\n",
    "table = doc.add_table(rows=1, cols=len(diff_medias.columns) + 1)\n",
    "\n",
    "# Agregar encabezados\n",
    "hdr_cells = table.rows[0].cells\n",
    "hdr_cells[0].text = 'Variable'\n",
    "for i, col_name in enumerate(diff_medias.columns):\n",
    "    hdr_cells[i+1].text = col_name\n",
    "\n",
    "# Agregar filas\n",
    "for idx, row in diff_medias.iterrows():\n",
    "    row_cells = table.add_row().cells\n",
    "    row_cells[0].text = str(idx)\n",
    "    for i, col_name in enumerate(diff_medias.columns):\n",
    "        row_cells[i+1].text = str(round(row[col_name], 4))\n",
    "\n",
    "# Guardar documento\n",
    "doc.save('diferencia_medias_2004.docx')"
   ]
  },
  {
   "cell_type": "code",
   "execution_count": 55,
   "id": "8906d1a4-2cec-48bb-9f4b-9c718d7491bb",
   "metadata": {},
   "outputs": [],
   "source": [
    "df_2004 = df_2004.rename(columns={\n",
    "    'ch06': 'edad',   # <- puede que esta sea la correcta, revisar\n",
    "    'ch04': 'sexo',\n",
    "    'ch06': 'educ',\n",
    "    'estado': 'condicion_empleo',\n",
    "    'p21': 'salario_semanal'\n",
    "})"
   ]
  },
  {
   "cell_type": "code",
   "execution_count": 35,
   "id": "09db0222-5d7c-4b5e-9353-d3efe3b5f6cd",
   "metadata": {},
   "outputs": [
    {
     "name": "stdout",
     "output_type": "stream",
     "text": [
      "Index(['edad', 'educ', 'sexo', 'condicion_empleo', 'salario_semanal', 'edad2',\n",
      "       'mujer', 'educ_alta'],\n",
      "      dtype='object')\n"
     ]
    }
   ],
   "source": [
    "print(df_2004.columns)"
   ]
  },
  {
   "cell_type": "code",
   "execution_count": 43,
   "id": "237466ed-153f-4f18-a4d1-ef522aa80b32",
   "metadata": {},
   "outputs": [],
   "source": [
    "df_2004 = crear_variables(df_2004)\n",
    "df_2024 = crear_variables(df_2024)"
   ]
  },
  {
   "cell_type": "code",
   "execution_count": 47,
   "id": "4f02ef5e-d21f-45ad-a260-3a720f55d179",
   "metadata": {},
   "outputs": [],
   "source": [
    "#Parte B. Metodo Supervisado 1: Modelo de Regresión Lineal"
   ]
  },
  {
   "cell_type": "code",
   "execution_count": 51,
   "id": "c567d47c-4eee-44a9-881b-0a29bf1c4362",
   "metadata": {},
   "outputs": [
    {
     "name": "stdout",
     "output_type": "stream",
     "text": [
      "Index(['edad', 'educ', 'sexo', 'salario_semanal', 'const', 'desocupado'], dtype='object')\n",
      "       edad  educ  sexo  salario_semanal  const  desocupado\n",
      "20495    12     1     0              0.0      1           0\n",
      "19734    24     0     1              0.0      1           0\n",
      "7952      4     6     0              0.0      1           0\n",
      "19325    13     2     1              0.0      1           0\n",
      "42873    46     3     1           1500.0      1           0\n"
     ]
    }
   ],
   "source": [
    "print(train_2004.columns)\n",
    "print(train_2004.head())"
   ]
  },
  {
   "cell_type": "code",
   "execution_count": 53,
   "id": "5ea72935-e605-4bfa-93a3-3f686d618271",
   "metadata": {},
   "outputs": [
    {
     "name": "stdout",
     "output_type": "stream",
     "text": [
      "Coeficientes con stars:\n"
     ]
    },
    {
     "data": {
      "text/html": [
       "<div>\n",
       "<style scoped>\n",
       "    .dataframe tbody tr th:only-of-type {\n",
       "        vertical-align: middle;\n",
       "    }\n",
       "\n",
       "    .dataframe tbody tr th {\n",
       "        vertical-align: top;\n",
       "    }\n",
       "\n",
       "    .dataframe thead th {\n",
       "        text-align: right;\n",
       "    }\n",
       "</style>\n",
       "<table border=\"1\" class=\"dataframe\">\n",
       "  <thead>\n",
       "    <tr style=\"text-align: right;\">\n",
       "      <th>Modelo</th>\n",
       "      <th>Modelo 1</th>\n",
       "      <th>Modelo 2</th>\n",
       "      <th>Modelo 3</th>\n",
       "      <th>Modelo 4</th>\n",
       "      <th>Modelo 5</th>\n",
       "    </tr>\n",
       "    <tr>\n",
       "      <th>Variable</th>\n",
       "      <th></th>\n",
       "      <th></th>\n",
       "      <th></th>\n",
       "      <th></th>\n",
       "      <th></th>\n",
       "    </tr>\n",
       "  </thead>\n",
       "  <tbody>\n",
       "    <tr>\n",
       "      <th>const</th>\n",
       "      <td>156.313***</td>\n",
       "      <td>156.518***</td>\n",
       "      <td>-49.998***</td>\n",
       "      <td>54.474***</td>\n",
       "      <td>54.474***</td>\n",
       "    </tr>\n",
       "    <tr>\n",
       "      <th>edad</th>\n",
       "      <td>2.654***</td>\n",
       "      <td>2.630***</td>\n",
       "      <td>2.569***</td>\n",
       "      <td>2.883***</td>\n",
       "      <td>2.883***</td>\n",
       "    </tr>\n",
       "    <tr>\n",
       "      <th>edad2</th>\n",
       "      <td>NaN</td>\n",
       "      <td>-0.058</td>\n",
       "      <td>-0.028</td>\n",
       "      <td>-0.033</td>\n",
       "      <td>-0.033</td>\n",
       "    </tr>\n",
       "    <tr>\n",
       "      <th>educ</th>\n",
       "      <td>NaN</td>\n",
       "      <td>NaN</td>\n",
       "      <td>95.710***</td>\n",
       "      <td>98.364***</td>\n",
       "      <td>98.364***</td>\n",
       "    </tr>\n",
       "    <tr>\n",
       "      <th>mujer</th>\n",
       "      <td>NaN</td>\n",
       "      <td>NaN</td>\n",
       "      <td>NaN</td>\n",
       "      <td>-229.152***</td>\n",
       "      <td>-229.152***</td>\n",
       "    </tr>\n",
       "    <tr>\n",
       "      <th>variable1</th>\n",
       "      <td>NaN</td>\n",
       "      <td>NaN</td>\n",
       "      <td>NaN</td>\n",
       "      <td>NaN</td>\n",
       "      <td>0.000</td>\n",
       "    </tr>\n",
       "    <tr>\n",
       "      <th>variable2</th>\n",
       "      <td>NaN</td>\n",
       "      <td>NaN</td>\n",
       "      <td>NaN</td>\n",
       "      <td>NaN</td>\n",
       "      <td>0.000</td>\n",
       "    </tr>\n",
       "  </tbody>\n",
       "</table>\n",
       "</div>"
      ],
      "text/plain": [
       "Modelo       Modelo 1    Modelo 2    Modelo 3     Modelo 4     Modelo 5\n",
       "Variable                                                               \n",
       "const      156.313***  156.518***  -49.998***    54.474***    54.474***\n",
       "edad         2.654***    2.630***    2.569***     2.883***     2.883***\n",
       "edad2             NaN      -0.058      -0.028       -0.033       -0.033\n",
       "educ              NaN         NaN   95.710***    98.364***    98.364***\n",
       "mujer             NaN         NaN         NaN  -229.152***  -229.152***\n",
       "variable1         NaN         NaN         NaN          NaN        0.000\n",
       "variable2         NaN         NaN         NaN          NaN        0.000"
      ]
     },
     "metadata": {},
     "output_type": "display_data"
    },
    {
     "name": "stdout",
     "output_type": "stream",
     "text": [
      "\n",
      "Errores estándar:\n"
     ]
    },
    {
     "data": {
      "text/html": [
       "<div>\n",
       "<style scoped>\n",
       "    .dataframe tbody tr th:only-of-type {\n",
       "        vertical-align: middle;\n",
       "    }\n",
       "\n",
       "    .dataframe tbody tr th {\n",
       "        vertical-align: top;\n",
       "    }\n",
       "\n",
       "    .dataframe thead th {\n",
       "        text-align: right;\n",
       "    }\n",
       "</style>\n",
       "<table border=\"1\" class=\"dataframe\">\n",
       "  <thead>\n",
       "    <tr style=\"text-align: right;\">\n",
       "      <th>Modelo</th>\n",
       "      <th>Modelo 1</th>\n",
       "      <th>Modelo 2</th>\n",
       "      <th>Modelo 3</th>\n",
       "      <th>Modelo 4</th>\n",
       "      <th>Modelo 5</th>\n",
       "    </tr>\n",
       "    <tr>\n",
       "      <th>Variable</th>\n",
       "      <th></th>\n",
       "      <th></th>\n",
       "      <th></th>\n",
       "      <th></th>\n",
       "      <th></th>\n",
       "    </tr>\n",
       "  </thead>\n",
       "  <tbody>\n",
       "    <tr>\n",
       "      <th>const</th>\n",
       "      <td>8.11</td>\n",
       "      <td>8.12</td>\n",
       "      <td>9.31</td>\n",
       "      <td>9.72</td>\n",
       "      <td>9.72</td>\n",
       "    </tr>\n",
       "    <tr>\n",
       "      <th>edad</th>\n",
       "      <td>0.19</td>\n",
       "      <td>0.19</td>\n",
       "      <td>0.19</td>\n",
       "      <td>0.18</td>\n",
       "      <td>0.18</td>\n",
       "    </tr>\n",
       "    <tr>\n",
       "      <th>edad2</th>\n",
       "      <td>NaN</td>\n",
       "      <td>0.05</td>\n",
       "      <td>0.05</td>\n",
       "      <td>0.05</td>\n",
       "      <td>0.05</td>\n",
       "    </tr>\n",
       "    <tr>\n",
       "      <th>educ</th>\n",
       "      <td>NaN</td>\n",
       "      <td>NaN</td>\n",
       "      <td>2.32</td>\n",
       "      <td>2.28</td>\n",
       "      <td>2.28</td>\n",
       "    </tr>\n",
       "    <tr>\n",
       "      <th>mujer</th>\n",
       "      <td>NaN</td>\n",
       "      <td>NaN</td>\n",
       "      <td>NaN</td>\n",
       "      <td>7.31</td>\n",
       "      <td>7.31</td>\n",
       "    </tr>\n",
       "    <tr>\n",
       "      <th>variable1</th>\n",
       "      <td>NaN</td>\n",
       "      <td>NaN</td>\n",
       "      <td>NaN</td>\n",
       "      <td>NaN</td>\n",
       "      <td>0.00</td>\n",
       "    </tr>\n",
       "    <tr>\n",
       "      <th>variable2</th>\n",
       "      <td>NaN</td>\n",
       "      <td>NaN</td>\n",
       "      <td>NaN</td>\n",
       "      <td>NaN</td>\n",
       "      <td>0.00</td>\n",
       "    </tr>\n",
       "  </tbody>\n",
       "</table>\n",
       "</div>"
      ],
      "text/plain": [
       "Modelo    Modelo 1 Modelo 2 Modelo 3 Modelo 4 Modelo 5\n",
       "Variable                                              \n",
       "const         8.11     8.12     9.31     9.72     9.72\n",
       "edad          0.19     0.19     0.19     0.18     0.18\n",
       "edad2          NaN     0.05     0.05     0.05     0.05\n",
       "educ           NaN      NaN     2.32     2.28     2.28\n",
       "mujer          NaN      NaN      NaN     7.31     7.31\n",
       "variable1      NaN      NaN      NaN      NaN     0.00\n",
       "variable2      NaN      NaN      NaN      NaN     0.00"
      ]
     },
     "metadata": {},
     "output_type": "display_data"
    },
    {
     "name": "stdout",
     "output_type": "stream",
     "text": [
      "\n",
      "Número de observaciones y R2 por modelo:\n"
     ]
    },
    {
     "data": {
      "text/html": [
       "<div>\n",
       "<style scoped>\n",
       "    .dataframe tbody tr th:only-of-type {\n",
       "        vertical-align: middle;\n",
       "    }\n",
       "\n",
       "    .dataframe tbody tr th {\n",
       "        vertical-align: top;\n",
       "    }\n",
       "\n",
       "    .dataframe thead th {\n",
       "        text-align: right;\n",
       "    }\n",
       "</style>\n",
       "<table border=\"1\" class=\"dataframe\">\n",
       "  <thead>\n",
       "    <tr style=\"text-align: right;\">\n",
       "      <th></th>\n",
       "      <th>N (obs)</th>\n",
       "      <th>R2</th>\n",
       "    </tr>\n",
       "    <tr>\n",
       "      <th>Modelo</th>\n",
       "      <th></th>\n",
       "      <th></th>\n",
       "    </tr>\n",
       "  </thead>\n",
       "  <tbody>\n",
       "    <tr>\n",
       "      <th>Modelo 1</th>\n",
       "      <td>24385.0</td>\n",
       "      <td>0.008</td>\n",
       "    </tr>\n",
       "    <tr>\n",
       "      <th>Modelo 2</th>\n",
       "      <td>24385.0</td>\n",
       "      <td>0.008</td>\n",
       "    </tr>\n",
       "    <tr>\n",
       "      <th>Modelo 3</th>\n",
       "      <td>24385.0</td>\n",
       "      <td>0.072</td>\n",
       "    </tr>\n",
       "    <tr>\n",
       "      <th>Modelo 4</th>\n",
       "      <td>24385.0</td>\n",
       "      <td>0.108</td>\n",
       "    </tr>\n",
       "    <tr>\n",
       "      <th>Modelo 5</th>\n",
       "      <td>24385.0</td>\n",
       "      <td>0.108</td>\n",
       "    </tr>\n",
       "  </tbody>\n",
       "</table>\n",
       "</div>"
      ],
      "text/plain": [
       "          N (obs)     R2\n",
       "Modelo                  \n",
       "Modelo 1  24385.0  0.008\n",
       "Modelo 2  24385.0  0.008\n",
       "Modelo 3  24385.0  0.072\n",
       "Modelo 4  24385.0  0.108\n",
       "Modelo 5  24385.0  0.108"
      ]
     },
     "metadata": {},
     "output_type": "display_data"
    }
   ],
   "source": [
    "import statsmodels.api as sm\n",
    "import pandas as pd\n",
    "import numpy as np\n",
    "\n",
    "# Filtrar ocupados (desocupado==0) y edad >= 10 (por ejemplo)\n",
    "ocupados_train = train_2004[(train_2004['desocupado'] == 0) & (train_2004['edad'] >= 10)].copy()\n",
    "\n",
    "# Crear variables nuevas\n",
    "ocupados_train['edad2'] = ocupados_train['edad'] ** 2\n",
    "ocupados_train['mujer'] = ocupados_train['sexo']  # ajustar si es necesario\n",
    "\n",
    "# Variables extra que hayas creado en TP2 o TP3\n",
    "# Por ejemplo, supongamos 'variable1' y 'variable2' ya están en el DataFrame.\n",
    "# Si no las tenés, reemplaza con nombres reales o quita estas variables en modelo 5.\n",
    "variable1 = 'variable1'  # cambia por nombre real\n",
    "variable2 = 'variable2'  # cambia por nombre real\n",
    "\n",
    "# Para evitar errores, asegúrate que existan en DataFrame; si no, quítalas o crea dummy\n",
    "for var in [variable1, variable2]:\n",
    "    if var not in ocupados_train.columns:\n",
    "        ocupados_train[var] = 0  # o genera alguna variable dummy o quítala del modelo 5\n",
    "\n",
    "# Lista de variables para cada modelo\n",
    "vars_modelos = [\n",
    "    ['edad'],\n",
    "    ['edad', 'edad2'],\n",
    "    ['edad', 'edad2', 'educ'],\n",
    "    ['edad', 'edad2', 'educ', 'mujer'],\n",
    "    ['edad', 'edad2', 'educ', 'mujer', variable1, variable2]\n",
    "]\n",
    "\n",
    "resultados = []\n",
    "\n",
    "for i, vars_modelo in enumerate(vars_modelos, 1):\n",
    "    X = ocupados_train[vars_modelo]\n",
    "    X = sm.add_constant(X)\n",
    "    y = ocupados_train['salario_semanal']\n",
    "    \n",
    "    modelo = sm.OLS(y, X).fit()\n",
    "    \n",
    "    # Guardar coeficientes, errores estándar y p-valores\n",
    "    for var in X.columns:\n",
    "        coef = modelo.params[var]\n",
    "        sd = modelo.bse[var]\n",
    "        pval = modelo.pvalues[var]\n",
    "        \n",
    "        # Agregar stars según p-value\n",
    "        if pval < 0.001:\n",
    "            star = '***'\n",
    "        elif pval < 0.05:\n",
    "            star = '**'\n",
    "        elif pval < 0.1:\n",
    "            star = '*'\n",
    "        else:\n",
    "            star = ''\n",
    "        \n",
    "        resultados.append({\n",
    "            'Variable': var,\n",
    "            'Modelo': f'Modelo {i}',\n",
    "            'Coeficiente': f\"{coef:.3f}{star}\",\n",
    "            'Std. Error': f\"{sd:.2f}\",\n",
    "            'p-value': pval\n",
    "        })\n",
    "\n",
    "# Pasar resultados a DataFrame\n",
    "df_resultados = pd.DataFrame(resultados)\n",
    "\n",
    "# Mostrar tabla pivot para copiar y pegar en Word fácilmente\n",
    "tabla_coef = df_resultados.pivot(index='Variable', columns='Modelo', values='Coeficiente')\n",
    "tabla_sd = df_resultados.pivot(index='Variable', columns='Modelo', values='Std. Error')\n",
    "\n",
    "print(\"Coeficientes con stars:\")\n",
    "display(tabla_coef)\n",
    "\n",
    "print(\"\\nErrores estándar:\")\n",
    "display(tabla_sd)\n",
    "\n",
    "# Mostrar observaciones y R2 por modelo\n",
    "obs_r2 = []\n",
    "for i, vars_modelo in enumerate(vars_modelos, 1):\n",
    "    X = ocupados_train[vars_modelo]\n",
    "    X = sm.add_constant(X)\n",
    "    y = ocupados_train['salario_semanal']\n",
    "    modelo = sm.OLS(y, X).fit()\n",
    "    obs_r2.append({\n",
    "        'Modelo': f'Modelo {i}',\n",
    "        'N (obs)': modelo.nobs,\n",
    "        'R2': round(modelo.rsquared, 3)\n",
    "    })\n",
    "\n",
    "df_obs_r2 = pd.DataFrame(obs_r2).set_index('Modelo')\n",
    "print(\"\\nNúmero de observaciones y R2 por modelo:\")\n",
    "display(df_obs_r2)\n"
   ]
  },
  {
   "cell_type": "code",
   "execution_count": 55,
   "id": "869f0fed-4cd5-4083-b1ac-90209b6fc92c",
   "metadata": {},
   "outputs": [],
   "source": [
    "# Crear variables en test\n",
    "test_2004['edad2'] = test_2004['edad']**2\n",
    "test_2004['mujer'] = (test_2004['sexo'] == 2).astype(int)  # suponiendo sexo=2 es mujer\n",
    "# Si tenés las variables extra, crear o asignar también aquí\n",
    "test_2004['variable1'] = ...  # reemplazar con tu variable real\n",
    "test_2004['variable2'] = ...  # reemplazar con tu variable real"
   ]
  },
  {
   "cell_type": "code",
   "execution_count": 57,
   "id": "6a10bce1-705c-4492-b9e1-c7d560e41c6b",
   "metadata": {},
   "outputs": [],
   "source": [
    "import numpy as np\n",
    "from sklearn.metrics import mean_squared_error, mean_absolute_error\n",
    "\n",
    "# Ejemplo coeficientes, reemplazá con los reales (en el orden de las variables para cada modelo)\n",
    "coefs_modelos = {\n",
    "    'modelo_1': {'const': 156.313, 'edad': 2.654},\n",
    "    'modelo_2': {'const': 156.518, 'edad': 2.630, 'edad2': -0.058},\n",
    "    'modelo_3': {'const': -49.998, 'edad': 2.569, 'edad2': -0.028, 'educ': 95.710},\n",
    "    'modelo_4': {'const': 54.474, 'edad': 2.883, 'edad2': -0.033, 'educ': 98.364, 'mujer': -229.152},\n",
    "    'modelo_5': {'const': 54.474, 'edad': 2.883, 'edad2': -0.033, 'educ': 98.364, 'mujer': -229.152, 'variable1': 0, 'variable2': 0}\n",
    "}\n",
    "\n",
    "# Variables que incluye cada modelo\n",
    "vars_modelos = {\n",
    "    'modelo_1': ['edad'],\n",
    "    'modelo_2': ['edad', 'edad2'],\n",
    "    'modelo_3': ['edad', 'edad2', 'educ'],\n",
    "    'modelo_4': ['edad', 'edad2', 'educ', 'mujer'],\n",
    "    'modelo_5': ['edad', 'edad2', 'educ', 'mujer', 'variable1', 'variable2']\n",
    "}\n",
    "\n",
    "# Función para predecir\n",
    "def predecir(df, coefs, variables):\n",
    "    y_hat = coefs['const'] * 1  # constante\n",
    "    for var in variables:\n",
    "        y_hat += coefs[var] * df[var]\n",
    "    return y_hat"
   ]
  },
  {
   "cell_type": "code",
   "execution_count": 61,
   "id": "d4e2bcc3-5733-4904-a1df-92306b193879",
   "metadata": {},
   "outputs": [
    {
     "ename": "KeyError",
     "evalue": "'condicion_empleo'",
     "output_type": "error",
     "traceback": [
      "\u001b[1;31m---------------------------------------------------------------------------\u001b[0m",
      "\u001b[1;31mKeyError\u001b[0m                                  Traceback (most recent call last)",
      "File \u001b[1;32m~\\anaconda3\\Lib\\site-packages\\pandas\\core\\indexes\\base.py:3805\u001b[0m, in \u001b[0;36mIndex.get_loc\u001b[1;34m(self, key)\u001b[0m\n\u001b[0;32m   3804\u001b[0m \u001b[38;5;28;01mtry\u001b[39;00m:\n\u001b[1;32m-> 3805\u001b[0m     \u001b[38;5;28;01mreturn\u001b[39;00m \u001b[38;5;28mself\u001b[39m\u001b[38;5;241m.\u001b[39m_engine\u001b[38;5;241m.\u001b[39mget_loc(casted_key)\n\u001b[0;32m   3806\u001b[0m \u001b[38;5;28;01mexcept\u001b[39;00m \u001b[38;5;167;01mKeyError\u001b[39;00m \u001b[38;5;28;01mas\u001b[39;00m err:\n",
      "File \u001b[1;32mindex.pyx:167\u001b[0m, in \u001b[0;36mpandas._libs.index.IndexEngine.get_loc\u001b[1;34m()\u001b[0m\n",
      "File \u001b[1;32mindex.pyx:196\u001b[0m, in \u001b[0;36mpandas._libs.index.IndexEngine.get_loc\u001b[1;34m()\u001b[0m\n",
      "File \u001b[1;32mpandas\\\\_libs\\\\hashtable_class_helper.pxi:7081\u001b[0m, in \u001b[0;36mpandas._libs.hashtable.PyObjectHashTable.get_item\u001b[1;34m()\u001b[0m\n",
      "File \u001b[1;32mpandas\\\\_libs\\\\hashtable_class_helper.pxi:7089\u001b[0m, in \u001b[0;36mpandas._libs.hashtable.PyObjectHashTable.get_item\u001b[1;34m()\u001b[0m\n",
      "\u001b[1;31mKeyError\u001b[0m: 'condicion_empleo'",
      "\nThe above exception was the direct cause of the following exception:\n",
      "\u001b[1;31mKeyError\u001b[0m                                  Traceback (most recent call last)",
      "Cell \u001b[1;32mIn[61], line 5\u001b[0m\n\u001b[0;32m      2\u001b[0m \u001b[38;5;28;01mimport\u001b[39;00m \u001b[38;5;21;01mstatsmodels\u001b[39;00m\u001b[38;5;21;01m.\u001b[39;00m\u001b[38;5;21;01mapi\u001b[39;00m \u001b[38;5;28;01mas\u001b[39;00m \u001b[38;5;21;01msm\u001b[39;00m\n\u001b[0;32m      4\u001b[0m \u001b[38;5;66;03m# Filtrar solo ocupados en la base de entrenamiento\u001b[39;00m\n\u001b[1;32m----> 5\u001b[0m ocupados_train \u001b[38;5;241m=\u001b[39m train_2004[train_2004[\u001b[38;5;124m'\u001b[39m\u001b[38;5;124mcondicion_empleo\u001b[39m\u001b[38;5;124m'\u001b[39m] \u001b[38;5;241m==\u001b[39m \u001b[38;5;124m'\u001b[39m\u001b[38;5;124mOcupado\u001b[39m\u001b[38;5;124m'\u001b[39m]\u001b[38;5;241m.\u001b[39mcopy()\n\u001b[0;32m      7\u001b[0m \u001b[38;5;66;03m# Crear variable edad2 (edad al cuadrado)\u001b[39;00m\n\u001b[0;32m      8\u001b[0m ocupados_train[\u001b[38;5;124m'\u001b[39m\u001b[38;5;124medad2\u001b[39m\u001b[38;5;124m'\u001b[39m] \u001b[38;5;241m=\u001b[39m ocupados_train[\u001b[38;5;124m'\u001b[39m\u001b[38;5;124medad\u001b[39m\u001b[38;5;124m'\u001b[39m] \u001b[38;5;241m*\u001b[39m\u001b[38;5;241m*\u001b[39m \u001b[38;5;241m2\u001b[39m\n",
      "File \u001b[1;32m~\\anaconda3\\Lib\\site-packages\\pandas\\core\\frame.py:4102\u001b[0m, in \u001b[0;36mDataFrame.__getitem__\u001b[1;34m(self, key)\u001b[0m\n\u001b[0;32m   4100\u001b[0m \u001b[38;5;28;01mif\u001b[39;00m \u001b[38;5;28mself\u001b[39m\u001b[38;5;241m.\u001b[39mcolumns\u001b[38;5;241m.\u001b[39mnlevels \u001b[38;5;241m>\u001b[39m \u001b[38;5;241m1\u001b[39m:\n\u001b[0;32m   4101\u001b[0m     \u001b[38;5;28;01mreturn\u001b[39;00m \u001b[38;5;28mself\u001b[39m\u001b[38;5;241m.\u001b[39m_getitem_multilevel(key)\n\u001b[1;32m-> 4102\u001b[0m indexer \u001b[38;5;241m=\u001b[39m \u001b[38;5;28mself\u001b[39m\u001b[38;5;241m.\u001b[39mcolumns\u001b[38;5;241m.\u001b[39mget_loc(key)\n\u001b[0;32m   4103\u001b[0m \u001b[38;5;28;01mif\u001b[39;00m is_integer(indexer):\n\u001b[0;32m   4104\u001b[0m     indexer \u001b[38;5;241m=\u001b[39m [indexer]\n",
      "File \u001b[1;32m~\\anaconda3\\Lib\\site-packages\\pandas\\core\\indexes\\base.py:3812\u001b[0m, in \u001b[0;36mIndex.get_loc\u001b[1;34m(self, key)\u001b[0m\n\u001b[0;32m   3807\u001b[0m     \u001b[38;5;28;01mif\u001b[39;00m \u001b[38;5;28misinstance\u001b[39m(casted_key, \u001b[38;5;28mslice\u001b[39m) \u001b[38;5;129;01mor\u001b[39;00m (\n\u001b[0;32m   3808\u001b[0m         \u001b[38;5;28misinstance\u001b[39m(casted_key, abc\u001b[38;5;241m.\u001b[39mIterable)\n\u001b[0;32m   3809\u001b[0m         \u001b[38;5;129;01mand\u001b[39;00m \u001b[38;5;28many\u001b[39m(\u001b[38;5;28misinstance\u001b[39m(x, \u001b[38;5;28mslice\u001b[39m) \u001b[38;5;28;01mfor\u001b[39;00m x \u001b[38;5;129;01min\u001b[39;00m casted_key)\n\u001b[0;32m   3810\u001b[0m     ):\n\u001b[0;32m   3811\u001b[0m         \u001b[38;5;28;01mraise\u001b[39;00m InvalidIndexError(key)\n\u001b[1;32m-> 3812\u001b[0m     \u001b[38;5;28;01mraise\u001b[39;00m \u001b[38;5;167;01mKeyError\u001b[39;00m(key) \u001b[38;5;28;01mfrom\u001b[39;00m \u001b[38;5;21;01merr\u001b[39;00m\n\u001b[0;32m   3813\u001b[0m \u001b[38;5;28;01mexcept\u001b[39;00m \u001b[38;5;167;01mTypeError\u001b[39;00m:\n\u001b[0;32m   3814\u001b[0m     \u001b[38;5;66;03m# If we have a listlike key, _check_indexing_error will raise\u001b[39;00m\n\u001b[0;32m   3815\u001b[0m     \u001b[38;5;66;03m#  InvalidIndexError. Otherwise we fall through and re-raise\u001b[39;00m\n\u001b[0;32m   3816\u001b[0m     \u001b[38;5;66;03m#  the TypeError.\u001b[39;00m\n\u001b[0;32m   3817\u001b[0m     \u001b[38;5;28mself\u001b[39m\u001b[38;5;241m.\u001b[39m_check_indexing_error(key)\n",
      "\u001b[1;31mKeyError\u001b[0m: 'condicion_empleo'"
     ]
    }
   ],
   "source": [
    "import numpy as np\n",
    "import statsmodels.api as sm\n",
    "\n",
    "# Filtrar solo ocupados en la base de entrenamiento\n",
    "ocupados_train = train_2004[train_2004['condicion_empleo'] == 'Ocupado'].copy()\n",
    "\n",
    "# Crear variable edad2 (edad al cuadrado)\n",
    "ocupados_train['edad2'] = ocupados_train['edad'] ** 2\n",
    "\n",
    "# Crear dummy mujer (asumiendo que sexo es 1=Varón, 2=Mujer)\n",
    "ocupados_train['mujer'] = (ocupados_train['sexo'] == 2).astype(int)\n",
    "\n",
    "# Supongamos que las variables creadas en TP2 o TP3 relevantes son: 'variable1' y 'variable2'\n",
    "# Estas deberías tenerlas ya limpias, acá pondremos un ejemplo con columnas ficticias\n",
    "# ocupados_train['variable1'] = ...\n",
    "# ocupados_train['variable2'] = ...\n",
    "\n",
    "# Por ahora, las voy a crear como variables aleatorias para que el código funcione:\n",
    "ocupados_train['variable1'] = np.random.randn(len(ocupados_train))\n",
    "ocupados_train['variable2'] = np.random.randn(len(ocupados_train))"
   ]
  },
  {
   "cell_type": "code",
   "execution_count": 63,
   "id": "1d64f004-5998-40da-a75f-3bec5e33b4eb",
   "metadata": {},
   "outputs": [
    {
     "name": "stdout",
     "output_type": "stream",
     "text": [
      "Index(['edad', 'educ', 'sexo', 'salario_semanal', 'const', 'desocupado'], dtype='object')\n"
     ]
    }
   ],
   "source": [
    "print(train_2004.columns)"
   ]
  },
  {
   "cell_type": "code",
   "execution_count": 65,
   "id": "5f7c5a86-5035-4fbc-95bf-0c9b21a9a895",
   "metadata": {},
   "outputs": [],
   "source": [
    "ocupados_train = train_2004[train_2004['desocupado'] == 0].copy()"
   ]
  },
  {
   "cell_type": "code",
   "execution_count": 69,
   "id": "9f59b0f8-7c71-4e0c-867a-a24e15829190",
   "metadata": {},
   "outputs": [],
   "source": [
    "import statsmodels.api as sm\n",
    "\n",
    "# Filtrar solo los ocupados en la base de entrenamiento\n",
    "ocupados_train = train_2004[train_2004['desocupado'] == 0].copy()\n",
    "\n",
    "# Crear variable edad2 (edad al cuadrado)\n",
    "ocupados_train['edad2'] = ocupados_train['edad'] ** 2\n",
    "\n",
    "# Crear variable mujer (dummy: 1 si sexo == 0, que en tu base representa mujeres)\n",
    "ocupados_train['mujer'] = (ocupados_train['sexo'] == 0).astype(int)\n",
    "\n",
    "# Variable 1 y 2 adicionales: como no especificaste, vamos a crear dos dummies falsas para testeo\n",
    "# Reemplazalas por las que vos limpiaste en TP2 o TP3\n",
    "ocupados_train['variable1'] = 0  # ejemplo: tipo de empleo, sector, etc.\n",
    "ocupados_train['variable2'] = 0\n",
    "\n",
    "# Variables dependiente e independientes\n",
    "y = ocupados_train['salario_semanal']\n",
    "\n",
    "# Modelos\n",
    "X1 = sm.add_constant(ocupados_train[['edad']])\n",
    "X2 = sm.add_constant(ocupados_train[['edad', 'edad2']])\n",
    "X3 = sm.add_constant(ocupados_train[['edad', 'edad2', 'educ']])\n",
    "X4 = sm.add_constant(ocupados_train[['edad', 'edad2', 'educ', 'mujer']])\n",
    "X5 = sm.add_constant(ocupados_train[['edad', 'edad2', 'educ', 'mujer', 'variable1', 'variable2']])\n",
    "\n",
    "# Ajustar modelos\n",
    "modelo1 = sm.OLS(y, X1).fit()\n",
    "modelo2 = sm.OLS(y, X2).fit()\n",
    "modelo3 = sm.OLS(y, X3).fit()\n",
    "modelo4 = sm.OLS(y, X4).fit()\n",
    "modelo5 = sm.OLS(y, X5).fit()"
   ]
  },
  {
   "cell_type": "code",
   "execution_count": 71,
   "id": "c6ed86e4-e714-43f3-90ea-25f9ba784d93",
   "metadata": {},
   "outputs": [
    {
     "data": {
      "text/html": [
       "<div>\n",
       "<style scoped>\n",
       "    .dataframe tbody tr th:only-of-type {\n",
       "        vertical-align: middle;\n",
       "    }\n",
       "\n",
       "    .dataframe tbody tr th {\n",
       "        vertical-align: top;\n",
       "    }\n",
       "\n",
       "    .dataframe thead th {\n",
       "        text-align: right;\n",
       "    }\n",
       "</style>\n",
       "<table border=\"1\" class=\"dataframe\">\n",
       "  <thead>\n",
       "    <tr style=\"text-align: right;\">\n",
       "      <th></th>\n",
       "      <th>Modelo 1</th>\n",
       "      <th>Modelo 2</th>\n",
       "      <th>Modelo 3</th>\n",
       "      <th>Modelo 4</th>\n",
       "      <th>Modelo 5</th>\n",
       "    </tr>\n",
       "  </thead>\n",
       "  <tbody>\n",
       "    <tr>\n",
       "      <th>const</th>\n",
       "      <td>73.139***\\n(5.47)</td>\n",
       "      <td>75.923***\\n(5.52)</td>\n",
       "      <td>-62.915***\\n(7.11)</td>\n",
       "      <td>-160.821***\\n(7.74)</td>\n",
       "      <td>-160.821***\\n(7.74)</td>\n",
       "    </tr>\n",
       "    <tr>\n",
       "      <th>edad</th>\n",
       "      <td>4.330***\\n(0.14)</td>\n",
       "      <td>4.219***\\n(0.15)</td>\n",
       "      <td>4.963***\\n(0.15)</td>\n",
       "      <td>5.228***\\n(0.14)</td>\n",
       "      <td>5.228***\\n(0.14)</td>\n",
       "    </tr>\n",
       "    <tr>\n",
       "      <th>edad2</th>\n",
       "      <td>NaN</td>\n",
       "      <td>-0.168***\\n(0.05)</td>\n",
       "      <td>-0.052\\n(0.05)</td>\n",
       "      <td>-0.053\\n(0.04)</td>\n",
       "      <td>-0.053\\n(0.04)</td>\n",
       "    </tr>\n",
       "    <tr>\n",
       "      <th>educ</th>\n",
       "      <td>NaN</td>\n",
       "      <td>NaN</td>\n",
       "      <td>48.409***\\n(1.60)</td>\n",
       "      <td>49.575***\\n(1.57)</td>\n",
       "      <td>49.575***\\n(1.57)</td>\n",
       "    </tr>\n",
       "    <tr>\n",
       "      <th>mujer</th>\n",
       "      <td>NaN</td>\n",
       "      <td>NaN</td>\n",
       "      <td>NaN</td>\n",
       "      <td>182.588***\\n(6.14)</td>\n",
       "      <td>182.588***\\n(6.14)</td>\n",
       "    </tr>\n",
       "    <tr>\n",
       "      <th>variable1</th>\n",
       "      <td>NaN</td>\n",
       "      <td>NaN</td>\n",
       "      <td>NaN</td>\n",
       "      <td>NaN</td>\n",
       "      <td>0.000\\n(0.00)</td>\n",
       "    </tr>\n",
       "    <tr>\n",
       "      <th>variable2</th>\n",
       "      <td>NaN</td>\n",
       "      <td>NaN</td>\n",
       "      <td>NaN</td>\n",
       "      <td>NaN</td>\n",
       "      <td>0.000\\n(0.00)</td>\n",
       "    </tr>\n",
       "    <tr>\n",
       "      <th>N (obs)</th>\n",
       "      <td>29823</td>\n",
       "      <td>29823</td>\n",
       "      <td>29823</td>\n",
       "      <td>29823</td>\n",
       "      <td>29823</td>\n",
       "    </tr>\n",
       "    <tr>\n",
       "      <th>R2</th>\n",
       "      <td>0.030</td>\n",
       "      <td>0.030</td>\n",
       "      <td>0.059</td>\n",
       "      <td>0.086</td>\n",
       "      <td>0.086</td>\n",
       "    </tr>\n",
       "  </tbody>\n",
       "</table>\n",
       "</div>"
      ],
      "text/plain": [
       "                    Modelo 1           Modelo 2            Modelo 3  \\\n",
       "const      73.139***\\n(5.47)  75.923***\\n(5.52)  -62.915***\\n(7.11)   \n",
       "edad        4.330***\\n(0.14)   4.219***\\n(0.15)    4.963***\\n(0.15)   \n",
       "edad2                    NaN  -0.168***\\n(0.05)      -0.052\\n(0.05)   \n",
       "educ                     NaN                NaN   48.409***\\n(1.60)   \n",
       "mujer                    NaN                NaN                 NaN   \n",
       "variable1                NaN                NaN                 NaN   \n",
       "variable2                NaN                NaN                 NaN   \n",
       "N (obs)                29823              29823               29823   \n",
       "R2                     0.030              0.030               0.059   \n",
       "\n",
       "                      Modelo 4             Modelo 5  \n",
       "const      -160.821***\\n(7.74)  -160.821***\\n(7.74)  \n",
       "edad          5.228***\\n(0.14)     5.228***\\n(0.14)  \n",
       "edad2           -0.053\\n(0.04)       -0.053\\n(0.04)  \n",
       "educ         49.575***\\n(1.57)    49.575***\\n(1.57)  \n",
       "mujer       182.588***\\n(6.14)   182.588***\\n(6.14)  \n",
       "variable1                  NaN        0.000\\n(0.00)  \n",
       "variable2                  NaN        0.000\\n(0.00)  \n",
       "N (obs)                  29823                29823  \n",
       "R2                       0.086                0.086  "
      ]
     },
     "execution_count": 71,
     "metadata": {},
     "output_type": "execute_result"
    }
   ],
   "source": [
    "def formatear_coeficientes(modelo):\n",
    "    resumen = {}\n",
    "    for var in modelo.params.index:\n",
    "        coef = modelo.params[var]\n",
    "        stderr = modelo.bse[var]\n",
    "        pval = modelo.pvalues[var]\n",
    "        \n",
    "        # Definir estrellas según p-valor\n",
    "        if pval < 0.001:\n",
    "            stars = '***'\n",
    "        elif pval < 0.05:\n",
    "            stars = '**'\n",
    "        elif pval < 0.1:\n",
    "            stars = '*'\n",
    "        else:\n",
    "            stars = ''\n",
    "        \n",
    "        resumen[var] = f\"{coef:.3f}{stars}\\n({stderr:.2f})\"\n",
    "    return resumen\n",
    "\n",
    "# Aplicar a los modelos\n",
    "tabla2 = pd.DataFrame({\n",
    "    'Modelo 1': formatear_coeficientes(modelo1),\n",
    "    'Modelo 2': formatear_coeficientes(modelo2),\n",
    "    'Modelo 3': formatear_coeficientes(modelo3),\n",
    "    'Modelo 4': formatear_coeficientes(modelo4),\n",
    "    'Modelo 5': formatear_coeficientes(modelo5),\n",
    "})\n",
    "\n",
    "# Agregar N y R2 al final\n",
    "tabla2.loc['N (obs)'] = [\n",
    "    f\"{int(modelo.nobs)}\" for modelo in [modelo1, modelo2, modelo3, modelo4, modelo5]\n",
    "]\n",
    "tabla2.loc['R2'] = [\n",
    "    f\"{modelo.rsquared:.3f}\" for modelo in [modelo1, modelo2, modelo3, modelo4, modelo5]\n",
    "]\n",
    "\n",
    "tabla2"
   ]
  },
  {
   "cell_type": "code",
   "execution_count": 83,
   "id": "01b35980-1dae-45c9-acbc-ab113be06dd6",
   "metadata": {},
   "outputs": [
    {
     "name": "stdout",
     "output_type": "stream",
     "text": [
      "Index(['CODUSU', 'nro_hogar', 'componente', 'h15', 'ano4', 'trimestre',\n",
      "       'region', 'mas_500', 'aglomerado', 'pondera',\n",
      "       ...\n",
      "       'deccfr', 'ideccfr', 'rdeccfr', 'gdeccfr', 'pdeccfr', 'adeccfr',\n",
      "       'pj1_1', 'pj2_1', 'pj3_1', 'idimpp'],\n",
      "      dtype='object', length=176)\n",
      "     CODUSU  nro_hogar componente h15    ano4       trimestre  \\\n",
      "0  125098          1.0        1.0  Sí  2004.0  1er. Trimestre   \n",
      "1  125397          1.0        1.0  Sí  2004.0  1er. Trimestre   \n",
      "2  125515          1.0        1.0  Sí  2004.0  1er. Trimestre   \n",
      "3  125558          1.0        1.0  Sí  2004.0  1er. Trimestre   \n",
      "4  125558          1.0        2.0  Sí  2004.0  1er. Trimestre   \n",
      "\n",
      "              region mas_500              aglomerado  pondera  ... deccfr  \\\n",
      "0  Gran Buenos Aires       S  Ciudad de Buenos Aires   1299.0  ...     07   \n",
      "1  Gran Buenos Aires       S  Ciudad de Buenos Aires   2018.0  ...     00   \n",
      "2  Gran Buenos Aires       S  Ciudad de Buenos Aires   1486.0  ...     07   \n",
      "3  Gran Buenos Aires       S  Ciudad de Buenos Aires   1674.0  ...     08   \n",
      "4  Gran Buenos Aires       S  Ciudad de Buenos Aires   1674.0  ...     08   \n",
      "\n",
      "  ideccfr rdeccfr gdeccfr pdeccfr adeccfr pj1_1 pj2_1 pj3_1 idimpp  \n",
      "0              06      06              04   0.0   0.0   0.0  00000  \n",
      "1              00      00              00   0.0   0.0   0.0  00000  \n",
      "2              07      07              05   0.0   0.0   0.0  00020  \n",
      "3              08      08              06   0.0   0.0   0.0  00000  \n",
      "4              08      08              06   0.0   0.0   0.0  00000  \n",
      "\n",
      "[5 rows x 176 columns]\n"
     ]
    }
   ],
   "source": [
    "import pandas as pd\n",
    "\n",
    "# Cambia 'ruta/a/archivo.dta' por la ruta real de tu archivo Stata 2004\n",
    "df_2004 = pd.read_stata(r\"C:\\Users\\Gustavo\\Documents\\GitHub\\BigDataUBA-Grupo26\\TP 4\\t104_dta\\Individual_t104.dta\")\n",
    "\n",
    "# Verifica columnas y primeras filas\n",
    "print(df_2004.columns)\n",
    "print(df_2004.head())"
   ]
  },
  {
   "cell_type": "code",
   "execution_count": 77,
   "id": "116e3181-9846-493f-aab6-48266ab8a892",
   "metadata": {},
   "outputs": [
    {
     "name": "stdout",
     "output_type": "stream",
     "text": [
      "Index(['CODUSU', 'ANO4', 'TRIMESTRE', 'NRO_HOGAR', 'COMPONENTE', 'H15',\n",
      "       'REGION', 'MAS_500', 'AGLOMERADO', 'PONDERA',\n",
      "       ...\n",
      "       'PDECIFR', 'ADECIFR', 'IPCF', 'DECCFR', 'IDECCFR', 'RDECCFR', 'GDECCFR',\n",
      "       'PDECCFR', 'ADECCFR', 'PONDIH'],\n",
      "      dtype='object', length=177)\n",
      "                          CODUSU  ANO4  TRIMESTRE  NRO_HOGAR  COMPONENTE  H15  \\\n",
      "0  TQRMNOPUTHLMKQCDEGGFB00852588  2024          1          1           3    1   \n",
      "1  TQRMNOPUTHLMKQCDEGGFB00852588  2024          1          1           4    1   \n",
      "2  TQRMNOPUTHLMKQCDEGGFB00852588  2024          1          1           5    0   \n",
      "3  TQRMNOPPWHLLKRCDEGGFB00852574  2024          1          1           1    1   \n",
      "4  TQRMNOPPWHLLKRCDEGGFB00852574  2024          1          1           2    1   \n",
      "\n",
      "   REGION MAS_500  AGLOMERADO  PONDERA  ...  PDECIFR  ADECIFR      IPCF  \\\n",
      "0      42       S          10      439  ...      NaN       12       0.0   \n",
      "1      42       S          10      439  ...      NaN       12       0.0   \n",
      "2      42       S          10      439  ...      NaN       12       0.0   \n",
      "3      42       S          10      675  ...      NaN        8  212500.0   \n",
      "4      42       S          10      675  ...      NaN        8  212500.0   \n",
      "\n",
      "   DECCFR  IDECCFR  RDECCFR  GDECCFR  PDECCFR  ADECCFR  PONDIH  \n",
      "0      12     12.0       12     12.0      NaN       12       0  \n",
      "1      12     12.0       12     12.0      NaN       12       0  \n",
      "2      12     12.0       12     12.0      NaN       12       0  \n",
      "3       6      6.0        6      6.0      NaN        6    1610  \n",
      "4       6      6.0        6      6.0      NaN        6    1610  \n",
      "\n",
      "[5 rows x 177 columns]\n"
     ]
    }
   ],
   "source": [
    "df_2024 = pd.read_excel(r\"C:\\Users\\Gustavo\\Documents\\GitHub\\BigDataUBA-Grupo26\\TP 4\\EPH_usu_1_Trim_2024_xls\\EPH_usu_1er_Trim_2024_xlsx\\usu_individual_T124.xlsx\")\n",
    "\n",
    "# Verifica columnas y primeras filas\n",
    "print(df_2024.columns)\n",
    "print(df_2024.head())"
   ]
  },
  {
   "cell_type": "code",
   "execution_count": 73,
   "id": "33ae2d2a-550e-405d-813c-478b1795dba9",
   "metadata": {},
   "outputs": [
    {
     "ename": "FileNotFoundError",
     "evalue": "[Errno 2] No such file or directory: 'ruta/a/tu/archivo_train_2024.csv'",
     "output_type": "error",
     "traceback": [
      "\u001b[1;31m---------------------------------------------------------------------------\u001b[0m",
      "\u001b[1;31mFileNotFoundError\u001b[0m                         Traceback (most recent call last)",
      "Cell \u001b[1;32mIn[73], line 1\u001b[0m\n\u001b[1;32m----> 1\u001b[0m train_2024 \u001b[38;5;241m=\u001b[39m pd\u001b[38;5;241m.\u001b[39mread_csv(\u001b[38;5;124m'\u001b[39m\u001b[38;5;124mruta/a/tu/archivo_train_2024.csv\u001b[39m\u001b[38;5;124m'\u001b[39m)\n",
      "File \u001b[1;32m~\\anaconda3\\Lib\\site-packages\\pandas\\io\\parsers\\readers.py:1026\u001b[0m, in \u001b[0;36mread_csv\u001b[1;34m(filepath_or_buffer, sep, delimiter, header, names, index_col, usecols, dtype, engine, converters, true_values, false_values, skipinitialspace, skiprows, skipfooter, nrows, na_values, keep_default_na, na_filter, verbose, skip_blank_lines, parse_dates, infer_datetime_format, keep_date_col, date_parser, date_format, dayfirst, cache_dates, iterator, chunksize, compression, thousands, decimal, lineterminator, quotechar, quoting, doublequote, escapechar, comment, encoding, encoding_errors, dialect, on_bad_lines, delim_whitespace, low_memory, memory_map, float_precision, storage_options, dtype_backend)\u001b[0m\n\u001b[0;32m   1013\u001b[0m kwds_defaults \u001b[38;5;241m=\u001b[39m _refine_defaults_read(\n\u001b[0;32m   1014\u001b[0m     dialect,\n\u001b[0;32m   1015\u001b[0m     delimiter,\n\u001b[1;32m   (...)\u001b[0m\n\u001b[0;32m   1022\u001b[0m     dtype_backend\u001b[38;5;241m=\u001b[39mdtype_backend,\n\u001b[0;32m   1023\u001b[0m )\n\u001b[0;32m   1024\u001b[0m kwds\u001b[38;5;241m.\u001b[39mupdate(kwds_defaults)\n\u001b[1;32m-> 1026\u001b[0m \u001b[38;5;28;01mreturn\u001b[39;00m _read(filepath_or_buffer, kwds)\n",
      "File \u001b[1;32m~\\anaconda3\\Lib\\site-packages\\pandas\\io\\parsers\\readers.py:620\u001b[0m, in \u001b[0;36m_read\u001b[1;34m(filepath_or_buffer, kwds)\u001b[0m\n\u001b[0;32m    617\u001b[0m _validate_names(kwds\u001b[38;5;241m.\u001b[39mget(\u001b[38;5;124m\"\u001b[39m\u001b[38;5;124mnames\u001b[39m\u001b[38;5;124m\"\u001b[39m, \u001b[38;5;28;01mNone\u001b[39;00m))\n\u001b[0;32m    619\u001b[0m \u001b[38;5;66;03m# Create the parser.\u001b[39;00m\n\u001b[1;32m--> 620\u001b[0m parser \u001b[38;5;241m=\u001b[39m TextFileReader(filepath_or_buffer, \u001b[38;5;241m*\u001b[39m\u001b[38;5;241m*\u001b[39mkwds)\n\u001b[0;32m    622\u001b[0m \u001b[38;5;28;01mif\u001b[39;00m chunksize \u001b[38;5;129;01mor\u001b[39;00m iterator:\n\u001b[0;32m    623\u001b[0m     \u001b[38;5;28;01mreturn\u001b[39;00m parser\n",
      "File \u001b[1;32m~\\anaconda3\\Lib\\site-packages\\pandas\\io\\parsers\\readers.py:1620\u001b[0m, in \u001b[0;36mTextFileReader.__init__\u001b[1;34m(self, f, engine, **kwds)\u001b[0m\n\u001b[0;32m   1617\u001b[0m     \u001b[38;5;28mself\u001b[39m\u001b[38;5;241m.\u001b[39moptions[\u001b[38;5;124m\"\u001b[39m\u001b[38;5;124mhas_index_names\u001b[39m\u001b[38;5;124m\"\u001b[39m] \u001b[38;5;241m=\u001b[39m kwds[\u001b[38;5;124m\"\u001b[39m\u001b[38;5;124mhas_index_names\u001b[39m\u001b[38;5;124m\"\u001b[39m]\n\u001b[0;32m   1619\u001b[0m \u001b[38;5;28mself\u001b[39m\u001b[38;5;241m.\u001b[39mhandles: IOHandles \u001b[38;5;241m|\u001b[39m \u001b[38;5;28;01mNone\u001b[39;00m \u001b[38;5;241m=\u001b[39m \u001b[38;5;28;01mNone\u001b[39;00m\n\u001b[1;32m-> 1620\u001b[0m \u001b[38;5;28mself\u001b[39m\u001b[38;5;241m.\u001b[39m_engine \u001b[38;5;241m=\u001b[39m \u001b[38;5;28mself\u001b[39m\u001b[38;5;241m.\u001b[39m_make_engine(f, \u001b[38;5;28mself\u001b[39m\u001b[38;5;241m.\u001b[39mengine)\n",
      "File \u001b[1;32m~\\anaconda3\\Lib\\site-packages\\pandas\\io\\parsers\\readers.py:1880\u001b[0m, in \u001b[0;36mTextFileReader._make_engine\u001b[1;34m(self, f, engine)\u001b[0m\n\u001b[0;32m   1878\u001b[0m     \u001b[38;5;28;01mif\u001b[39;00m \u001b[38;5;124m\"\u001b[39m\u001b[38;5;124mb\u001b[39m\u001b[38;5;124m\"\u001b[39m \u001b[38;5;129;01mnot\u001b[39;00m \u001b[38;5;129;01min\u001b[39;00m mode:\n\u001b[0;32m   1879\u001b[0m         mode \u001b[38;5;241m+\u001b[39m\u001b[38;5;241m=\u001b[39m \u001b[38;5;124m\"\u001b[39m\u001b[38;5;124mb\u001b[39m\u001b[38;5;124m\"\u001b[39m\n\u001b[1;32m-> 1880\u001b[0m \u001b[38;5;28mself\u001b[39m\u001b[38;5;241m.\u001b[39mhandles \u001b[38;5;241m=\u001b[39m get_handle(\n\u001b[0;32m   1881\u001b[0m     f,\n\u001b[0;32m   1882\u001b[0m     mode,\n\u001b[0;32m   1883\u001b[0m     encoding\u001b[38;5;241m=\u001b[39m\u001b[38;5;28mself\u001b[39m\u001b[38;5;241m.\u001b[39moptions\u001b[38;5;241m.\u001b[39mget(\u001b[38;5;124m\"\u001b[39m\u001b[38;5;124mencoding\u001b[39m\u001b[38;5;124m\"\u001b[39m, \u001b[38;5;28;01mNone\u001b[39;00m),\n\u001b[0;32m   1884\u001b[0m     compression\u001b[38;5;241m=\u001b[39m\u001b[38;5;28mself\u001b[39m\u001b[38;5;241m.\u001b[39moptions\u001b[38;5;241m.\u001b[39mget(\u001b[38;5;124m\"\u001b[39m\u001b[38;5;124mcompression\u001b[39m\u001b[38;5;124m\"\u001b[39m, \u001b[38;5;28;01mNone\u001b[39;00m),\n\u001b[0;32m   1885\u001b[0m     memory_map\u001b[38;5;241m=\u001b[39m\u001b[38;5;28mself\u001b[39m\u001b[38;5;241m.\u001b[39moptions\u001b[38;5;241m.\u001b[39mget(\u001b[38;5;124m\"\u001b[39m\u001b[38;5;124mmemory_map\u001b[39m\u001b[38;5;124m\"\u001b[39m, \u001b[38;5;28;01mFalse\u001b[39;00m),\n\u001b[0;32m   1886\u001b[0m     is_text\u001b[38;5;241m=\u001b[39mis_text,\n\u001b[0;32m   1887\u001b[0m     errors\u001b[38;5;241m=\u001b[39m\u001b[38;5;28mself\u001b[39m\u001b[38;5;241m.\u001b[39moptions\u001b[38;5;241m.\u001b[39mget(\u001b[38;5;124m\"\u001b[39m\u001b[38;5;124mencoding_errors\u001b[39m\u001b[38;5;124m\"\u001b[39m, \u001b[38;5;124m\"\u001b[39m\u001b[38;5;124mstrict\u001b[39m\u001b[38;5;124m\"\u001b[39m),\n\u001b[0;32m   1888\u001b[0m     storage_options\u001b[38;5;241m=\u001b[39m\u001b[38;5;28mself\u001b[39m\u001b[38;5;241m.\u001b[39moptions\u001b[38;5;241m.\u001b[39mget(\u001b[38;5;124m\"\u001b[39m\u001b[38;5;124mstorage_options\u001b[39m\u001b[38;5;124m\"\u001b[39m, \u001b[38;5;28;01mNone\u001b[39;00m),\n\u001b[0;32m   1889\u001b[0m )\n\u001b[0;32m   1890\u001b[0m \u001b[38;5;28;01massert\u001b[39;00m \u001b[38;5;28mself\u001b[39m\u001b[38;5;241m.\u001b[39mhandles \u001b[38;5;129;01mis\u001b[39;00m \u001b[38;5;129;01mnot\u001b[39;00m \u001b[38;5;28;01mNone\u001b[39;00m\n\u001b[0;32m   1891\u001b[0m f \u001b[38;5;241m=\u001b[39m \u001b[38;5;28mself\u001b[39m\u001b[38;5;241m.\u001b[39mhandles\u001b[38;5;241m.\u001b[39mhandle\n",
      "File \u001b[1;32m~\\anaconda3\\Lib\\site-packages\\pandas\\io\\common.py:873\u001b[0m, in \u001b[0;36mget_handle\u001b[1;34m(path_or_buf, mode, encoding, compression, memory_map, is_text, errors, storage_options)\u001b[0m\n\u001b[0;32m    868\u001b[0m \u001b[38;5;28;01melif\u001b[39;00m \u001b[38;5;28misinstance\u001b[39m(handle, \u001b[38;5;28mstr\u001b[39m):\n\u001b[0;32m    869\u001b[0m     \u001b[38;5;66;03m# Check whether the filename is to be opened in binary mode.\u001b[39;00m\n\u001b[0;32m    870\u001b[0m     \u001b[38;5;66;03m# Binary mode does not support 'encoding' and 'newline'.\u001b[39;00m\n\u001b[0;32m    871\u001b[0m     \u001b[38;5;28;01mif\u001b[39;00m ioargs\u001b[38;5;241m.\u001b[39mencoding \u001b[38;5;129;01mand\u001b[39;00m \u001b[38;5;124m\"\u001b[39m\u001b[38;5;124mb\u001b[39m\u001b[38;5;124m\"\u001b[39m \u001b[38;5;129;01mnot\u001b[39;00m \u001b[38;5;129;01min\u001b[39;00m ioargs\u001b[38;5;241m.\u001b[39mmode:\n\u001b[0;32m    872\u001b[0m         \u001b[38;5;66;03m# Encoding\u001b[39;00m\n\u001b[1;32m--> 873\u001b[0m         handle \u001b[38;5;241m=\u001b[39m \u001b[38;5;28mopen\u001b[39m(\n\u001b[0;32m    874\u001b[0m             handle,\n\u001b[0;32m    875\u001b[0m             ioargs\u001b[38;5;241m.\u001b[39mmode,\n\u001b[0;32m    876\u001b[0m             encoding\u001b[38;5;241m=\u001b[39mioargs\u001b[38;5;241m.\u001b[39mencoding,\n\u001b[0;32m    877\u001b[0m             errors\u001b[38;5;241m=\u001b[39merrors,\n\u001b[0;32m    878\u001b[0m             newline\u001b[38;5;241m=\u001b[39m\u001b[38;5;124m\"\u001b[39m\u001b[38;5;124m\"\u001b[39m,\n\u001b[0;32m    879\u001b[0m         )\n\u001b[0;32m    880\u001b[0m     \u001b[38;5;28;01melse\u001b[39;00m:\n\u001b[0;32m    881\u001b[0m         \u001b[38;5;66;03m# Binary mode\u001b[39;00m\n\u001b[0;32m    882\u001b[0m         handle \u001b[38;5;241m=\u001b[39m \u001b[38;5;28mopen\u001b[39m(handle, ioargs\u001b[38;5;241m.\u001b[39mmode)\n",
      "\u001b[1;31mFileNotFoundError\u001b[0m: [Errno 2] No such file or directory: 'ruta/a/tu/archivo_train_2024.csv'"
     ]
    }
   ],
   "source": [
    "train_2024 = pd.read_csv('ruta/a/tu/archivo_train_2024.csv')"
   ]
  },
  {
   "cell_type": "code",
   "execution_count": 91,
   "id": "7460b887-9880-442c-814d-fd11b672d5fa",
   "metadata": {},
   "outputs": [
    {
     "name": "stdout",
     "output_type": "stream",
     "text": [
      "                            OLS Regression Results                            \n",
      "==============================================================================\n",
      "Dep. Variable:                salario   R-squared:                       0.115\n",
      "Model:                            OLS   Adj. R-squared:                  0.115\n",
      "Method:                 Least Squares   F-statistic:                     716.4\n",
      "Date:                Tue, 03 Jun 2025   Prob (F-statistic):               0.00\n",
      "Time:                        19:06:05   Log-Likelihood:            -2.3120e+05\n",
      "No. Observations:               16513   AIC:                         4.624e+05\n",
      "Df Residuals:                   16509   BIC:                         4.624e+05\n",
      "Df Model:                           3                                         \n",
      "Covariance Type:            nonrobust                                         \n",
      "==============================================================================\n",
      "                 coef    std err          t      P>|t|      [0.025      0.975]\n",
      "------------------------------------------------------------------------------\n",
      "const      -4.327e+04   1.06e+04     -4.092      0.000    -6.4e+04   -2.25e+04\n",
      "edad        3209.8419    178.815     17.951      0.000    2859.346    3560.338\n",
      "educ         6.63e+04   1672.429     39.642      0.000     6.3e+04    6.96e+04\n",
      "mujer      -1.228e+05   4643.697    -26.438      0.000   -1.32e+05   -1.14e+05\n",
      "==============================================================================\n",
      "Omnibus:                    25101.182   Durbin-Watson:                   1.665\n",
      "Prob(Omnibus):                  0.000   Jarque-Bera (JB):         28138482.018\n",
      "Skew:                           9.150   Prob(JB):                         0.00\n",
      "Kurtosis:                     204.399   Cond. No.                         202.\n",
      "==============================================================================\n",
      "\n",
      "Notes:\n",
      "[1] Standard Errors assume that the covariance matrix of the errors is correctly specified.\n"
     ]
    }
   ],
   "source": [
    "import pandas as pd\n",
    "import statsmodels.api as sm\n",
    "\n",
    "# Supongamos que tu dataframe se llama df_2024\n",
    "# Seleccionamos solo las columnas que necesitamos\n",
    "df_model = df_2024[['CH06', 'NIVEL_ED', 'CH04', 'P21']].copy()\n",
    "\n",
    "df_model.rename(columns={\n",
    "    'CH06': 'edad',\n",
    "    'NIVEL_ED': 'educ',\n",
    "    'CH04': 'sexo',\n",
    "    'P21': 'salario'\n",
    "}, inplace=True)\n",
    "\n",
    "# Filtrar filas con datos válidos\n",
    "df_model = df_model[(df_model['edad'] > 0) & (df_model['salario'] > 0) & (df_model['educ'] >= 0)]\n",
    "\n",
    "# Crear variable dummy para mujer (sexo == 2)\n",
    "df_model['mujer'] = (df_model['sexo'] == 2).astype(int)\n",
    "\n",
    "# Agregar constante para el modelo (intercepto)\n",
    "df_model = sm.add_constant(df_model)\n",
    "\n",
    "# Variables independientes\n",
    "X = df_model[['const', 'edad', 'educ', 'mujer']]\n",
    "\n",
    "# Variable dependiente\n",
    "y = df_model['salario']\n",
    "\n",
    "# Ajustar modelo de regresión lineal\n",
    "modelo = sm.OLS(y, X).fit()\n",
    "\n",
    "# Mostrar resumen del modelo\n",
    "print(modelo.summary())"
   ]
  },
  {
   "cell_type": "code",
   "execution_count": 95,
   "id": "f9f9d9bd-9605-4463-ac46-9169c44f0f30",
   "metadata": {},
   "outputs": [
    {
     "data": {
      "image/png": "[encoded data removed]",
      "text/plain": [
       "<Figure size 1000x400 with 1 Axes>"
      ]
     },
     "metadata": {},
     "output_type": "display_data"
    }
   ],
   "source": [
    "import matplotlib.pyplot as plt\n",
    "\n",
    "# Convertimos los resultados en tabla\n",
    "fig, ax = plt.subplots(figsize=(10, 4))\n",
    "ax.axis('off')\n",
    "\n",
    "# Obtenemos los valores principales del resumen\n",
    "table_data = [\n",
    "    ['Variable', 'Coef.', 'Std.Err.', 't', 'P>|t|', '[0.025', '0.975]'],\n",
    "    ['const', '-43270', '10600', '-4.092', '0.000', '-64000', '-22500'],\n",
    "    ['edad', '3209.84', '178.81', '17.95', '0.000', '2859.35', '3560.34'],\n",
    "    ['educ', '66300', '1672.42', '39.64', '0.000', '63000', '69600'],\n",
    "    ['mujer', '-122800', '4643.70', '-26.44', '0.000', '-132000', '-114000']\n",
    "]\n",
    "\n",
    "# Dibujamos la tabla\n",
    "table = ax.table(cellText=table_data, loc='center', cellLoc='center', colWidths=[0.15]*7)\n",
    "table.auto_set_font_size(False)\n",
    "table.set_fontsize(10)\n",
    "table.scale(1, 2)\n",
    "\n",
    "# Guardar como imagen\n",
    "plt.savefig(\"resultados_regresion.png\", bbox_inches='tight')\n",
    "plt.show()"
   ]
  },
  {
   "cell_type": "code",
   "execution_count": 93,
   "id": "f803b5af-c02a-45f8-ac0b-9f4722731dc1",
   "metadata": {
    "scrolled": true
   },
   "outputs": [
    {
     "data": {
      "image/png": "[encoded data removed]",
      "text/plain": [
       "<Figure size 800x340 with 1 Axes>"
      ]
     },
     "metadata": {},
     "output_type": "display_data"
    }
   ],
   "source": [
    "import matplotlib.pyplot as plt\n",
    "import pandas as pd\n",
    "\n",
    "# Extraer coeficientes, errores estándar y p-values\n",
    "params = modelo.params\n",
    "conf = modelo.conf_int()\n",
    "std_err = modelo.bse\n",
    "pvalues = modelo.pvalues\n",
    "\n",
    "# Crear DataFrame con resultados\n",
    "df_result = pd.DataFrame({\n",
    "    'Coeficiente': params,\n",
    "    'Error Std': std_err,\n",
    "    'p-valor': pvalues,\n",
    "    'IC 2.5%': conf[0],\n",
    "    'IC 97.5%': conf[1]\n",
    "})\n",
    "\n",
    "# Dibujar tabla con matplotlib\n",
    "fig, ax = plt.subplots(figsize=(8, len(df_result)*0.6 + 1))\n",
    "ax.axis('tight')\n",
    "ax.axis('off')\n",
    "tabla = ax.table(cellText=df_result.round(4).values,\n",
    "                 colLabels=df_result.columns,\n",
    "                 loc='center')\n",
    "\n",
    "plt.savefig('tabla_resultados.png', dpi=300, bbox_inches='tight')\n",
    "plt.show()"
   ]
  },
  {
   "cell_type": "code",
   "execution_count": null,
   "id": "0e20c7ec-8187-43db-aff0-82fc5974708e",
   "metadata": {},
   "outputs": [],
   "source": [
    "#Parte C. Métodos de Clasificación y Performance"
   ]
  },
  {
   "cell_type": "code",
   "execution_count": null,
   "id": "f7f51ad2-6a7b-4233-b7b0-6f3d7eb0f861",
   "metadata": {},
   "outputs": [],
   "source": []
  },
  {
   "cell_type": "code",
   "execution_count": null,
   "id": "b590be77-1f6d-4fd8-af4f-9810164c334c",
   "metadata": {},
   "outputs": [],
   "source": []
  }
 ],
 "metadata": {
  "kernelspec": {
   "display_name": "Python [conda env:base] *",
   "language": "python",
   "name": "conda-base-py"
  },
  "language_info": {
   "codemirror_mode": {
    "name": "ipython",
    "version": 3
   },
   "file_extension": ".py",
   "mimetype": "text/x-python",
   "name": "python",
   "nbconvert_exporter": "python",
   "pygments_lexer": "ipython3",
   "version": "3.12.7"
  }
 },
 "nbformat": 4,
 "nbformat_minor": 5
}

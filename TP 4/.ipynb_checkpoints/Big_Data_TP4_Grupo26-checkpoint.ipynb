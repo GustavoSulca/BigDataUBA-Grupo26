{
 "cells": [
  {
   "cell_type": "code",
   "execution_count": 1,
   "id": "a9fab23a-ed95-4aa7-9afd-1fe20bafe4b6",
   "metadata": {},
   "outputs": [],
   "source": [
    "#Parte A. Enfoque de validación"
   ]
  },
  {
   "cell_type": "code",
   "execution_count": 3,
   "id": "455e8789-ff37-47ee-8ee9-04371bb8714f",
   "metadata": {},
   "outputs": [],
   "source": [
    "import pandas as pd\n",
    "import numpy as np"
   ]
  },
  {
   "cell_type": "code",
   "execution_count": 5,
   "id": "64248f1c-8023-4962-9cb7-ea07f4192134",
   "metadata": {},
   "outputs": [],
   "source": [
    "# 2004 - formato Stata\n",
    "df_2004 = pd.read_stata(r\"C:\\Users\\Gustavo\\Documents\\GitHub\\BigDataUBA-Grupo26\\TP 4\\t104_dta\\Individual_t104.dta\")\n",
    "\n",
    "# 2024 - formato Excel\n",
    "df_2024 = pd.read_excel(r\"C:\\Users\\Gustavo\\Documents\\GitHub\\BigDataUBA-Grupo26\\TP 4\\EPH_usu_1_Trim_2024_xls\\EPH_usu_1er_Trim_2024_xlsx\\usu_individual_T124.xlsx\")"
   ]
  },
  {
   "cell_type": "code",
   "execution_count": 6,
   "id": "bfc2f3bb-deba-4bb6-a75b-0f0b8f33e9bf",
   "metadata": {},
   "outputs": [
    {
     "name": "stdout",
     "output_type": "stream",
     "text": [
      "['CODUSU', 'ANO4', 'TRIMESTRE', 'NRO_HOGAR', 'COMPONENTE', 'H15', 'REGION', 'MAS_500', 'AGLOMERADO', 'PONDERA', 'CH03', 'CH04', 'CH05', 'CH06', 'CH07', 'CH08', 'CH09', 'CH10', 'CH11', 'CH12', 'CH13', 'CH14', 'CH15', 'CH15_COD', 'CH16', 'CH16_COD', 'NIVEL_ED', 'ESTADO', 'CAT_OCUP', 'CAT_INAC', 'IMPUTA', 'PP02C1', 'PP02C2', 'PP02C3', 'PP02C4', 'PP02C5', 'PP02C6', 'PP02C7', 'PP02C8', 'PP02E', 'PP02H', 'PP02I', 'PP03C', 'PP03D', 'PP3E_TOT', 'PP3F_TOT', 'PP03G', 'PP03H', 'PP03I', 'PP03J', 'INTENSI', 'PP04A', 'PP04B_COD', 'PP04B1', 'PP04B2', 'PP04B3_MES', 'PP04B3_ANO', 'PP04B3_DIA', 'PP04C', 'PP04C99', 'PP04D_COD', 'PP04G', 'PP05B2_MES', 'PP05B2_ANO', 'PP05B2_DIA', 'PP05C_1', 'PP05C_2', 'PP05C_3', 'PP05E', 'PP05F', 'PP05H', 'PP06A', 'PP06C', 'PP06D', 'PP06E', 'PP06H', 'PP07A', 'PP07C', 'PP07D', 'PP07E', 'PP07F1', 'PP07F2', 'PP07F3', 'PP07F4', 'PP07F5', 'PP07G1', 'PP07G2', 'PP07G3', 'PP07G4', 'PP07G_59', 'PP07H', 'PP07I', 'PP07J', 'PP07K', 'PP08D1', 'PP08D4', 'PP08F1', 'PP08F2', 'PP08J1', 'PP08J2', 'PP08J3', 'PP09A', 'PP09A_ESP', 'PP09B', 'PP09C', 'PP09C_ESP', 'PP10A', 'PP10C', 'PP10D', 'PP10E', 'PP11A', 'PP11B_COD', 'PP11B1', 'PP11B2_MES', 'PP11B2_ANO', 'PP11B2_DIA', 'PP11C', 'PP11C99', 'PP11D_COD', 'PP11G_ANO', 'PP11G_MES', 'PP11G_DIA', 'PP11L', 'PP11L1', 'PP11M', 'PP11N', 'PP11O', 'PP11P', 'PP11Q', 'PP11R', 'PP11S', 'PP11T', 'P21', 'DECOCUR', 'IDECOCUR', 'RDECOCUR', 'GDECOCUR', 'PDECOCUR', 'ADECOCUR', 'PONDIIO', 'TOT_P12', 'P47T', 'DECINDR', 'IDECINDR', 'RDECINDR', 'GDECINDR', 'PDECINDR', 'ADECINDR', 'PONDII', 'V2_M', 'V3_M', 'V4_M', 'V5_M', 'V8_M', 'V9_M', 'V10_M', 'V11_M', 'V12_M', 'V18_M', 'V19_AM', 'V21_M', 'T_VI', 'ITF', 'DECIFR', 'IDECIFR', 'RDECIFR', 'GDECIFR', 'PDECIFR', 'ADECIFR', 'IPCF', 'DECCFR', 'IDECCFR', 'RDECCFR', 'GDECCFR', 'PDECCFR', 'ADECCFR', 'PONDIH']\n"
     ]
    }
   ],
   "source": [
    "print(df_2024.columns.tolist())"
   ]
  },
  {
   "cell_type": "code",
   "execution_count": 9,
   "id": "9a663011-c62e-4966-b4e4-2273c93d53a6",
   "metadata": {},
   "outputs": [],
   "source": [
    "# Renombrar columnas en df_2004\n",
    "df_2004 = df_2004.rename(columns={\n",
    "    'ch06': 'edad',\n",
    "    'nivel_ed': 'educ',\n",
    "    'ch04': 'sexo',\n",
    "    'cat_ocup': 'condicion_empleo',\n",
    "    'p21': 'salario_semanal'\n",
    "})\n",
    "\n",
    "# Seleccionar solo las columnas necesarias\n",
    "variables = ['edad', 'educ', 'sexo', 'condicion_empleo', 'salario_semanal']\n",
    "df_2004 = df_2004[variables]\n",
    "# Renombrar columnas en df_2024 para que coincidan con los nombres usados en df_2004\n",
    "df_2024 = df_2024.rename(columns={\n",
    "    'CH06': 'edad',\n",
    "    'NIVEL_ED': 'educ',\n",
    "    'CH04': 'sexo',\n",
    "    'CAT_OCUP': 'condicion_empleo',\n",
    "    'P21': 'salario_semanal'\n",
    "})\n",
    "\n",
    "variables = ['edad', 'educ', 'sexo', 'condicion_empleo', 'salario_semanal']\n",
    "df_2024 = df_2024[variables]"
   ]
  },
  {
   "cell_type": "code",
   "execution_count": 11,
   "id": "0c66cb4d-f9e4-4020-ad18-af81b3985b69",
   "metadata": {},
   "outputs": [
    {
     "name": "stdout",
     "output_type": "stream",
     "text": [
      "   edad                             educ   sexo condicion_empleo  \\\n",
      "0  79.0            Secundaria Incompleta  Varón              0.0   \n",
      "1  67.0                Primaria Completa  Mujer    Cuenta propia   \n",
      "2  74.0                Primaria Completa  Mujer              0.0   \n",
      "3  54.0                Primaria Completa  Varón    Cuenta propia   \n",
      "4  51.0  Superior Universitaria Completa  Mujer              0.0   \n",
      "\n",
      "   salario_semanal  \n",
      "0              0.0  \n",
      "1              0.0  \n",
      "2              0.0  \n",
      "3           2000.0  \n",
      "4              0.0  \n"
     ]
    }
   ],
   "source": [
    "print(df_2004.head())"
   ]
  },
  {
   "cell_type": "code",
   "execution_count": 13,
   "id": "dc08b9bf-5cd2-43a8-b42c-a01c91b5d938",
   "metadata": {},
   "outputs": [
    {
     "name": "stdout",
     "output_type": "stream",
     "text": [
      "   edad  educ  sexo  condicion_empleo  salario_semanal\n",
      "0    44     3     2                 3               -9\n",
      "1    22     5     2                 0                0\n",
      "2     3     7     2                 0                0\n",
      "3    54     4     1                 3           250000\n",
      "4    53     4     2                 3           200000\n"
     ]
    }
   ],
   "source": [
    "print(df_2024.head())"
   ]
  },
  {
   "cell_type": "code",
   "execution_count": 15,
   "id": "83abe42f-4a3b-44ed-9bae-7c234b3074ac",
   "metadata": {},
   "outputs": [
    {
     "name": "stdout",
     "output_type": "stream",
     "text": [
      "Columnas df_2004: ['edad', 'educ', 'sexo', 'condicion_empleo', 'salario_semanal']\n",
      "Columnas df_2024: ['edad', 'educ', 'sexo', 'condicion_empleo', 'salario_semanal']\n"
     ]
    }
   ],
   "source": [
    "# Renombrar columnas en df_2004\n",
    "df_2004 = df_2004.rename(columns={\n",
    "    'ch03': 'edad',\n",
    "    'nivel_ed': 'educ',\n",
    "    'ch04': 'sexo',\n",
    "    'cat_ocup': 'condicion_empleo',\n",
    "    'p21': 'salario_semanal'\n",
    "})\n",
    "\n",
    "# Renombrar columnas en df_2024\n",
    "df_2024 = df_2024.rename(columns={\n",
    "    'CH03': 'edad',\n",
    "    'NIVEL_ED': 'educ',\n",
    "    'CH04': 'sexo',\n",
    "    'CAT_OCUP': 'condicion_empleo',\n",
    "    'P21': 'salario_semanal'\n",
    "})\n",
    "\n",
    "# Variables que vamos a usar\n",
    "variables = ['edad', 'educ', 'sexo', 'condicion_empleo', 'salario_semanal']\n",
    "\n",
    "# Seleccionar columnas para cada dataframe\n",
    "df_2004 = df_2004[variables]\n",
    "df_2024 = df_2024[variables]\n",
    "\n",
    "# Mostrar columnas para verificar\n",
    "print(\"Columnas df_2004:\", df_2004.columns.tolist())\n",
    "print(\"Columnas df_2024:\", df_2024.columns.tolist())"
   ]
  },
  {
   "cell_type": "code",
   "execution_count": 27,
   "id": "98634b73-dcd2-4437-b107-00be8c82a0aa",
   "metadata": {},
   "outputs": [],
   "source": [
    "def crear_variables(df):\n",
    "    df = df.copy()\n",
    "\n",
    "    # Edad\n",
    "    if 'CH06' in df.columns:\n",
    "        edad_col = 'CH06'\n",
    "    elif 'ch06' in df.columns:\n",
    "        edad_col = 'ch06'\n",
    "    else:\n",
    "        edad_col = None\n",
    "\n",
    "    if edad_col:\n",
    "        if pd.api.types.is_categorical_dtype(df[edad_col]):\n",
    "            df['edad'] = pd.to_numeric(df[edad_col].astype(str), errors='coerce')\n",
    "        else:\n",
    "            df['edad'] = pd.to_numeric(df[edad_col], errors='coerce')\n",
    "\n",
    "    # Sexo\n",
    "    if 'CH04' in df.columns:\n",
    "        sexo_col = 'CH04'\n",
    "    elif 'ch04' in df.columns:\n",
    "        sexo_col = 'ch04'\n",
    "    else:\n",
    "        sexo_col = None\n",
    "\n",
    "    if sexo_col:\n",
    "        df['sexo'] = pd.to_numeric(df[sexo_col], errors='coerce')\n",
    "\n",
    "    # Educación\n",
    "    if 'NIVEL_ED' in df.columns:\n",
    "        educ_col = 'NIVEL_ED'\n",
    "    elif 'nivel_ed' in df.columns:\n",
    "        educ_col = 'nivel_ed'\n",
    "    else:\n",
    "        educ_col = None\n",
    "\n",
    "    if educ_col:\n",
    "        df['educ'] = pd.to_numeric(df[educ_col], errors='coerce')\n",
    "\n",
    "    # Condición de empleo\n",
    "    if 'ESTADO' in df.columns:\n",
    "        df['condicion_empleo'] = df['ESTADO']\n",
    "    elif 'estado' in df.columns:\n",
    "        df['condicion_empleo'] = df['estado']\n",
    "\n",
    "    # Salario semanal\n",
    "    if 'P21' in df.columns:\n",
    "        df['salario_semanal'] = pd.to_numeric(df['P21'], errors='coerce')\n",
    "    elif 'p21' in df.columns:\n",
    "        df['salario_semanal'] = pd.to_numeric(df['p21'], errors='coerce')\n",
    "\n",
    "    # Variables derivadas\n",
    "    df['edad2'] = df['edad'] ** 2\n",
    "    df['mujer'] = df['sexo'].apply(lambda x: 1 if x == 2 else 0)\n",
    "    df['educ_alta'] = (df['educ'] > 12).astype(int)\n",
    "\n",
    "    return df"
   ]
  },
  {
   "cell_type": "code",
   "execution_count": 29,
   "id": "486a8beb-c6cf-44a4-b336-db94e60b18bb",
   "metadata": {},
   "outputs": [
    {
     "ename": "KeyError",
     "evalue": "'CH06'",
     "output_type": "error",
     "traceback": [
      "\u001b[1;31m---------------------------------------------------------------------------\u001b[0m",
      "\u001b[1;31mKeyError\u001b[0m                                  Traceback (most recent call last)",
      "File \u001b[1;32m~\\anaconda3\\Lib\\site-packages\\pandas\\core\\indexes\\base.py:3805\u001b[0m, in \u001b[0;36mIndex.get_loc\u001b[1;34m(self, key)\u001b[0m\n\u001b[0;32m   3804\u001b[0m \u001b[38;5;28;01mtry\u001b[39;00m:\n\u001b[1;32m-> 3805\u001b[0m     \u001b[38;5;28;01mreturn\u001b[39;00m \u001b[38;5;28mself\u001b[39m\u001b[38;5;241m.\u001b[39m_engine\u001b[38;5;241m.\u001b[39mget_loc(casted_key)\n\u001b[0;32m   3806\u001b[0m \u001b[38;5;28;01mexcept\u001b[39;00m \u001b[38;5;167;01mKeyError\u001b[39;00m \u001b[38;5;28;01mas\u001b[39;00m err:\n",
      "File \u001b[1;32mindex.pyx:167\u001b[0m, in \u001b[0;36mpandas._libs.index.IndexEngine.get_loc\u001b[1;34m()\u001b[0m\n",
      "File \u001b[1;32mindex.pyx:196\u001b[0m, in \u001b[0;36mpandas._libs.index.IndexEngine.get_loc\u001b[1;34m()\u001b[0m\n",
      "File \u001b[1;32mpandas\\\\_libs\\\\hashtable_class_helper.pxi:7081\u001b[0m, in \u001b[0;36mpandas._libs.hashtable.PyObjectHashTable.get_item\u001b[1;34m()\u001b[0m\n",
      "File \u001b[1;32mpandas\\\\_libs\\\\hashtable_class_helper.pxi:7089\u001b[0m, in \u001b[0;36mpandas._libs.hashtable.PyObjectHashTable.get_item\u001b[1;34m()\u001b[0m\n",
      "\u001b[1;31mKeyError\u001b[0m: 'CH06'",
      "\nThe above exception was the direct cause of the following exception:\n",
      "\u001b[1;31mKeyError\u001b[0m                                  Traceback (most recent call last)",
      "Cell \u001b[1;32mIn[29], line 1\u001b[0m\n\u001b[1;32m----> 1\u001b[0m \u001b[38;5;28mtype\u001b[39m(df_2004[\u001b[38;5;124m'\u001b[39m\u001b[38;5;124mCH06\u001b[39m\u001b[38;5;124m'\u001b[39m])\n",
      "File \u001b[1;32m~\\anaconda3\\Lib\\site-packages\\pandas\\core\\frame.py:4102\u001b[0m, in \u001b[0;36mDataFrame.__getitem__\u001b[1;34m(self, key)\u001b[0m\n\u001b[0;32m   4100\u001b[0m \u001b[38;5;28;01mif\u001b[39;00m \u001b[38;5;28mself\u001b[39m\u001b[38;5;241m.\u001b[39mcolumns\u001b[38;5;241m.\u001b[39mnlevels \u001b[38;5;241m>\u001b[39m \u001b[38;5;241m1\u001b[39m:\n\u001b[0;32m   4101\u001b[0m     \u001b[38;5;28;01mreturn\u001b[39;00m \u001b[38;5;28mself\u001b[39m\u001b[38;5;241m.\u001b[39m_getitem_multilevel(key)\n\u001b[1;32m-> 4102\u001b[0m indexer \u001b[38;5;241m=\u001b[39m \u001b[38;5;28mself\u001b[39m\u001b[38;5;241m.\u001b[39mcolumns\u001b[38;5;241m.\u001b[39mget_loc(key)\n\u001b[0;32m   4103\u001b[0m \u001b[38;5;28;01mif\u001b[39;00m is_integer(indexer):\n\u001b[0;32m   4104\u001b[0m     indexer \u001b[38;5;241m=\u001b[39m [indexer]\n",
      "File \u001b[1;32m~\\anaconda3\\Lib\\site-packages\\pandas\\core\\indexes\\base.py:3812\u001b[0m, in \u001b[0;36mIndex.get_loc\u001b[1;34m(self, key)\u001b[0m\n\u001b[0;32m   3807\u001b[0m     \u001b[38;5;28;01mif\u001b[39;00m \u001b[38;5;28misinstance\u001b[39m(casted_key, \u001b[38;5;28mslice\u001b[39m) \u001b[38;5;129;01mor\u001b[39;00m (\n\u001b[0;32m   3808\u001b[0m         \u001b[38;5;28misinstance\u001b[39m(casted_key, abc\u001b[38;5;241m.\u001b[39mIterable)\n\u001b[0;32m   3809\u001b[0m         \u001b[38;5;129;01mand\u001b[39;00m \u001b[38;5;28many\u001b[39m(\u001b[38;5;28misinstance\u001b[39m(x, \u001b[38;5;28mslice\u001b[39m) \u001b[38;5;28;01mfor\u001b[39;00m x \u001b[38;5;129;01min\u001b[39;00m casted_key)\n\u001b[0;32m   3810\u001b[0m     ):\n\u001b[0;32m   3811\u001b[0m         \u001b[38;5;28;01mraise\u001b[39;00m InvalidIndexError(key)\n\u001b[1;32m-> 3812\u001b[0m     \u001b[38;5;28;01mraise\u001b[39;00m \u001b[38;5;167;01mKeyError\u001b[39;00m(key) \u001b[38;5;28;01mfrom\u001b[39;00m \u001b[38;5;21;01merr\u001b[39;00m\n\u001b[0;32m   3813\u001b[0m \u001b[38;5;28;01mexcept\u001b[39;00m \u001b[38;5;167;01mTypeError\u001b[39;00m:\n\u001b[0;32m   3814\u001b[0m     \u001b[38;5;66;03m# If we have a listlike key, _check_indexing_error will raise\u001b[39;00m\n\u001b[0;32m   3815\u001b[0m     \u001b[38;5;66;03m#  InvalidIndexError. Otherwise we fall through and re-raise\u001b[39;00m\n\u001b[0;32m   3816\u001b[0m     \u001b[38;5;66;03m#  the TypeError.\u001b[39;00m\n\u001b[0;32m   3817\u001b[0m     \u001b[38;5;28mself\u001b[39m\u001b[38;5;241m.\u001b[39m_check_indexing_error(key)\n",
      "\u001b[1;31mKeyError\u001b[0m: 'CH06'"
     ]
    }
   ],
   "source": [
    "type(df_2004['CH06'])  # o ch06, según el nombre en tu dataset"
   ]
  },
  {
   "cell_type": "code",
   "execution_count": 31,
   "id": "3f36437e-6ddc-46be-9c8c-5d27036d3d98",
   "metadata": {},
   "outputs": [
    {
     "name": "stdout",
     "output_type": "stream",
     "text": [
      "['edad', 'educ', 'sexo', 'condicion_empleo', 'salario_semanal']\n"
     ]
    }
   ],
   "source": [
    "print(df_2004.columns.tolist())"
   ]
  },
  {
   "cell_type": "code",
   "execution_count": 33,
   "id": "25ccbf9e-4e6f-433c-854f-f81c3420abc7",
   "metadata": {},
   "outputs": [
    {
     "data": {
      "text/plain": [
       "['edad',\n",
       " 'educ',\n",
       " 'sexo',\n",
       " 'condicion_empleo',\n",
       " 'salario_semanal',\n",
       " 'edad2',\n",
       " 'mujer',\n",
       " 'educ_alta']"
      ]
     },
     "execution_count": 33,
     "metadata": {},
     "output_type": "execute_result"
    }
   ],
   "source": [
    "df_2024.columns.tolist()"
   ]
  },
  {
   "cell_type": "code",
   "execution_count": 39,
   "id": "593df3e1-8ed3-4f4d-bd73-9018be9f7aaa",
   "metadata": {},
   "outputs": [],
   "source": [
    "def crear_variables(df):\n",
    "    df = df.copy()\n",
    "    \n",
    "    # Convertir columnas a numéricas (puede haber valores no numéricos, que se vuelven NaN)\n",
    "    df['edad'] = pd.to_numeric(df['edad'], errors='coerce')\n",
    "    df['sexo'] = pd.to_numeric(df['sexo'], errors='coerce')\n",
    "    df['educ'] = pd.to_numeric(df['educ'], errors='coerce')\n",
    "    \n",
    "    # Crear salario_semanal si no existe, a partir de 'p21' (ejemplo)\n",
    "    if 'salario_semanal' not in df.columns:\n",
    "        if 'p21' in df.columns:\n",
    "            df['salario_semanal'] = pd.to_numeric(df['p21'], errors='coerce')\n",
    "        else:\n",
    "            df['salario_semanal'] = None  # O lo que corresponda según tu caso\n",
    "    \n",
    "    # Variables derivadas\n",
    "    df['edad2'] = df['edad'] ** 2\n",
    "    df['mujer'] = df['sexo'].apply(lambda x: 1 if x == 2 else 0)\n",
    "    df['educ_alta'] = (df['educ'] > 12).astype(int)\n",
    "    \n",
    "    return df"
   ]
  },
  {
   "cell_type": "code",
   "execution_count": 41,
   "id": "a660a1d9-0cfa-4a9c-b1ee-97baf5fd6fcc",
   "metadata": {},
   "outputs": [],
   "source": [
    "df_2024 = crear_variables(df_2024)\n",
    "df_2004 = crear_variables(df_2004)"
   ]
  },
  {
   "cell_type": "code",
   "execution_count": 45,
   "id": "84a8390d-4f45-42ae-ae2b-cc3d4defd765",
   "metadata": {},
   "outputs": [],
   "source": [
    "def crear_variables(df):\n",
    "    df = df.copy()\n",
    "    # Convertir edad y educ a numérico (por si acaso vienen como categorical)\n",
    "    df['edad'] = pd.to_numeric(df['edad'], errors='coerce')\n",
    "    df['educ'] = pd.to_numeric(df['educ'], errors='coerce')\n",
    "    \n",
    "    df['edad2'] = df['edad'] ** 2\n",
    "    df['mujer'] = df['sexo'].apply(lambda x: 1 if x == 2 else 0)\n",
    "    df['educ_alta'] = (df['educ'] > 12).astype(int)\n",
    "    return df"
   ]
  },
  {
   "cell_type": "code",
   "execution_count": 49,
   "id": "4a5d1ac0-b3ab-49c4-87ea-41d2f8bec516",
   "metadata": {},
   "outputs": [
    {
     "name": "stdout",
     "output_type": "stream",
     "text": [
      "Empty DataFrame\n",
      "Columns: [edad, educ, sexo, condicion_empleo, salario_semanal, desocupado]\n",
      "Index: []\n",
      "Index(['edad', 'educ', 'sexo', 'condicion_empleo', 'salario_semanal',\n",
      "       'desocupado'],\n",
      "      dtype='object')\n"
     ]
    }
   ],
   "source": [
    "print(df_2004.head())\n",
    "print(df_2004.columns)"
   ]
  },
  {
   "cell_type": "code",
   "execution_count": 55,
   "id": "8906d1a4-2cec-48bb-9f4b-9c718d7491bb",
   "metadata": {},
   "outputs": [],
   "source": [
    "df_2004 = df_2004.rename(columns={\n",
    "    'ch06': 'edad',   # <- puede que esta sea la correcta, revisar\n",
    "    'ch04': 'sexo',\n",
    "    'ch06': 'educ',\n",
    "    'estado': 'condicion_empleo',\n",
    "    'p21': 'salario_semanal'\n",
    "})"
   ]
  },
  {
   "cell_type": "code",
   "execution_count": 67,
   "id": "09db0222-5d7c-4b5e-9353-d3efe3b5f6cd",
   "metadata": {},
   "outputs": [
    {
     "name": "stdout",
     "output_type": "stream",
     "text": [
      "Index(['edad', 'educ', 'sexo', 'condicion_empleo', 'salario_semanal',\n",
      "       'desocupado'],\n",
      "      dtype='object')\n"
     ]
    }
   ],
   "source": [
    "print(df_2004.columns)"
   ]
  },
  {
   "cell_type": "code",
   "execution_count": 47,
   "id": "74070561-e61c-417e-92a9-4a6ed008bc7e",
   "metadata": {},
   "outputs": [
    {
     "name": "stdout",
     "output_type": "stream",
     "text": [
      "category\n",
      "Series([], Name: edad, dtype: category\n",
      "Categories (10, object): ['Jefe' < 'Cónyuge/Pareja' < 'Hijo/Hijastro' < 'Yerno/Nuera' ... 'Suegro' < 'Hermano' < 'Otros familiares' < 'No familiares'])\n"
     ]
    }
   ],
   "source": [
    "print(df_2004['edad'].dtype)\n",
    "print(df_2004['edad'].head())"
   ]
  },
  {
   "cell_type": "code",
   "execution_count": 19,
   "id": "eb952182-79b0-42e1-8fd7-9be260e0e816",
   "metadata": {},
   "outputs": [
    {
     "name": "stdout",
     "output_type": "stream",
     "text": [
      "Columnas df_2024: ['CODUSU', 'ANO4', 'TRIMESTRE', 'NRO_HOGAR', 'COMPONENTE', 'H15', 'REGION', 'MAS_500', 'AGLOMERADO', 'PONDERA', 'CH03', 'CH04', 'CH05', 'CH06', 'CH07', 'CH08', 'CH09', 'CH10', 'CH11', 'CH12', 'CH13', 'CH14', 'CH15', 'CH15_COD', 'CH16', 'CH16_COD', 'NIVEL_ED', 'ESTADO', 'CAT_OCUP', 'CAT_INAC', 'IMPUTA', 'PP02C1', 'PP02C2', 'PP02C3', 'PP02C4', 'PP02C5', 'PP02C6', 'PP02C7', 'PP02C8', 'PP02E', 'PP02H', 'PP02I', 'PP03C', 'PP03D', 'PP3E_TOT', 'PP3F_TOT', 'PP03G', 'PP03H', 'PP03I', 'PP03J', 'INTENSI', 'PP04A', 'PP04B_COD', 'PP04B1', 'PP04B2', 'PP04B3_MES', 'PP04B3_ANO', 'PP04B3_DIA', 'PP04C', 'PP04C99', 'PP04D_COD', 'PP04G', 'PP05B2_MES', 'PP05B2_ANO', 'PP05B2_DIA', 'PP05C_1', 'PP05C_2', 'PP05C_3', 'PP05E', 'PP05F', 'PP05H', 'PP06A', 'PP06C', 'PP06D', 'PP06E', 'PP06H', 'PP07A', 'PP07C', 'PP07D', 'PP07E', 'PP07F1', 'PP07F2', 'PP07F3', 'PP07F4', 'PP07F5', 'PP07G1', 'PP07G2', 'PP07G3', 'PP07G4', 'PP07G_59', 'PP07H', 'PP07I', 'PP07J', 'PP07K', 'PP08D1', 'PP08D4', 'PP08F1', 'PP08F2', 'PP08J1', 'PP08J2', 'PP08J3', 'PP09A', 'PP09A_ESP', 'PP09B', 'PP09C', 'PP09C_ESP', 'PP10A', 'PP10C', 'PP10D', 'PP10E', 'PP11A', 'PP11B_COD', 'PP11B1', 'PP11B2_MES', 'PP11B2_ANO', 'PP11B2_DIA', 'PP11C', 'PP11C99', 'PP11D_COD', 'PP11G_ANO', 'PP11G_MES', 'PP11G_DIA', 'PP11L', 'PP11L1', 'PP11M', 'PP11N', 'PP11O', 'PP11P', 'PP11Q', 'PP11R', 'PP11S', 'PP11T', 'P21', 'DECOCUR', 'IDECOCUR', 'RDECOCUR', 'GDECOCUR', 'PDECOCUR', 'ADECOCUR', 'PONDIIO', 'TOT_P12', 'P47T', 'DECINDR', 'IDECINDR', 'RDECINDR', 'GDECINDR', 'PDECINDR', 'ADECINDR', 'PONDII', 'V2_M', 'V3_M', 'V4_M', 'V5_M', 'V8_M', 'V9_M', 'V10_M', 'V11_M', 'V12_M', 'V18_M', 'V19_AM', 'V21_M', 'T_VI', 'ITF', 'DECIFR', 'IDECIFR', 'RDECIFR', 'GDECIFR', 'PDECIFR', 'ADECIFR', 'IPCF', 'DECCFR', 'IDECCFR', 'RDECCFR', 'GDECCFR', 'PDECCFR', 'ADECCFR', 'PONDIH']\n",
      "Columnas df_2004: ['codusu', 'nro_hogar', 'componente', 'h15', 'ano4', 'trimestre', 'region', 'mas_500', 'aglomerado', 'pondera', 'ch03', 'ch04', 'ch06', 'ch07', 'ch08', 'ch09', 'ch10', 'ch11', 'ch12', 'ch13', 'ch14', 'ch15', 'ch15_cod', 'ch16', 'ch16_cod', 'nivel_ed', 'estado', 'cat_ocup', 'cat_inac', 'pp02c1', 'pp02c2', 'pp02c3', 'pp02c4', 'pp02c5', 'pp02c6', 'pp02c7', 'pp02c8', 'pp02e', 'pp02h', 'pp02i', 'pp03c', 'pp03d', 'pp3e_tot', 'pp3f_tot', 'pp03g', 'pp03h', 'pp03i', 'pp03j', 'intensi', 'pp04a', 'pp04b_cod', 'pp04b1', 'pp04b2', 'pp04b3_mes', 'pp04b3_ano', 'pp04b3_dia', 'pp04c', 'pp04c99', 'pp04d_cod', 'pp04g', 'pp05b2_mes', 'pp05b2_ano', 'pp05b2_dia', 'pp05c_1', 'pp05c_2', 'pp05c_3', 'pp05e', 'pp05f', 'pp05h', 'pp06a', 'pp06c', 'pp06d', 'pp06e', 'pp06h', 'pp07a', 'pp07c', 'pp07d', 'pp07e', 'pp07f1', 'pp07f2', 'pp07f3', 'pp07f4', 'pp07f5', 'pp07g1', 'pp07g2', 'pp07g3', 'pp07g4', 'pp07g_59', 'pp07h', 'pp07i', 'pp07j', 'pp07k', 'pp08d1', 'pp08d4', 'pp08f1', 'pp08f2', 'pp08j1', 'pp08j2', 'pp08j3', 'pp09a', 'pp09a_esp', 'pp09b', 'pp09c', 'pp09c_esp', 'pp10a', 'pp10c', 'pp10d', 'pp10e', 'pp11a', 'pp11b_cod', 'pp11b1', 'pp11b2_mes', 'pp11b2_ano', 'pp11b2_dia', 'pp11c', 'pp11c99', 'pp11d_cod', 'pp11g_ano', 'pp11g_mes', 'pp11g_dia', 'pp11l', 'pp11l1', 'pp11m', 'pp11n', 'pp11o', 'pp11p', 'pp11q', 'pp11r', 'pp11s', 'pp11t', 'p21', 'decocur', 'idecocur', 'rdecocur', 'gdecocur', 'pdecocur', 'adecocur', 'tot_p12', 'p47t', 'decindr', 'idecindr', 'rdecindr', 'gdecindr', 'pdecindr', 'adecindr', 'v2_m', 'v3_m', 'v4_m', 'v5_m', 'v8_m', 'v9_m', 'v10_m', 'v11_m', 'v12_m', 'v18_m', 'v19_am', 'v21_m', 't_vi', 'itf', 'decifr', 'idecifr', 'rdecifr', 'gdecifr', 'pdecifr', 'adecifr', 'ipcf', 'deccfr', 'ideccfr', 'rdeccfr', 'gdeccfr', 'pdeccfr', 'adeccfr', 'pj1_1', 'pj2_1', 'pj3_1', 'idimpp']\n"
     ]
    },
    {
     "ename": "TypeError",
     "evalue": "unsupported operand type(s) for ** or pow(): 'Categorical' and 'int'",
     "output_type": "error",
     "traceback": [
      "\u001b[1;31m---------------------------------------------------------------------------\u001b[0m",
      "\u001b[1;31mTypeError\u001b[0m                                 Traceback (most recent call last)",
      "Cell \u001b[1;32mIn[19], line 63\u001b[0m\n\u001b[0;32m     60\u001b[0m     \u001b[38;5;28;01mreturn\u001b[39;00m df\n\u001b[0;32m     62\u001b[0m df_2024 \u001b[38;5;241m=\u001b[39m crear_variables(df_2024)\n\u001b[1;32m---> 63\u001b[0m df_2004 \u001b[38;5;241m=\u001b[39m crear_variables(df_2004)\n\u001b[0;32m     65\u001b[0m \u001b[38;5;66;03m# Filtrar salarios válidos\u001b[39;00m\n\u001b[0;32m     66\u001b[0m df_2024 \u001b[38;5;241m=\u001b[39m df_2024[df_2024[\u001b[38;5;124m'\u001b[39m\u001b[38;5;124msalario_semanal\u001b[39m\u001b[38;5;124m'\u001b[39m] \u001b[38;5;241m>\u001b[39m \u001b[38;5;241m0\u001b[39m]\n",
      "Cell \u001b[1;32mIn[19], line 57\u001b[0m, in \u001b[0;36mcrear_variables\u001b[1;34m(df)\u001b[0m\n\u001b[0;32m     55\u001b[0m \u001b[38;5;28;01mdef\u001b[39;00m \u001b[38;5;21mcrear_variables\u001b[39m(df):\n\u001b[0;32m     56\u001b[0m     df \u001b[38;5;241m=\u001b[39m df\u001b[38;5;241m.\u001b[39mcopy()\n\u001b[1;32m---> 57\u001b[0m     df[\u001b[38;5;124m'\u001b[39m\u001b[38;5;124medad2\u001b[39m\u001b[38;5;124m'\u001b[39m] \u001b[38;5;241m=\u001b[39m df[\u001b[38;5;124m'\u001b[39m\u001b[38;5;124medad\u001b[39m\u001b[38;5;124m'\u001b[39m] \u001b[38;5;241m*\u001b[39m\u001b[38;5;241m*\u001b[39m \u001b[38;5;241m2\u001b[39m\n\u001b[0;32m     58\u001b[0m     df[\u001b[38;5;124m'\u001b[39m\u001b[38;5;124mmujer\u001b[39m\u001b[38;5;124m'\u001b[39m] \u001b[38;5;241m=\u001b[39m df[\u001b[38;5;124m'\u001b[39m\u001b[38;5;124msexo\u001b[39m\u001b[38;5;124m'\u001b[39m]\u001b[38;5;241m.\u001b[39mapply(\u001b[38;5;28;01mlambda\u001b[39;00m x: \u001b[38;5;241m1\u001b[39m \u001b[38;5;28;01mif\u001b[39;00m x \u001b[38;5;241m==\u001b[39m \u001b[38;5;241m2\u001b[39m \u001b[38;5;28;01melse\u001b[39;00m \u001b[38;5;241m0\u001b[39m)\n\u001b[0;32m     59\u001b[0m     df[\u001b[38;5;124m'\u001b[39m\u001b[38;5;124meduc_alta\u001b[39m\u001b[38;5;124m'\u001b[39m] \u001b[38;5;241m=\u001b[39m (df[\u001b[38;5;124m'\u001b[39m\u001b[38;5;124meduc\u001b[39m\u001b[38;5;124m'\u001b[39m] \u001b[38;5;241m>\u001b[39m \u001b[38;5;241m12\u001b[39m)\u001b[38;5;241m.\u001b[39mastype(\u001b[38;5;28mint\u001b[39m)\n",
      "File \u001b[1;32m~\\anaconda3\\Lib\\site-packages\\pandas\\core\\ops\\common.py:76\u001b[0m, in \u001b[0;36m_unpack_zerodim_and_defer.<locals>.new_method\u001b[1;34m(self, other)\u001b[0m\n\u001b[0;32m     72\u001b[0m             \u001b[38;5;28;01mreturn\u001b[39;00m \u001b[38;5;28mNotImplemented\u001b[39m\n\u001b[0;32m     74\u001b[0m other \u001b[38;5;241m=\u001b[39m item_from_zerodim(other)\n\u001b[1;32m---> 76\u001b[0m \u001b[38;5;28;01mreturn\u001b[39;00m method(\u001b[38;5;28mself\u001b[39m, other)\n",
      "File \u001b[1;32m~\\anaconda3\\Lib\\site-packages\\pandas\\core\\arraylike.py:242\u001b[0m, in \u001b[0;36mOpsMixin.__pow__\u001b[1;34m(self, other)\u001b[0m\n\u001b[0;32m    240\u001b[0m \u001b[38;5;129m@unpack_zerodim_and_defer\u001b[39m(\u001b[38;5;124m\"\u001b[39m\u001b[38;5;124m__pow__\u001b[39m\u001b[38;5;124m\"\u001b[39m)\n\u001b[0;32m    241\u001b[0m \u001b[38;5;28;01mdef\u001b[39;00m \u001b[38;5;21m__pow__\u001b[39m(\u001b[38;5;28mself\u001b[39m, other):\n\u001b[1;32m--> 242\u001b[0m     \u001b[38;5;28;01mreturn\u001b[39;00m \u001b[38;5;28mself\u001b[39m\u001b[38;5;241m.\u001b[39m_arith_method(other, operator\u001b[38;5;241m.\u001b[39mpow)\n",
      "File \u001b[1;32m~\\anaconda3\\Lib\\site-packages\\pandas\\core\\series.py:6135\u001b[0m, in \u001b[0;36mSeries._arith_method\u001b[1;34m(self, other, op)\u001b[0m\n\u001b[0;32m   6133\u001b[0m \u001b[38;5;28;01mdef\u001b[39;00m \u001b[38;5;21m_arith_method\u001b[39m(\u001b[38;5;28mself\u001b[39m, other, op):\n\u001b[0;32m   6134\u001b[0m     \u001b[38;5;28mself\u001b[39m, other \u001b[38;5;241m=\u001b[39m \u001b[38;5;28mself\u001b[39m\u001b[38;5;241m.\u001b[39m_align_for_op(other)\n\u001b[1;32m-> 6135\u001b[0m     \u001b[38;5;28;01mreturn\u001b[39;00m base\u001b[38;5;241m.\u001b[39mIndexOpsMixin\u001b[38;5;241m.\u001b[39m_arith_method(\u001b[38;5;28mself\u001b[39m, other, op)\n",
      "File \u001b[1;32m~\\anaconda3\\Lib\\site-packages\\pandas\\core\\base.py:1382\u001b[0m, in \u001b[0;36mIndexOpsMixin._arith_method\u001b[1;34m(self, other, op)\u001b[0m\n\u001b[0;32m   1379\u001b[0m     rvalues \u001b[38;5;241m=\u001b[39m np\u001b[38;5;241m.\u001b[39marange(rvalues\u001b[38;5;241m.\u001b[39mstart, rvalues\u001b[38;5;241m.\u001b[39mstop, rvalues\u001b[38;5;241m.\u001b[39mstep)\n\u001b[0;32m   1381\u001b[0m \u001b[38;5;28;01mwith\u001b[39;00m np\u001b[38;5;241m.\u001b[39merrstate(\u001b[38;5;28mall\u001b[39m\u001b[38;5;241m=\u001b[39m\u001b[38;5;124m\"\u001b[39m\u001b[38;5;124mignore\u001b[39m\u001b[38;5;124m\"\u001b[39m):\n\u001b[1;32m-> 1382\u001b[0m     result \u001b[38;5;241m=\u001b[39m ops\u001b[38;5;241m.\u001b[39marithmetic_op(lvalues, rvalues, op)\n\u001b[0;32m   1384\u001b[0m \u001b[38;5;28;01mreturn\u001b[39;00m \u001b[38;5;28mself\u001b[39m\u001b[38;5;241m.\u001b[39m_construct_result(result, name\u001b[38;5;241m=\u001b[39mres_name)\n",
      "File \u001b[1;32m~\\anaconda3\\Lib\\site-packages\\pandas\\core\\ops\\array_ops.py:273\u001b[0m, in \u001b[0;36marithmetic_op\u001b[1;34m(left, right, op)\u001b[0m\n\u001b[0;32m    260\u001b[0m \u001b[38;5;66;03m# NB: We assume that extract_array and ensure_wrapped_if_datetimelike\u001b[39;00m\n\u001b[0;32m    261\u001b[0m \u001b[38;5;66;03m#  have already been called on `left` and `right`,\u001b[39;00m\n\u001b[0;32m    262\u001b[0m \u001b[38;5;66;03m#  and `maybe_prepare_scalar_for_op` has already been called on `right`\u001b[39;00m\n\u001b[0;32m    263\u001b[0m \u001b[38;5;66;03m# We need to special-case datetime64/timedelta64 dtypes (e.g. because numpy\u001b[39;00m\n\u001b[0;32m    264\u001b[0m \u001b[38;5;66;03m# casts integer dtypes to timedelta64 when operating with timedelta64 - GH#22390)\u001b[39;00m\n\u001b[0;32m    266\u001b[0m \u001b[38;5;28;01mif\u001b[39;00m (\n\u001b[0;32m    267\u001b[0m     should_extension_dispatch(left, right)\n\u001b[0;32m    268\u001b[0m     \u001b[38;5;129;01mor\u001b[39;00m \u001b[38;5;28misinstance\u001b[39m(right, (Timedelta, BaseOffset, Timestamp))\n\u001b[1;32m   (...)\u001b[0m\n\u001b[0;32m    271\u001b[0m     \u001b[38;5;66;03m# Timedelta/Timestamp and other custom scalars are included in the check\u001b[39;00m\n\u001b[0;32m    272\u001b[0m     \u001b[38;5;66;03m# because numexpr will fail on it, see GH#31457\u001b[39;00m\n\u001b[1;32m--> 273\u001b[0m     res_values \u001b[38;5;241m=\u001b[39m op(left, right)\n\u001b[0;32m    274\u001b[0m \u001b[38;5;28;01melse\u001b[39;00m:\n\u001b[0;32m    275\u001b[0m     \u001b[38;5;66;03m# TODO we should handle EAs consistently and move this check before the if/else\u001b[39;00m\n\u001b[0;32m    276\u001b[0m     \u001b[38;5;66;03m# (https://github.com/pandas-dev/pandas/issues/41165)\u001b[39;00m\n\u001b[0;32m    277\u001b[0m     \u001b[38;5;66;03m# error: Argument 2 to \"_bool_arith_check\" has incompatible type\u001b[39;00m\n\u001b[0;32m    278\u001b[0m     \u001b[38;5;66;03m# \"Union[ExtensionArray, ndarray[Any, Any]]\"; expected \"ndarray[Any, Any]\"\u001b[39;00m\n\u001b[0;32m    279\u001b[0m     _bool_arith_check(op, left, right)  \u001b[38;5;66;03m# type: ignore[arg-type]\u001b[39;00m\n",
      "\u001b[1;31mTypeError\u001b[0m: unsupported operand type(s) for ** or pow(): 'Categorical' and 'int'"
     ]
    }
   ],
   "source": [
    "import pandas as pd\n",
    "import numpy as np\n",
    "\n",
    "# Cargar datasets\n",
    "df_2024 = pd.read_excel(r\"C:\\Users\\Gustavo\\Documents\\GitHub\\BigDataUBA-Grupo26\\TP 4\\EPH_usu_1_Trim_2024_xls\\EPH_usu_1er_Trim_2024_xlsx\\usu_individual_T124.xlsx\")\n",
    "df_2004 = pd.read_stata(r\"C:\\Users\\Gustavo\\Documents\\GitHub\\BigDataUBA-Grupo26\\TP 4\\t104_dta\\Individual_t104.dta\")\n",
    "\n",
    "# Convertir columnas del 2004 a minúsculas\n",
    "df_2004.columns = df_2004.columns.str.lower()\n",
    "\n",
    "# Mostrar columnas\n",
    "print(\"Columnas df_2024:\", df_2024.columns.tolist())\n",
    "print(\"Columnas df_2004:\", df_2004.columns.tolist())\n",
    "\n",
    "# Filtrar Mar del Plata (código 34)\n",
    "df_2024 = df_2024[df_2024['REGION'] == 34]\n",
    "df_2004 = df_2004[df_2004['region'] == 34]\n",
    "\n",
    "# Renombrar columnas importantes\n",
    "df_2024 = df_2024.rename(columns={\n",
    "    'CH06': 'edad',\n",
    "    'CH04': 'sexo',\n",
    "    'NIVEL_ED': 'educ',\n",
    "    'ESTADO': 'condicion_empleo',\n",
    "    'P21': 'salario_semanal'\n",
    "})\n",
    "\n",
    "df_2004 = df_2004.rename(columns={\n",
    "    'ch06': 'edad',\n",
    "    'ch04': 'sexo',\n",
    "    'nivel_ed': 'educ',\n",
    "    'estado': 'condicion_empleo',\n",
    "    'p21': 'salario_semanal'\n",
    "})\n",
    "\n",
    "# Variables que necesitás\n",
    "variables_necesarias = ['edad', 'educ', 'sexo', 'condicion_empleo', 'salario_semanal']\n",
    "\n",
    "# Filtrar esas columnas\n",
    "df_2024 = df_2024[variables_necesarias]\n",
    "df_2004 = df_2004[variables_necesarias]\n",
    "\n",
    "# Variable 'desocupado'\n",
    "def crear_desocupado(df):\n",
    "    df = df.copy()\n",
    "    df['desocupado'] = df['condicion_empleo'].apply(\n",
    "        lambda x: 1 if x == 2 else (0 if x == 1 else np.nan)\n",
    "    )\n",
    "    return df\n",
    "\n",
    "df_2024 = crear_desocupado(df_2024)\n",
    "df_2004 = crear_desocupado(df_2004)\n",
    "\n",
    "# Variables adicionales\n",
    "def crear_variables(df):\n",
    "    df = df.copy()\n",
    "    df['edad2'] = df['edad'] ** 2\n",
    "    df['mujer'] = df['sexo'].apply(lambda x: 1 if x == 2 else 0)\n",
    "    df['educ_alta'] = (df['educ'] > 12).astype(int)\n",
    "    return df\n",
    "\n",
    "df_2024 = crear_variables(df_2024)\n",
    "df_2004 = crear_variables(df_2004)\n",
    "\n",
    "# Filtrar salarios válidos\n",
    "df_2024 = df_2024[df_2024['salario_semanal'] > 0]\n",
    "df_2004 = df_2004[df_2004['salario_semanal'] > 0]\n",
    "\n",
    "# Separar respondieron / no respondieron\n",
    "respondieron_2024 = df_2024.dropna(subset=['desocupado'])\n",
    "norespondieron_2024 = df_2024[df_2024['desocupado'].isna()]\n",
    "\n",
    "respondieron_2004 = df_2004.dropna(subset=['desocupado'])\n",
    "norespondieron_2004 = df_2004[df_2004['desocupado'].isna()]\n",
    "\n",
    "# Mensajes de control\n",
    "print(f\"Respondieron 2024: {respondieron_2024.shape[0]} filas\")\n",
    "print(f\"No respondieron 2024: {norespondieron_2024.shape[0]} filas\")\n",
    "print(f\"Respondieron 2004: {respondieron_2004.shape[0]} filas\")\n",
    "print(f\"No respondieron 2004: {norespondieron_2004.shape[0]} filas\")"
   ]
  },
  {
   "cell_type": "code",
   "execution_count": 17,
   "id": "4f02ef5e-d21f-45ad-a260-3a720f55d179",
   "metadata": {},
   "outputs": [],
   "source": [
    "#Parte B. Metodo Supervisado 1: Modelo de Regresión Lineal"
   ]
  },
  {
   "cell_type": "code",
   "execution_count": null,
   "id": "0e20c7ec-8187-43db-aff0-82fc5974708e",
   "metadata": {},
   "outputs": [],
   "source": [
    "#Parte C. Métodos de Clasificación y Performance"
   ]
  }
 ],
 "metadata": {
  "kernelspec": {
   "display_name": "Python [conda env:base] *",
   "language": "python",
   "name": "conda-base-py"
  },
  "language_info": {
   "codemirror_mode": {
    "name": "ipython",
    "version": 3
   },
   "file_extension": ".py",
   "mimetype": "text/x-python",
   "name": "python",
   "nbconvert_exporter": "python",
   "pygments_lexer": "ipython3",
   "version": "3.12.7"
  }
 },
 "nbformat": 4,
 "nbformat_minor": 5
}

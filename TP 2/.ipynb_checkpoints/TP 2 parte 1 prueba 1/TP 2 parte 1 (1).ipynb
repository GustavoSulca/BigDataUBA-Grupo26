{
 "cells": [
  {
   "cell_type": "code",
   "execution_count": 155,
   "id": "998eccfe-8d88-4973-922a-661f2aea8d86",
   "metadata": {},
   "outputs": [],
   "source": [
    "# Primero importamos las librerías que vamos a usar\n",
    "\n",
    "import pandas as pd\n",
    "import numpy as np"
   ]
  },
  {
   "cell_type": "code",
   "execution_count": 156,
   "id": "41167c69-89ac-4d0c-8edb-79393102813f",
   "metadata": {},
   "outputs": [
    {
     "name": "stdout",
     "output_type": "stream",
     "text": [
      "Requirement already satisfied: pandas in c:\\users\\wally\\anaconda3\\lib\\site-packages (2.2.3)\n",
      "Requirement already satisfied: xlrd in c:\\users\\wally\\anaconda3\\lib\\site-packages (2.0.1)\n",
      "Requirement already satisfied: openpyxl in c:\\users\\wally\\anaconda3\\lib\\site-packages (3.1.5)\n",
      "Requirement already satisfied: pyreadstat in c:\\users\\wally\\anaconda3\\lib\\site-packages (1.2.8)\n",
      "Requirement already satisfied: numpy>=1.26.0 in c:\\users\\wally\\anaconda3\\lib\\site-packages (from pandas) (1.26.4)\n",
      "Requirement already satisfied: python-dateutil>=2.8.2 in c:\\users\\wally\\anaconda3\\lib\\site-packages (from pandas) (2.9.0.post0)\n",
      "Requirement already satisfied: pytz>=2020.1 in c:\\users\\wally\\anaconda3\\lib\\site-packages (from pandas) (2025.2)\n",
      "Requirement already satisfied: tzdata>=2022.7 in c:\\users\\wally\\anaconda3\\lib\\site-packages (from pandas) (2023.3)\n",
      "Requirement already satisfied: et-xmlfile in c:\\users\\wally\\anaconda3\\lib\\site-packages (from openpyxl) (1.1.0)\n",
      "Requirement already satisfied: six>=1.5 in c:\\users\\wally\\anaconda3\\lib\\site-packages (from python-dateutil>=2.8.2->pandas) (1.16.0)\n",
      "Note: you may need to restart the kernel to use updated packages.\n"
     ]
    }
   ],
   "source": [
    "pip install --upgrade pandas xlrd openpyxl pyreadstat"
   ]
  },
  {
   "cell_type": "code",
   "execution_count": 179,
   "id": "8272bc4b-80bc-44e3-874c-a1e79c2ce37c",
   "metadata": {},
   "outputs": [],
   "source": [
    "# Cargo los archivos de las bases de datos con la ruta completa\n",
    "\n",
    "# base del 2004 que está en formato .dta (de Stata)\n",
    "df_2004 = pd.read_stata(r\"C:\\Users\\Wally\\Desktop\\TP2 BIG DATA AND ML\\Primer cuatrimestre 2004\\Formato .dta\\Individual_t104.dta\")\n",
    "\n",
    "# base del 2024 que está en Excel\n",
    "df_2024 = pd.read_excel(r\"C:\\Users\\Wally\\Desktop\\TP2 BIG DATA AND ML\\Primer cuatrimestre 2024\\Formato .xls\\usu_individual_T124.xlsx\")\n"
   ]
  },
  {
   "cell_type": "code",
   "execution_count": 180,
   "id": "6c2cc5c6-d5f8-476b-966f-3503dea10ad6",
   "metadata": {},
   "outputs": [],
   "source": [
    "df_2004.columns = df_2004.columns.str.lower()\n",
    "df_2024.columns = df_2024.columns.str.lower()"
   ]
  },
  {
   "cell_type": "code",
   "execution_count": 181,
   "id": "aecf7646-0bf5-4f1e-b0e8-6eef2cd79d64",
   "metadata": {},
   "outputs": [],
   "source": [
    "# Me aseguro de que ambas bases tengan la columna 'ano4' con el año correcto\n",
    "\n",
    "df_2004[\"ano4\"] = 2004\n",
    "df_2024[\"ano4\"] = 2024"
   ]
  },
  {
   "cell_type": "code",
   "execution_count": 182,
   "id": "e27d30dd-45bd-47d5-903d-8c25a79b0484",
   "metadata": {},
   "outputs": [],
   "source": [
    "df = pd.concat([df_2004, df_2024], ignore_index=True)"
   ]
  },
  {
   "cell_type": "code",
   "execution_count": 183,
   "id": "5b77a1c1-89a2-439d-8c18-5449cccabade",
   "metadata": {},
   "outputs": [
    {
     "name": "stdout",
     "output_type": "stream",
     "text": [
      "ano4\n",
      "2024    46050\n",
      "2004    45289\n",
      "Name: count, dtype: int64\n"
     ]
    }
   ],
   "source": [
    "print(df[\"ano4\"].value_counts())"
   ]
  },
  {
   "cell_type": "code",
   "execution_count": 184,
   "id": "4bf3c07d-9ffa-4213-bcb3-d3147bcab287",
   "metadata": {},
   "outputs": [
    {
     "name": "stdout",
     "output_type": "stream",
     "text": [
      "Columnas de la base 2004:\n",
      "['codusu', 'nro_hogar', 'componente', 'h15', 'ano4', 'trimestre', 'region', 'mas_500', 'aglomerado', 'pondera', 'ch03', 'ch04', 'ch06', 'ch07', 'ch08', 'ch09', 'ch10', 'ch11', 'ch12', 'ch13', 'ch14', 'ch15', 'ch15_cod', 'ch16', 'ch16_cod', 'nivel_ed', 'estado', 'cat_ocup', 'cat_inac', 'pp02c1', 'pp02c2', 'pp02c3', 'pp02c4', 'pp02c5', 'pp02c6', 'pp02c7', 'pp02c8', 'pp02e', 'pp02h', 'pp02i', 'pp03c', 'pp03d', 'pp3e_tot', 'pp3f_tot', 'pp03g', 'pp03h', 'pp03i', 'pp03j', 'intensi', 'pp04a', 'pp04b_cod', 'pp04b1', 'pp04b2', 'pp04b3_mes', 'pp04b3_ano', 'pp04b3_dia', 'pp04c', 'pp04c99', 'pp04d_cod', 'pp04g', 'pp05b2_mes', 'pp05b2_ano', 'pp05b2_dia', 'pp05c_1', 'pp05c_2', 'pp05c_3', 'pp05e', 'pp05f', 'pp05h', 'pp06a', 'pp06c', 'pp06d', 'pp06e', 'pp06h', 'pp07a', 'pp07c', 'pp07d', 'pp07e', 'pp07f1', 'pp07f2', 'pp07f3', 'pp07f4', 'pp07f5', 'pp07g1', 'pp07g2', 'pp07g3', 'pp07g4', 'pp07g_59', 'pp07h', 'pp07i', 'pp07j', 'pp07k', 'pp08d1', 'pp08d4', 'pp08f1', 'pp08f2', 'pp08j1', 'pp08j2', 'pp08j3', 'pp09a', 'pp09a_esp', 'pp09b', 'pp09c', 'pp09c_esp', 'pp10a', 'pp10c', 'pp10d', 'pp10e', 'pp11a', 'pp11b_cod', 'pp11b1', 'pp11b2_mes', 'pp11b2_ano', 'pp11b2_dia', 'pp11c', 'pp11c99', 'pp11d_cod', 'pp11g_ano', 'pp11g_mes', 'pp11g_dia', 'pp11l', 'pp11l1', 'pp11m', 'pp11n', 'pp11o', 'pp11p', 'pp11q', 'pp11r', 'pp11s', 'pp11t', 'p21', 'decocur', 'idecocur', 'rdecocur', 'gdecocur', 'pdecocur', 'adecocur', 'tot_p12', 'p47t', 'decindr', 'idecindr', 'rdecindr', 'gdecindr', 'pdecindr', 'adecindr', 'v2_m', 'v3_m', 'v4_m', 'v5_m', 'v8_m', 'v9_m', 'v10_m', 'v11_m', 'v12_m', 'v18_m', 'v19_am', 'v21_m', 't_vi', 'itf', 'decifr', 'idecifr', 'rdecifr', 'gdecifr', 'pdecifr', 'adecifr', 'ipcf', 'deccfr', 'ideccfr', 'rdeccfr', 'gdeccfr', 'pdeccfr', 'adeccfr', 'pj1_1', 'pj2_1', 'pj3_1', 'idimpp']\n",
      "\n",
      "Columnas de la base 2024:\n",
      "['codusu', 'ano4', 'trimestre', 'nro_hogar', 'componente', 'h15', 'region', 'mas_500', 'aglomerado', 'pondera', 'ch03', 'ch04', 'ch05', 'ch06', 'ch07', 'ch08', 'ch09', 'ch10', 'ch11', 'ch12', 'ch13', 'ch14', 'ch15', 'ch15_cod', 'ch16', 'ch16_cod', 'nivel_ed', 'estado', 'cat_ocup', 'cat_inac', 'imputa', 'pp02c1', 'pp02c2', 'pp02c3', 'pp02c4', 'pp02c5', 'pp02c6', 'pp02c7', 'pp02c8', 'pp02e', 'pp02h', 'pp02i', 'pp03c', 'pp03d', 'pp3e_tot', 'pp3f_tot', 'pp03g', 'pp03h', 'pp03i', 'pp03j', 'intensi', 'pp04a', 'pp04b_cod', 'pp04b1', 'pp04b2', 'pp04b3_mes', 'pp04b3_ano', 'pp04b3_dia', 'pp04c', 'pp04c99', 'pp04d_cod', 'pp04g', 'pp05b2_mes', 'pp05b2_ano', 'pp05b2_dia', 'pp05c_1', 'pp05c_2', 'pp05c_3', 'pp05e', 'pp05f', 'pp05h', 'pp06a', 'pp06c', 'pp06d', 'pp06e', 'pp06h', 'pp07a', 'pp07c', 'pp07d', 'pp07e', 'pp07f1', 'pp07f2', 'pp07f3', 'pp07f4', 'pp07f5', 'pp07g1', 'pp07g2', 'pp07g3', 'pp07g4', 'pp07g_59', 'pp07h', 'pp07i', 'pp07j', 'pp07k', 'pp08d1', 'pp08d4', 'pp08f1', 'pp08f2', 'pp08j1', 'pp08j2', 'pp08j3', 'pp09a', 'pp09a_esp', 'pp09b', 'pp09c', 'pp09c_esp', 'pp10a', 'pp10c', 'pp10d', 'pp10e', 'pp11a', 'pp11b_cod', 'pp11b1', 'pp11b2_mes', 'pp11b2_ano', 'pp11b2_dia', 'pp11c', 'pp11c99', 'pp11d_cod', 'pp11g_ano', 'pp11g_mes', 'pp11g_dia', 'pp11l', 'pp11l1', 'pp11m', 'pp11n', 'pp11o', 'pp11p', 'pp11q', 'pp11r', 'pp11s', 'pp11t', 'p21', 'decocur', 'idecocur', 'rdecocur', 'gdecocur', 'pdecocur', 'adecocur', 'pondiio', 'tot_p12', 'p47t', 'decindr', 'idecindr', 'rdecindr', 'gdecindr', 'pdecindr', 'adecindr', 'pondii', 'v2_m', 'v3_m', 'v4_m', 'v5_m', 'v8_m', 'v9_m', 'v10_m', 'v11_m', 'v12_m', 'v18_m', 'v19_am', 'v21_m', 't_vi', 'itf', 'decifr', 'idecifr', 'rdecifr', 'gdecifr', 'pdecifr', 'adecifr', 'ipcf', 'deccfr', 'ideccfr', 'rdeccfr', 'gdeccfr', 'pdeccfr', 'adeccfr', 'pondih']\n"
     ]
    }
   ],
   "source": [
    "# Veo qué columnas tienen cada base para identificar cómo se llama \"AGLOMERADO\"\n",
    "print(\"Columnas de la base 2004:\")\n",
    "print(df_2004.columns.tolist())\n",
    "\n",
    "print(\"\\nColumnas de la base 2024:\")\n",
    "print(df_2024.columns.tolist())\n"
   ]
  },
  {
   "cell_type": "code",
   "execution_count": 185,
   "id": "3c463b3d-8373-4e25-b245-d86aa183d8bd",
   "metadata": {},
   "outputs": [],
   "source": [
    "# Filtro por la región de Mar del Plata\n",
    "\n",
    "# Según la variable AGLOMERADO, el código 34 corresponde a Mar del Plata\n",
    "# Me quedo solo con las personas de esa región\n",
    "\n",
    "df_2004 = df_2004[df_2004[\"aglomerado\"] == 34].copy()\n",
    "df_2024 = df_2024[df_2024[\"aglomerado\"] == 34].copy()\n"
   ]
  },
  {
   "cell_type": "code",
   "execution_count": 186,
   "id": "a20d5e21-be57-4563-bd30-83071049278b",
   "metadata": {},
   "outputs": [],
   "source": [
    "# Le agrego una columna para saber de qué año es cada fila\n",
    "\n",
    "df_2004[\"ano4\"] = 2004\n",
    "df_2024[\"ano4\"] = 2024\n"
   ]
  },
  {
   "cell_type": "code",
   "execution_count": 187,
   "id": "a300ed43-2c0c-483a-86c6-0289ff360339",
   "metadata": {},
   "outputs": [
    {
     "name": "stderr",
     "output_type": "stream",
     "text": [
      "C:\\Users\\Wally\\AppData\\Local\\Temp\\ipykernel_14992\\3237440424.py:3: FutureWarning: The behavior of DataFrame concatenation with empty or all-NA entries is deprecated. In a future version, this will no longer exclude empty or all-NA columns when determining the result dtypes. To retain the old behavior, exclude the relevant entries before the concat operation.\n",
      "  df = pd.concat([df_2004, df_2024], ignore_index=True)\n"
     ]
    }
   ],
   "source": [
    "# Junto las dos bases en una sola (como si pegara hojas de Excel una abajo de la otra)\n",
    "\n",
    "df = pd.concat([df_2004, df_2024], ignore_index=True)\n"
   ]
  },
  {
   "cell_type": "code",
   "execution_count": 188,
   "id": "b59aeed9-b1c8-42be-877f-437d317dffe8",
   "metadata": {},
   "outputs": [],
   "source": [
    "# Elijo 15 variables que me interesan para el análisis\n",
    "# Estas variables tienen info sobre edad, sexo, actividad laboral, educación e ingresos\n",
    "# (los cuales están desarrolladas los pdf de diseño de registro y estructura)\n",
    "\n",
    "vars_interes = [\n",
    "    \"CH04\",        # Sexo\n",
    "    \"CH06\",        # Edad\n",
    "    \"CH10\",        # Si asiste o asistió a un establecimiento educativo\n",
    "    \"CH12\",        # Nivel educativo alcanzado\n",
    "    \"ESTADO\",      # Condición de actividad (ocupado, desocupado, etc.)\n",
    "    \"CAT_OCUP\",    # Tipo de ocupación (si trabaja)\n",
    "    \"CAT_INAC\",    # Tipo de inactividad (si no trabaja)\n",
    "    \"PP3E_TOT\",    # Horas trabajadas en su ocupación principal\n",
    "    \"PP3F_TOT\",    # Horas trabajadas en otras ocupaciones\n",
    "    \"PP03G\",       # Si quiere trabajar más horas\n",
    "    \"PONDERA\",     # Factor de expansión (cuánto representa esa persona)\n",
    "    \"NIVEL_ED\",    # Nivel educativo resumido\n",
    "    \"IPCF\",        # Ingreso per cápita familiar\n",
    "    \"ITF\",         # Ingreso total del hogar\n",
    "    \"REGION\"       # Región (por si se necesita más adelante)\n",
    "]\n"
   ]
  },
  {
   "cell_type": "code",
   "execution_count": 189,
   "id": "83ea0266-479b-485f-adbd-5d1352326a86",
   "metadata": {},
   "outputs": [
    {
     "ename": "KeyError",
     "evalue": "\"['CH04', 'CH06', 'CH10', 'CH12', 'ESTADO', 'CAT_OCUP', 'CAT_INAC', 'PP3E_TOT', 'PP3F_TOT', 'PP03G', 'PONDERA', 'NIVEL_ED', 'IPCF', 'ITF', 'REGION'] not in index\"",
     "output_type": "error",
     "traceback": [
      "\u001b[1;31m---------------------------------------------------------------------------\u001b[0m",
      "\u001b[1;31mKeyError\u001b[0m                                  Traceback (most recent call last)",
      "Cell \u001b[1;32mIn[189], line 3\u001b[0m\n\u001b[0;32m      1\u001b[0m \u001b[38;5;66;03m# Me quedo solo con las columnas que me interesan\u001b[39;00m\n\u001b[1;32m----> 3\u001b[0m df \u001b[38;5;241m=\u001b[39m df[vars_interes \u001b[38;5;241m+\u001b[39m [\u001b[38;5;124m\"\u001b[39m\u001b[38;5;124mano4\u001b[39m\u001b[38;5;124m\"\u001b[39m]]\n",
      "File \u001b[1;32m~\\anaconda3\\Lib\\site-packages\\pandas\\core\\frame.py:4108\u001b[0m, in \u001b[0;36mDataFrame.__getitem__\u001b[1;34m(self, key)\u001b[0m\n\u001b[0;32m   4106\u001b[0m     \u001b[38;5;28;01mif\u001b[39;00m is_iterator(key):\n\u001b[0;32m   4107\u001b[0m         key \u001b[38;5;241m=\u001b[39m \u001b[38;5;28mlist\u001b[39m(key)\n\u001b[1;32m-> 4108\u001b[0m     indexer \u001b[38;5;241m=\u001b[39m \u001b[38;5;28mself\u001b[39m\u001b[38;5;241m.\u001b[39mcolumns\u001b[38;5;241m.\u001b[39m_get_indexer_strict(key, \u001b[38;5;124m\"\u001b[39m\u001b[38;5;124mcolumns\u001b[39m\u001b[38;5;124m\"\u001b[39m)[\u001b[38;5;241m1\u001b[39m]\n\u001b[0;32m   4110\u001b[0m \u001b[38;5;66;03m# take() does not accept boolean indexers\u001b[39;00m\n\u001b[0;32m   4111\u001b[0m \u001b[38;5;28;01mif\u001b[39;00m \u001b[38;5;28mgetattr\u001b[39m(indexer, \u001b[38;5;124m\"\u001b[39m\u001b[38;5;124mdtype\u001b[39m\u001b[38;5;124m\"\u001b[39m, \u001b[38;5;28;01mNone\u001b[39;00m) \u001b[38;5;241m==\u001b[39m \u001b[38;5;28mbool\u001b[39m:\n",
      "File \u001b[1;32m~\\anaconda3\\Lib\\site-packages\\pandas\\core\\indexes\\base.py:6200\u001b[0m, in \u001b[0;36mIndex._get_indexer_strict\u001b[1;34m(self, key, axis_name)\u001b[0m\n\u001b[0;32m   6197\u001b[0m \u001b[38;5;28;01melse\u001b[39;00m:\n\u001b[0;32m   6198\u001b[0m     keyarr, indexer, new_indexer \u001b[38;5;241m=\u001b[39m \u001b[38;5;28mself\u001b[39m\u001b[38;5;241m.\u001b[39m_reindex_non_unique(keyarr)\n\u001b[1;32m-> 6200\u001b[0m \u001b[38;5;28mself\u001b[39m\u001b[38;5;241m.\u001b[39m_raise_if_missing(keyarr, indexer, axis_name)\n\u001b[0;32m   6202\u001b[0m keyarr \u001b[38;5;241m=\u001b[39m \u001b[38;5;28mself\u001b[39m\u001b[38;5;241m.\u001b[39mtake(indexer)\n\u001b[0;32m   6203\u001b[0m \u001b[38;5;28;01mif\u001b[39;00m \u001b[38;5;28misinstance\u001b[39m(key, Index):\n\u001b[0;32m   6204\u001b[0m     \u001b[38;5;66;03m# GH 42790 - Preserve name from an Index\u001b[39;00m\n",
      "File \u001b[1;32m~\\anaconda3\\Lib\\site-packages\\pandas\\core\\indexes\\base.py:6252\u001b[0m, in \u001b[0;36mIndex._raise_if_missing\u001b[1;34m(self, key, indexer, axis_name)\u001b[0m\n\u001b[0;32m   6249\u001b[0m     \u001b[38;5;28;01mraise\u001b[39;00m \u001b[38;5;167;01mKeyError\u001b[39;00m(\u001b[38;5;124mf\u001b[39m\u001b[38;5;124m\"\u001b[39m\u001b[38;5;124mNone of [\u001b[39m\u001b[38;5;132;01m{\u001b[39;00mkey\u001b[38;5;132;01m}\u001b[39;00m\u001b[38;5;124m] are in the [\u001b[39m\u001b[38;5;132;01m{\u001b[39;00maxis_name\u001b[38;5;132;01m}\u001b[39;00m\u001b[38;5;124m]\u001b[39m\u001b[38;5;124m\"\u001b[39m)\n\u001b[0;32m   6251\u001b[0m not_found \u001b[38;5;241m=\u001b[39m \u001b[38;5;28mlist\u001b[39m(ensure_index(key)[missing_mask\u001b[38;5;241m.\u001b[39mnonzero()[\u001b[38;5;241m0\u001b[39m]]\u001b[38;5;241m.\u001b[39munique())\n\u001b[1;32m-> 6252\u001b[0m \u001b[38;5;28;01mraise\u001b[39;00m \u001b[38;5;167;01mKeyError\u001b[39;00m(\u001b[38;5;124mf\u001b[39m\u001b[38;5;124m\"\u001b[39m\u001b[38;5;132;01m{\u001b[39;00mnot_found\u001b[38;5;132;01m}\u001b[39;00m\u001b[38;5;124m not in index\u001b[39m\u001b[38;5;124m\"\u001b[39m)\n",
      "\u001b[1;31mKeyError\u001b[0m: \"['CH04', 'CH06', 'CH10', 'CH12', 'ESTADO', 'CAT_OCUP', 'CAT_INAC', 'PP3E_TOT', 'PP3F_TOT', 'PP03G', 'PONDERA', 'NIVEL_ED', 'IPCF', 'ITF', 'REGION'] not in index\""
     ]
    }
   ],
   "source": [
    "# Me quedo solo con las columnas que me interesan\n",
    "\n",
    "df = df[vars_interes + [\"ano4\"]]\n"
   ]
  },
  {
   "cell_type": "code",
   "execution_count": null,
   "id": "19e097dd-b5a1-4293-bebf-1affe6e9a25c",
   "metadata": {
    "scrolled": true
   },
   "outputs": [],
   "source": [
    "# --- CUENTO CUÁNTOS VALORES FALTANTES HAY EN CADA VARIABLE POR AÑO ---\n",
    "\n",
    "# Esto me genera una tabla con la cantidad de \"NA\" por cada variable, separado por año\n",
    "faltantes = df.groupby(\"ano4\").apply(lambda x: x.isna().sum()).T\n",
    "# Muestro esa tabla\n",
    "print(\"Valores faltantes por año:\")\n",
    "print(faltantes)\n",
    "\n",
    "# --- LIMPIO VALORES QUE NO TIENEN SENTIDO ---\n",
    "\n",
    "# Por ejemplo: si los ingresos son negativos o son 9999999 (que es una forma de decir \"no respondió\")\n",
    "# los paso a NA para que no molesten\n",
    "\n",
    "for var in [\"IPCF\", \"ITF\"]:\n",
    "    df.loc[df[var] < 0, var] = np.nan\n",
    "    df.loc[df[var] >= 9999999, var] = np.nan\n",
    "\n",
    "# --- GUARDO LA BASE LIMPIA PARA USAR MÁS ADELANTE ---\n",
    "\n",
    "# Me genero un archivo .csv que puedo abrir después o usar para gráficos, análisis, etc.\n",
    "df.to_csv(\"EPH_MardelPlata_2004_2024_limpio.csv\", index=False)\n",
    "\n",
    "\n",
    "print(\"Limpieza completada. El archivo se guardó como 'EPH_MardelPlata_2004_2024_limpio.csv'\")\n"
   ]
  },
  {
   "cell_type": "code",
   "execution_count": null,
   "id": "f1ed6b70-7cfe-498e-a465-aa7ae52eeaf7",
   "metadata": {},
   "outputs": [],
   "source": []
  },
  {
   "cell_type": "code",
   "execution_count": null,
   "id": "78920140-6c0b-4bfe-9636-b25fd25cb92e",
   "metadata": {},
   "outputs": [],
   "source": []
  },
  {
   "cell_type": "code",
   "execution_count": null,
   "id": "283ce33c-b6c6-473b-a08b-911fe18fb4c6",
   "metadata": {},
   "outputs": [],
   "source": []
  },
  {
   "cell_type": "code",
   "execution_count": null,
   "id": "add4bc87-45d2-4aa7-82db-a9c0655445ce",
   "metadata": {},
   "outputs": [],
   "source": []
  }
 ],
 "metadata": {
  "kernelspec": {
   "display_name": "Python [conda env:base] *",
   "language": "python",
   "name": "conda-base-py"
  },
  "language_info": {
   "codemirror_mode": {
    "name": "ipython",
    "version": 3
   },
   "file_extension": ".py",
   "mimetype": "text/x-python",
   "name": "python",
   "nbconvert_exporter": "python",
   "pygments_lexer": "ipython3",
   "version": "3.12.7"
  }
 },
 "nbformat": 4,
 "nbformat_minor": 5
}

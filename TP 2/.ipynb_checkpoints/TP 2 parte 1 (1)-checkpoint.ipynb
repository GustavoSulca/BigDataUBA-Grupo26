{
 "cells": [
  {
   "cell_type": "code",
   "execution_count": 323,
   "id": "998eccfe-8d88-4973-922a-661f2aea8d86",
   "metadata": {},
   "outputs": [],
   "source": [
    "# Primero importamos las librerías que vamos a usar\n",
    "\n",
    "import pandas as pd\n",
    "import numpy as np"
   ]
  },
  {
   "cell_type": "code",
   "execution_count": 325,
   "id": "ab3e049c-2ca0-41da-a660-40adaf0c0ef5",
   "metadata": {},
   "outputs": [],
   "source": [
    "#Parte I: Familiarizandonos con la base EPH y limpieza"
   ]
  },
  {
   "cell_type": "code",
   "execution_count": 327,
   "id": "41167c69-89ac-4d0c-8edb-79393102813f",
   "metadata": {},
   "outputs": [
    {
     "name": "stdout",
     "output_type": "stream",
     "text": [
      "Requirement already satisfied: pandas in c:\\users\\gustavo\\anaconda3\\lib\\site-packages (2.2.3)\n",
      "Requirement already satisfied: xlrd in c:\\users\\gustavo\\anaconda3\\lib\\site-packages (2.0.1)\n",
      "Requirement already satisfied: openpyxl in c:\\users\\gustavo\\anaconda3\\lib\\site-packages (3.1.5)\n",
      "Requirement already satisfied: pyreadstat in c:\\users\\gustavo\\anaconda3\\lib\\site-packages (1.2.8)\n",
      "Requirement already satisfied: numpy>=1.26.0 in c:\\users\\gustavo\\anaconda3\\lib\\site-packages (from pandas) (1.26.4)\n",
      "Requirement already satisfied: python-dateutil>=2.8.2 in c:\\users\\gustavo\\anaconda3\\lib\\site-packages (from pandas) (2.9.0.post0)\n",
      "Requirement already satisfied: pytz>=2020.1 in c:\\users\\gustavo\\anaconda3\\lib\\site-packages (from pandas) (2025.2)\n",
      "Requirement already satisfied: tzdata>=2022.7 in c:\\users\\gustavo\\anaconda3\\lib\\site-packages (from pandas) (2023.3)\n",
      "Requirement already satisfied: et-xmlfile in c:\\users\\gustavo\\anaconda3\\lib\\site-packages (from openpyxl) (1.1.0)\n",
      "Requirement already satisfied: six>=1.5 in c:\\users\\gustavo\\anaconda3\\lib\\site-packages (from python-dateutil>=2.8.2->pandas) (1.16.0)\n",
      "Note: you may need to restart the kernel to use updated packages.\n"
     ]
    }
   ],
   "source": [
    "pip install --upgrade pandas xlrd openpyxl pyreadstat"
   ]
  },
  {
   "cell_type": "code",
   "execution_count": 329,
   "id": "8272bc4b-80bc-44e3-874c-a1e79c2ce37c",
   "metadata": {},
   "outputs": [],
   "source": [
    "# Cargo los archivos de las bases de datos con la ruta completa\n",
    "\n",
    "# base del 2004 que está en formato .dta (de Stata)\n",
    "df_2004 = pd.read_stata(r\"C:\\Users\\Gustavo\\Documents\\GitHub\\BigDataUBA-Grupo26\\TP 2\\usu_individual_T104.dta\\Individual_t104.dta\")\n",
    "\n",
    "# base del 2024 que está en Excel\n",
    "df_2024 = pd.read_excel(r\"C:\\Users\\Gustavo\\Documents\\GitHub\\BigDataUBA-Grupo26\\TP 2\\EPH_usu_1er_Trim_2024_xlsx\\usu_individual_T124.xlsx\")"
   ]
  },
  {
   "cell_type": "code",
   "execution_count": 330,
   "id": "6c2cc5c6-d5f8-476b-966f-3503dea10ad6",
   "metadata": {},
   "outputs": [],
   "source": [
    "df_2004.columns = df_2004.columns.str.lower()\n",
    "df_2024.columns = df_2024.columns.str.lower()"
   ]
  },
  {
   "cell_type": "code",
   "execution_count": 331,
   "id": "aecf7646-0bf5-4f1e-b0e8-6eef2cd79d64",
   "metadata": {},
   "outputs": [],
   "source": [
    "# Me aseguro de que ambas bases tengan la columna 'ano4' con el año correcto\n",
    "\n",
    "df_2004[\"ano4\"] = 2004\n",
    "df_2024[\"ano4\"] = 2024"
   ]
  },
  {
   "cell_type": "code",
   "execution_count": 332,
   "id": "e27d30dd-45bd-47d5-903d-8c25a79b0484",
   "metadata": {},
   "outputs": [],
   "source": [
    "df = pd.concat([df_2004, df_2024], ignore_index=True)"
   ]
  },
  {
   "cell_type": "code",
   "execution_count": 333,
   "id": "5b77a1c1-89a2-439d-8c18-5449cccabade",
   "metadata": {},
   "outputs": [
    {
     "name": "stdout",
     "output_type": "stream",
     "text": [
      "ano4\n",
      "2024    46050\n",
      "2004    45289\n",
      "Name: count, dtype: int64\n"
     ]
    }
   ],
   "source": [
    "print(df[\"ano4\"].value_counts())"
   ]
  },
  {
   "cell_type": "code",
   "execution_count": 334,
   "id": "4bf3c07d-9ffa-4213-bcb3-d3147bcab287",
   "metadata": {},
   "outputs": [
    {
     "name": "stdout",
     "output_type": "stream",
     "text": [
      "Columnas de la base 2004:\n",
      "['codusu', 'nro_hogar', 'componente', 'h15', 'ano4', 'trimestre', 'region', 'mas_500', 'aglomerado', 'pondera', 'ch03', 'ch04', 'ch06', 'ch07', 'ch08', 'ch09', 'ch10', 'ch11', 'ch12', 'ch13', 'ch14', 'ch15', 'ch15_cod', 'ch16', 'ch16_cod', 'nivel_ed', 'estado', 'cat_ocup', 'cat_inac', 'pp02c1', 'pp02c2', 'pp02c3', 'pp02c4', 'pp02c5', 'pp02c6', 'pp02c7', 'pp02c8', 'pp02e', 'pp02h', 'pp02i', 'pp03c', 'pp03d', 'pp3e_tot', 'pp3f_tot', 'pp03g', 'pp03h', 'pp03i', 'pp03j', 'intensi', 'pp04a', 'pp04b_cod', 'pp04b1', 'pp04b2', 'pp04b3_mes', 'pp04b3_ano', 'pp04b3_dia', 'pp04c', 'pp04c99', 'pp04d_cod', 'pp04g', 'pp05b2_mes', 'pp05b2_ano', 'pp05b2_dia', 'pp05c_1', 'pp05c_2', 'pp05c_3', 'pp05e', 'pp05f', 'pp05h', 'pp06a', 'pp06c', 'pp06d', 'pp06e', 'pp06h', 'pp07a', 'pp07c', 'pp07d', 'pp07e', 'pp07f1', 'pp07f2', 'pp07f3', 'pp07f4', 'pp07f5', 'pp07g1', 'pp07g2', 'pp07g3', 'pp07g4', 'pp07g_59', 'pp07h', 'pp07i', 'pp07j', 'pp07k', 'pp08d1', 'pp08d4', 'pp08f1', 'pp08f2', 'pp08j1', 'pp08j2', 'pp08j3', 'pp09a', 'pp09a_esp', 'pp09b', 'pp09c', 'pp09c_esp', 'pp10a', 'pp10c', 'pp10d', 'pp10e', 'pp11a', 'pp11b_cod', 'pp11b1', 'pp11b2_mes', 'pp11b2_ano', 'pp11b2_dia', 'pp11c', 'pp11c99', 'pp11d_cod', 'pp11g_ano', 'pp11g_mes', 'pp11g_dia', 'pp11l', 'pp11l1', 'pp11m', 'pp11n', 'pp11o', 'pp11p', 'pp11q', 'pp11r', 'pp11s', 'pp11t', 'p21', 'decocur', 'idecocur', 'rdecocur', 'gdecocur', 'pdecocur', 'adecocur', 'tot_p12', 'p47t', 'decindr', 'idecindr', 'rdecindr', 'gdecindr', 'pdecindr', 'adecindr', 'v2_m', 'v3_m', 'v4_m', 'v5_m', 'v8_m', 'v9_m', 'v10_m', 'v11_m', 'v12_m', 'v18_m', 'v19_am', 'v21_m', 't_vi', 'itf', 'decifr', 'idecifr', 'rdecifr', 'gdecifr', 'pdecifr', 'adecifr', 'ipcf', 'deccfr', 'ideccfr', 'rdeccfr', 'gdeccfr', 'pdeccfr', 'adeccfr', 'pj1_1', 'pj2_1', 'pj3_1', 'idimpp']\n",
      "\n",
      "Columnas de la base 2024:\n",
      "['codusu', 'ano4', 'trimestre', 'nro_hogar', 'componente', 'h15', 'region', 'mas_500', 'aglomerado', 'pondera', 'ch03', 'ch04', 'ch05', 'ch06', 'ch07', 'ch08', 'ch09', 'ch10', 'ch11', 'ch12', 'ch13', 'ch14', 'ch15', 'ch15_cod', 'ch16', 'ch16_cod', 'nivel_ed', 'estado', 'cat_ocup', 'cat_inac', 'imputa', 'pp02c1', 'pp02c2', 'pp02c3', 'pp02c4', 'pp02c5', 'pp02c6', 'pp02c7', 'pp02c8', 'pp02e', 'pp02h', 'pp02i', 'pp03c', 'pp03d', 'pp3e_tot', 'pp3f_tot', 'pp03g', 'pp03h', 'pp03i', 'pp03j', 'intensi', 'pp04a', 'pp04b_cod', 'pp04b1', 'pp04b2', 'pp04b3_mes', 'pp04b3_ano', 'pp04b3_dia', 'pp04c', 'pp04c99', 'pp04d_cod', 'pp04g', 'pp05b2_mes', 'pp05b2_ano', 'pp05b2_dia', 'pp05c_1', 'pp05c_2', 'pp05c_3', 'pp05e', 'pp05f', 'pp05h', 'pp06a', 'pp06c', 'pp06d', 'pp06e', 'pp06h', 'pp07a', 'pp07c', 'pp07d', 'pp07e', 'pp07f1', 'pp07f2', 'pp07f3', 'pp07f4', 'pp07f5', 'pp07g1', 'pp07g2', 'pp07g3', 'pp07g4', 'pp07g_59', 'pp07h', 'pp07i', 'pp07j', 'pp07k', 'pp08d1', 'pp08d4', 'pp08f1', 'pp08f2', 'pp08j1', 'pp08j2', 'pp08j3', 'pp09a', 'pp09a_esp', 'pp09b', 'pp09c', 'pp09c_esp', 'pp10a', 'pp10c', 'pp10d', 'pp10e', 'pp11a', 'pp11b_cod', 'pp11b1', 'pp11b2_mes', 'pp11b2_ano', 'pp11b2_dia', 'pp11c', 'pp11c99', 'pp11d_cod', 'pp11g_ano', 'pp11g_mes', 'pp11g_dia', 'pp11l', 'pp11l1', 'pp11m', 'pp11n', 'pp11o', 'pp11p', 'pp11q', 'pp11r', 'pp11s', 'pp11t', 'p21', 'decocur', 'idecocur', 'rdecocur', 'gdecocur', 'pdecocur', 'adecocur', 'pondiio', 'tot_p12', 'p47t', 'decindr', 'idecindr', 'rdecindr', 'gdecindr', 'pdecindr', 'adecindr', 'pondii', 'v2_m', 'v3_m', 'v4_m', 'v5_m', 'v8_m', 'v9_m', 'v10_m', 'v11_m', 'v12_m', 'v18_m', 'v19_am', 'v21_m', 't_vi', 'itf', 'decifr', 'idecifr', 'rdecifr', 'gdecifr', 'pdecifr', 'adecifr', 'ipcf', 'deccfr', 'ideccfr', 'rdeccfr', 'gdeccfr', 'pdeccfr', 'adeccfr', 'pondih']\n"
     ]
    }
   ],
   "source": [
    "# Veo qué columnas tienen cada base para identificar cómo se llama \"AGLOMERADO\"\n",
    "print(\"Columnas de la base 2004:\")\n",
    "print(df_2004.columns.tolist())\n",
    "\n",
    "print(\"\\nColumnas de la base 2024:\")\n",
    "print(df_2024.columns.tolist())\n"
   ]
  },
  {
   "cell_type": "code",
   "execution_count": 253,
   "id": "3c463b3d-8373-4e25-b245-d86aa183d8bd",
   "metadata": {},
   "outputs": [],
   "source": [
    "# Filtro por la región de Mar del Plata\n",
    "\n",
    "# Según la variable AGLOMERADO, el código 34 corresponde a Mar del Plata\n",
    "# Me quedo solo con las personas de esa región\n",
    "\n",
    "df_2004 = df_2004[df_2004[\"aglomerado\"] == 34].copy()\n",
    "df_2024 = df_2024[df_2024[\"aglomerado\"] == 34].copy()\n"
   ]
  },
  {
   "cell_type": "code",
   "execution_count": 255,
   "id": "a20d5e21-be57-4563-bd30-83071049278b",
   "metadata": {},
   "outputs": [],
   "source": [
    "# Le agrego una columna para saber de qué año es cada fila\n",
    "\n",
    "df_2004[\"ano4\"] = 2004\n",
    "df_2024[\"ano4\"] = 2024\n"
   ]
  },
  {
   "cell_type": "code",
   "execution_count": 257,
   "id": "a300ed43-2c0c-483a-86c6-0289ff360339",
   "metadata": {},
   "outputs": [
    {
     "name": "stderr",
     "output_type": "stream",
     "text": [
      "C:\\Users\\Gustavo\\AppData\\Local\\Temp\\ipykernel_11208\\3237440424.py:3: FutureWarning: The behavior of DataFrame concatenation with empty or all-NA entries is deprecated. In a future version, this will no longer exclude empty or all-NA columns when determining the result dtypes. To retain the old behavior, exclude the relevant entries before the concat operation.\n",
      "  df = pd.concat([df_2004, df_2024], ignore_index=True)\n"
     ]
    }
   ],
   "source": [
    "# Junto las dos bases en una sola (como si pegara hojas de Excel una abajo de la otra)\n",
    "\n",
    "df = pd.concat([df_2004, df_2024], ignore_index=True)\n"
   ]
  },
  {
   "cell_type": "code",
   "execution_count": 259,
   "id": "1f36fe79-64ec-4524-b535-328e99b412eb",
   "metadata": {},
   "outputs": [
    {
     "name": "stdout",
     "output_type": "stream",
     "text": [
      "Columnas vacías en df_2004:\n",
      "codusu        True\n",
      "nro_hogar     True\n",
      "componente    True\n",
      "h15           True\n",
      "ano4          True\n",
      "              ... \n",
      "adeccfr       True\n",
      "pj1_1         True\n",
      "pj2_1         True\n",
      "pj3_1         True\n",
      "idimpp        True\n",
      "Length: 176, dtype: bool\n",
      "\n",
      "Columnas vacías en df_2024:\n",
      "codusu        False\n",
      "ano4          False\n",
      "trimestre     False\n",
      "nro_hogar     False\n",
      "componente    False\n",
      "              ...  \n",
      "rdeccfr       False\n",
      "gdeccfr       False\n",
      "pdeccfr        True\n",
      "adeccfr       False\n",
      "pondih        False\n",
      "Length: 177, dtype: bool\n"
     ]
    }
   ],
   "source": [
    "print(\"Columnas vacías en df_2004:\")\n",
    "print(df_2004.isna().all())\n",
    "\n",
    "print(\"\\nColumnas vacías en df_2024:\")\n",
    "print(df_2024.isna().all())"
   ]
  },
  {
   "cell_type": "code",
   "execution_count": 261,
   "id": "77cb4d2f-0609-4ef0-b1b4-390450916342",
   "metadata": {},
   "outputs": [
    {
     "name": "stdout",
     "output_type": "stream",
     "text": [
      "\n",
      "Columnas en df_2004:\n",
      "{'pp07g2', 'pp05c_1', 'v21_m', 'ch10', 'idecindr', 'pp07e', 'pp08d1', 'pp07g4', 'pdecocur', 'pp07h', 'pp3f_tot', 'pp03h', 'v3_m', 'pp11b2_mes', 'pp05b2_dia', 'v19_am', 'pp07c', 'codusu', 'adecifr', 'ch03', 'ch07', 'pp11n', 'pp04g', 'region', 'idimpp', 'pp04b_cod', 'pp08f1', 'pp11b2_dia', 'h15', 'pp07i', 'mas_500', 'ch16_cod', 'pp11c99', 'gdecocur', 'pp02c1', 'pp06e', 'pp05e', 'pp11p', 'tot_p12', 'pp08j1', 'pp09a', 'pp11g_ano', 'ch15_cod', 'pp07f5', 'adecocur', 'pp02c5', 'ipcf', 'decifr', 'rdecocur', 'pp07g1', 'deccfr', 'pp05f', 'pp02c2', 'pp07f2', 'ch08', 'v4_m', 'nivel_ed', 'v2_m', 'gdeccfr', 'cat_ocup', 'pp09c', 'pp11c', 'idecifr', 'pp11a', 'v9_m', 'gdecindr', 'pp11l', 'rdecindr', 'v8_m', 'ideccfr', 'pp11r', 'pp07g3', 'pj3_1', 'pp04c', 'pp11g_dia', 'pp02c4', 'aglomerado', 'pp04c99', 'decindr', 'pp03j', 'pp06d', 'pp11g_mes', 'pp06c', 'pp11b1', 'pp04a', 'pp07d', 'pp10a', 'pp05b2_ano', 'pdecifr', 'v10_m', 'pp09c_esp', 'pp02c8', 'pp07j', 'pp08f2', 'pp02c6', 'pp10d', 'pdecindr', 'adeccfr', 'gdecifr', 'ch09', 'pp02h', 'ch16', 't_vi', 'pp11s', 'pp11b2_ano', 'pp07f1', 'pj2_1', 'pp07k', 'pp07a', 'idecocur', 'pp07f4', 'pp09b', 'pj1_1', 'pp03i', 'v12_m', 'pp10c', 'ch11', 'pp04b3_dia', 'ch12', 'pp11q', 'pp05c_3', 'pp04b3_mes', 'pp05b2_mes', 'pp03c', 'pp05c_2', 'v11_m', 'pp11t', 'pp03g', 'pp11o', 'p47t', 'ch15', 'componente', 'ch13', 'ch06', 'pp04b2', 'pdeccfr', 'pp04b1', 'pp3e_tot', 'pp02c7', 'pp02c3', 'pp04b3_ano', 'pp05h', 'ch14', 'pp10e', 'p21', 'adecindr', 'pp02i', 'pp04d_cod', 'v18_m', 'pp08j2', 'pp07g_59', 'pp11m', 'pp08d4', 'itf', 'rdecifr', 'ano4', 'pp02e', 'pondera', 'pp03d', 'pp06h', 'intensi', 'decocur', 'trimestre', 'pp11b_cod', 'pp11l1', 'v5_m', 'estado', 'nro_hogar', 'pp07f3', 'pp09a_esp', 'ch04', 'rdeccfr', 'pp08j3', 'pp11d_cod', 'pp06a', 'cat_inac'}\n",
      "\n",
      "Columnas en df_2024:\n",
      "{'pp07g2', 'pp05c_1', 'v21_m', 'ch10', 'idecindr', 'pp07e', 'pp08d1', 'pp07g4', 'pdecocur', 'pp07h', 'pp3f_tot', 'pp03h', 'v3_m', 'pp11b2_mes', 'pp05b2_dia', 'v19_am', 'pp07c', 'codusu', 'adecifr', 'ch03', 'ch07', 'pp11n', 'pp04g', 'region', 'pp04b_cod', 'pp08f1', 'pp11b2_dia', 'h15', 'pp07i', 'mas_500', 'ch16_cod', 'pp11c99', 'gdecocur', 'pp02c1', 'pp06e', 'pp05e', 'pp11p', 'tot_p12', 'pp08j1', 'pp09a', 'pp11g_ano', 'ch15_cod', 'pp07f5', 'adecocur', 'pp02c5', 'ipcf', 'decifr', 'rdecocur', 'pp07g1', 'deccfr', 'pp05f', 'pp02c2', 'pp07f2', 'ch08', 'v4_m', 'nivel_ed', 'v2_m', 'gdeccfr', 'cat_ocup', 'imputa', 'pp09c', 'pp11c', 'idecifr', 'pp11a', 'v9_m', 'gdecindr', 'pp11l', 'rdecindr', 'v8_m', 'ideccfr', 'pp11r', 'pp07g3', 'pp04c', 'pp11g_dia', 'pp02c4', 'aglomerado', 'pp04c99', 'decindr', 'pp03j', 'pp06d', 'pp11g_mes', 'pp06c', 'pp11b1', 'pp04a', 'pp07d', 'pp10a', 'pp05b2_ano', 'pdecifr', 'v10_m', 'pp09c_esp', 'pp02c8', 'pp07j', 'pp08f2', 'pp02c6', 'pp10d', 'pdecindr', 'adeccfr', 'gdecifr', 'ch09', 'pp02h', 'ch16', 't_vi', 'pp11s', 'pp11b2_ano', 'pp07f1', 'pp07k', 'pp07a', 'idecocur', 'pp07f4', 'pp09b', 'pp03i', 'v12_m', 'pp10c', 'ch11', 'pp04b3_dia', 'ch12', 'pp11q', 'pp05c_3', 'pp04b3_mes', 'pp05b2_mes', 'pp03c', 'pp05c_2', 'v11_m', 'pp11t', 'pp03g', 'pp11o', 'p47t', 'ch15', 'componente', 'ch13', 'ch06', 'pp04b2', 'pdeccfr', 'pp04b1', 'pondih', 'pp3e_tot', 'pp02c7', 'pp02c3', 'pp04b3_ano', 'pp05h', 'ch14', 'pp10e', 'p21', 'adecindr', 'pp02i', 'pp04d_cod', 'v18_m', 'pp08j2', 'pondii', 'pp07g_59', 'pp11m', 'pp08d4', 'itf', 'ch05', 'rdecifr', 'ano4', 'pp02e', 'pondera', 'pp03d', 'pp06h', 'intensi', 'decocur', 'trimestre', 'pp11b_cod', 'pp11l1', 'v5_m', 'estado', 'nro_hogar', 'pp07f3', 'pp09a_esp', 'ch04', 'rdeccfr', 'pp08j3', 'pp11d_cod', 'pondiio', 'pp06a', 'cat_inac'}\n"
     ]
    }
   ],
   "source": [
    "print(\"\\nColumnas en df_2004:\")\n",
    "print(set(df_2004.columns))\n",
    "\n",
    "print(\"\\nColumnas en df_2024:\")\n",
    "print(set(df_2024.columns))"
   ]
  },
  {
   "cell_type": "code",
   "execution_count": 263,
   "id": "9a65bfb4-47ff-4d81-8935-44c10dbbe5cc",
   "metadata": {},
   "outputs": [],
   "source": [
    "# Eliminar columnas totalmente vacías\n",
    "df_2004_clean = df_2004.dropna(axis=1, how='all')\n",
    "df_2024_clean = df_2024.dropna(axis=1, how='all')\n",
    "\n",
    "# Luego concatenás\n",
    "df = pd.concat([df_2004_clean, df_2024_clean], ignore_index=True)"
   ]
  },
  {
   "cell_type": "code",
   "execution_count": 265,
   "id": "b59aeed9-b1c8-42be-877f-437d317dffe8",
   "metadata": {},
   "outputs": [],
   "source": [
    "# Elijo 15 variables que me interesan para el análisis\n",
    "# Estas variables tienen info sobre edad, sexo, actividad laboral, educación e ingresos\n",
    "# (los cuales están desarrolladas los pdf de diseño de registro y estructura)\n",
    "\n",
    "vars_interes = [\n",
    "    \"CH04\",        # Sexo\n",
    "    \"CH06\",        # Edad\n",
    "    \"CH10\",        # Si asiste o asistió a un establecimiento educativo\n",
    "    \"CH12\",        # Nivel educativo alcanzado\n",
    "    \"ESTADO\",      # Condición de actividad (ocupado, desocupado, etc.)\n",
    "    \"CAT_OCUP\",    # Tipo de ocupación (si trabaja)\n",
    "    \"CAT_INAC\",    # Tipo de inactividad (si no trabaja)\n",
    "    \"PP3E_TOT\",    # Horas trabajadas en su ocupación principal\n",
    "    \"PP3F_TOT\",    # Horas trabajadas en otras ocupaciones\n",
    "    \"PP03G\",       # Si quiere trabajar más horas\n",
    "    \"PONDERA\",     # Factor de expansión (cuánto representa esa persona)\n",
    "    \"NIVEL_ED\",    # Nivel educativo resumido\n",
    "    \"IPCF\",        # Ingreso per cápita familiar\n",
    "    \"ITF\",         # Ingreso total del hogar\n",
    "    \"REGION\"       # Región (por si se necesita más adelante)\n",
    "]\n"
   ]
  },
  {
   "cell_type": "code",
   "execution_count": 267,
   "id": "83ea0266-479b-485f-adbd-5d1352326a86",
   "metadata": {},
   "outputs": [],
   "source": [
    "# Me quedo solo con las columnas que me interesan\n",
    "vars_interes = [col.lower() for col in vars_interes]\n",
    "df = df[vars_interes + [\"ano4\"]]"
   ]
  },
  {
   "cell_type": "code",
   "execution_count": 269,
   "id": "19e097dd-b5a1-4293-bebf-1affe6e9a25c",
   "metadata": {
    "scrolled": true
   },
   "outputs": [
    {
     "name": "stdout",
     "output_type": "stream",
     "text": [
      "Valores faltantes por año:\n",
      "ano4      2024\n",
      "ch04         0\n",
      "ch06         0\n",
      "ch10         0\n",
      "ch12         0\n",
      "estado       0\n",
      "cat_ocup     0\n",
      "cat_inac     0\n",
      "pp3e_tot   493\n",
      "pp3f_tot   493\n",
      "pp03g      493\n",
      "pondera      0\n",
      "nivel_ed     0\n",
      "ipcf         0\n",
      "itf          0\n",
      "region       0\n",
      "ano4         0\n",
      "Limpieza completada. El archivo se guardó como 'EPH_MardelPlata_2004_2024_limpio.csv'\n"
     ]
    },
    {
     "name": "stderr",
     "output_type": "stream",
     "text": [
      "C:\\Users\\Gustavo\\AppData\\Local\\Temp\\ipykernel_11208\\2410578329.py:4: DeprecationWarning: DataFrameGroupBy.apply operated on the grouping columns. This behavior is deprecated, and in a future version of pandas the grouping columns will be excluded from the operation. Either pass `include_groups=False` to exclude the groupings or explicitly select the grouping columns after groupby to silence this warning.\n",
      "  faltantes = df.groupby(\"ano4\").apply(lambda x: x.isna().sum()).T\n"
     ]
    }
   ],
   "source": [
    "# --- CUENTO CUÁNTOS VALORES FALTANTES HAY EN CADA VARIABLE POR AÑO ---\n",
    "\n",
    "# Esto me genera una tabla con la cantidad de \"NA\" por cada variable, separado por año\n",
    "faltantes = df.groupby(\"ano4\").apply(lambda x: x.isna().sum()).T\n",
    "# Muestro esa tabla\n",
    "print(\"Valores faltantes por año:\")\n",
    "print(faltantes)\n",
    "\n",
    "# --- LIMPIO VALORES QUE NO TIENEN SENTIDO ---\n",
    "\n",
    "# Por ejemplo: si los ingresos son negativos o son 9999999 (que es una forma de decir \"no respondió\")\n",
    "# los paso a NA para que no molesten\n",
    "\n",
    "for var in [\"ipcf\", \"itf\"]:\n",
    "    df.loc[df[var] < 0, var] = np.nan\n",
    "    df.loc[df[var] >= 9999999, var] = np.nan\n",
    "\n",
    "# --- GUARDO LA BASE LIMPIA PARA USAR MÁS ADELANTE ---\n",
    "\n",
    "# Me genero un archivo .csv que puedo abrir después o usar para gráficos, análisis, etc.\n",
    "df.to_csv(\"EPH_MardelPlata_2004_2024_limpio.csv\", index=False)\n",
    "\n",
    "\n",
    "print(\"Limpieza completada. El archivo se guardó como 'EPH_MardelPlata_2004_2024_limpio.csv'\")\n"
   ]
  },
  {
   "cell_type": "code",
   "execution_count": 271,
   "id": "f1ed6b70-7cfe-498e-a465-aa7ae52eeaf7",
   "metadata": {},
   "outputs": [],
   "source": [
    "#Parte II: Primer Análisis Exploratorio"
   ]
  },
  {
   "cell_type": "code",
   "execution_count": 273,
   "id": "4db2a88d-15c2-4a9c-8249-9ebd60b06637",
   "metadata": {},
   "outputs": [],
   "source": [
    "import matplotlib.pyplot as plt\n",
    "import seaborn as sns"
   ]
  },
  {
   "cell_type": "code",
   "execution_count": 275,
   "id": "72d53bf9-230b-4320-85a2-648b80a1517b",
   "metadata": {},
   "outputs": [],
   "source": [
    "# --- FILTRO LA BASE PARA QUEDARME CON LOS DATOS DE 2004 Y 2024 ---\n",
    "\n",
    "# Creo dos nuevos DataFrames: uno solo con los datos del año 2004 y otro con los de 2024.\n",
    "# Esto me permite comparar variables entre esos dos años.\n",
    "data_2004 = df[df['ano4'] == 2004]\n",
    "data_2024 = df[df['ano4'] == 2024]\n"
   ]
  },
  {
   "cell_type": "code",
   "execution_count": 277,
   "id": "78920140-6c0b-4bfe-9636-b25fd25cb92e",
   "metadata": {},
   "outputs": [
    {
     "name": "stdout",
     "output_type": "stream",
     "text": [
      "Distribución de sexo en 2004:\n",
      "Series([], Name: count, dtype: int64)\n",
      "\n",
      "Distribución de sexo en 2024:\n",
      "ch04\n",
      "2    506\n",
      "1    465\n",
      "Name: count, dtype: int64\n"
     ]
    }
   ],
   "source": [
    "# Filtro y me aseguro de que las variables de sexo estén bien codificadas (normalmente 'sexo' es 1 para hombres y 2 para mujeres)\n",
    "# Filtra los datos por región si es necesario\n",
    "\n",
    "# Contar la cantidad de hombres y mujeres en cada año\n",
    "sexo_2004 = data_2004['ch04'].value_counts()\n",
    "sexo_2024 = data_2024['ch04'].value_counts()\n",
    "\n",
    "# Mostrar los resultados\n",
    "print(\"Distribución de sexo en 2004:\")\n",
    "print(sexo_2004)\n",
    "\n",
    "print(\"\\nDistribución de sexo en 2024:\")\n",
    "print(sexo_2024)"
   ]
  },
  {
   "cell_type": "code",
   "execution_count": 279,
   "id": "283e5420-5ede-4d56-87ce-88e72c6d327d",
   "metadata": {},
   "outputs": [
    {
     "name": "stdout",
     "output_type": "stream",
     "text": [
      "No hay datos para el año 2004.\n"
     ]
    }
   ],
   "source": [
    "# Mapeamos los valores de 'ch04' en ambos dataframes para que sean consistentes\n",
    "# 1: Varón, 2: Mujer\n",
    "\n",
    "# Asegurarse de que están en formato numérico\n",
    "data_2004['ch04'] = data_2004['ch04'].map({'Varón': 1, 'Mujer': 2})\n",
    "data_2024['ch04'] = pd.to_numeric(data_2024['ch04'], errors='coerce')\n",
    "\n",
    "# Ahora creamos las series de conteo\n",
    "sexo_2004 = data_2004['ch04'].value_counts().sort_index()\n",
    "sexo_2024 = data_2024['ch04'].value_counts().sort_index()\n",
    "\n",
    "# Reemplazamos los códigos por etiquetas legibles para el gráfico\n",
    "sexo_labels = {1: 'Varón', 2: 'Mujer'}\n",
    "\n",
    "sexo_2004.index = sexo_2004.index.map(sexo_labels)\n",
    "sexo_2024.index = sexo_2024.index.map(sexo_labels)\n",
    "\n",
    "# Comprobamos si sexo_2004 tiene datos\n",
    "if sexo_2004.empty:\n",
    "    print(\"No hay datos para el año 2004.\")\n",
    "else:\n",
    "    # Combinamos en un DataFrame para graficar\n",
    "    sexo_combinado = pd.DataFrame({\n",
    "        'Sexo': list(sexo_2004.index) + list(sexo_2024.index),\n",
    "        'Cantidad': list(sexo_2004.values) + list(sexo_2024.values),\n",
    "        'Año': ['2004'] * len(sexo_2004) + ['2024'] * len(sexo_2024)\n",
    "    })\n",
    "\n",
    "    print(\"Datos combinados:\\n\", sexo_combinado)\n",
    "\n",
    "    # Graficamos\n",
    "    plt.figure(figsize=(10,6))\n",
    "    sns.barplot(x='Sexo', y='Cantidad', hue='Año', data=sexo_combinado, palette={\"2004\": \"blue\", \"2024\": \"red\"})\n",
    "\n",
    "    plt.title('Distribución de Sexo por Año (2004 vs 2024)')\n",
    "    plt.xlabel('Sexo')\n",
    "    plt.ylabel('Cantidad')\n",
    "    plt.legend(title='Año')\n",
    "    plt.show()"
   ]
  },
  {
   "cell_type": "code",
   "execution_count": 281,
   "id": "d4dd53cd-e5f1-42cd-b4de-0a4f23446bca",
   "metadata": {},
   "outputs": [
    {
     "name": "stdout",
     "output_type": "stream",
     "text": [
      "[]\n",
      "Series([], Name: count, dtype: int64)\n"
     ]
    }
   ],
   "source": [
    "print(data_2004['ch04'].unique())\n",
    "print(data_2004['ch04'].value_counts(dropna=False))"
   ]
  },
  {
   "cell_type": "code",
   "execution_count": 283,
   "id": "f250c33b-2db6-4a46-923b-488cbae55f6d",
   "metadata": {},
   "outputs": [
    {
     "name": "stdout",
     "output_type": "stream",
     "text": [
      "True\n"
     ]
    }
   ],
   "source": [
    "print('ch04' in data_2004.columns)"
   ]
  },
  {
   "cell_type": "code",
   "execution_count": 285,
   "id": "aa19a818-eb3d-45b6-9598-154a35d31274",
   "metadata": {},
   "outputs": [
    {
     "name": "stdout",
     "output_type": "stream",
     "text": [
      "Empty DataFrame\n",
      "Columns: [ch04]\n",
      "Index: []\n"
     ]
    }
   ],
   "source": [
    "print(data_2004[['ch04']].head(10))"
   ]
  },
  {
   "cell_type": "code",
   "execution_count": 287,
   "id": "9133248d-b703-47f9-85cc-0683dec4ebd7",
   "metadata": {},
   "outputs": [
    {
     "name": "stdout",
     "output_type": "stream",
     "text": [
      "0\n"
     ]
    }
   ],
   "source": [
    "print(data_2004['ch04'].isna().sum())  # Ver cuántos valores NaN tiene la columna"
   ]
  },
  {
   "cell_type": "code",
   "execution_count": 289,
   "id": "b0c0c0ad-3ce5-42a6-bb92-1a34a47adc7d",
   "metadata": {},
   "outputs": [
    {
     "name": "stdout",
     "output_type": "stream",
     "text": [
      "[]\n"
     ]
    }
   ],
   "source": [
    "print(data_2004['ch04'].unique())  # Muestra los valores únicos en la columna 'ch04'"
   ]
  },
  {
   "cell_type": "code",
   "execution_count": 291,
   "id": "03368ded-7952-4821-a2ec-6160505537a4",
   "metadata": {},
   "outputs": [
    {
     "name": "stdout",
     "output_type": "stream",
     "text": [
      "Series([], Name: count, dtype: int64)\n"
     ]
    }
   ],
   "source": [
    "print(data_2004['ch04'].value_counts(dropna=False))  # Cuenta todos los valores, incluidos los NaN"
   ]
  },
  {
   "cell_type": "code",
   "execution_count": 293,
   "id": "add4bc87-45d2-4aa7-82db-a9c0655445ce",
   "metadata": {},
   "outputs": [
    {
     "name": "stdout",
     "output_type": "stream",
     "text": [
      "Sexo 2004:\n",
      " Series([], Name: count, dtype: int64)\n",
      "Sexo 2024:\n",
      " ch04\n",
      "2    506\n",
      "1    465\n",
      "Name: count, dtype: int64\n",
      "No hay datos para el año 2004.\n"
     ]
    }
   ],
   "source": [
    "# Graficamos los resultados\n",
    "\n",
    "# Primero, verifica los datos del año 2004 y 2024\n",
    "# Asegurémonos de que los datos de 2004 están en el dataframe\n",
    "sexo_2004 = data_2004['ch04'].value_counts()  # 'ch04' representa el sexo en los datos de 2004\n",
    "sexo_2024 = data_2024['ch04'].value_counts()  # 'ch04' representa el sexo en los datos de 2024\n",
    "\n",
    "print(\"Sexo 2004:\\n\", sexo_2004)\n",
    "print(\"Sexo 2024:\\n\", sexo_2024)\n",
    "\n",
    "# Comprobamos si sexo_2004 tiene datos\n",
    "if sexo_2004.empty:\n",
    "    print(\"No hay datos para el año 2004.\")\n",
    "else:\n",
    "    # Combinamos los datos en un DataFrame si ambos años tienen datos\n",
    "    sexo_combinado = pd.DataFrame({\n",
    "        'Sexo': list(sexo_2004.index) + list(sexo_2024.index),  # Concatenamos los índices de los dos años\n",
    "        'Cantidad': list(sexo_2004.values) + list(sexo_2024.values),  # Concatenamos los valores\n",
    "        'Año': ['2004'] * len(sexo_2004) + ['2024'] * len(sexo_2024)  # Añadimos la columna 'Año' con el valor correspondiente\n",
    "    })\n",
    "\n",
    "    print(\"Datos combinados:\\n\", sexo_combinado)\n",
    "\n",
    "    # Graficamos los resultados\n",
    "    plt.figure(figsize=(10,6))\n",
    "    sns.barplot(x='Sexo', y='Cantidad', hue='Año', data=sexo_combinado, palette={\"2004\": \"blue\", \"2024\": \"red\"})\n",
    "\n",
    "    # Agregamos etiquetas y título\n",
    "    plt.title('Distribución de Sexo por Año (2004 vs 2024)')\n",
    "    plt.xlabel('Sexo')\n",
    "    plt.ylabel('Cantidad')\n",
    "    plt.legend(title='Año')\n",
    "\n",
    "    # Mostramos la gráfica\n",
    "    plt.show()"
   ]
  },
  {
   "cell_type": "code",
   "execution_count": 295,
   "id": "288fe7ca-b0e9-4f84-a6eb-1e4135cb1a3a",
   "metadata": {},
   "outputs": [
    {
     "name": "stdout",
     "output_type": "stream",
     "text": [
      "Empty DataFrame\n",
      "Columns: [ch04, ch06, ch10, ch12, estado, cat_ocup, cat_inac, pp3e_tot, pp3f_tot, pp03g, pondera, nivel_ed, ipcf, itf, region, ano4]\n",
      "Index: []\n"
     ]
    }
   ],
   "source": [
    "# Verifica cuántos datos tienes para 2004\n",
    "data_2004 = df[df['ano4'] == 2004]\n",
    "print(data_2004.head())  # Muestra las primeras filas de los datos de 2004"
   ]
  },
  {
   "cell_type": "code",
   "execution_count": 297,
   "id": "f6313020-fb9f-46e1-a8f5-0fcd12fb9abc",
   "metadata": {},
   "outputs": [
    {
     "name": "stdout",
     "output_type": "stream",
     "text": [
      "[2024]\n"
     ]
    }
   ],
   "source": [
    "# Verifica los años presentes en el conjunto de datos\n",
    "print(df['ano4'].unique())"
   ]
  },
  {
   "cell_type": "code",
   "execution_count": 299,
   "id": "83731e28-d7ee-43de-ac41-f5ac229567bd",
   "metadata": {},
   "outputs": [
    {
     "name": "stdout",
     "output_type": "stream",
     "text": [
      "(0, 176)\n",
      "Empty DataFrame\n",
      "Columns: [codusu, nro_hogar, componente, h15, ano4, trimestre, region, mas_500, aglomerado, pondera, ch03, ch04, ch06, ch07, ch08, ch09, ch10, ch11, ch12, ch13, ch14, ch15, ch15_cod, ch16, ch16_cod, nivel_ed, estado, cat_ocup, cat_inac, pp02c1, pp02c2, pp02c3, pp02c4, pp02c5, pp02c6, pp02c7, pp02c8, pp02e, pp02h, pp02i, pp03c, pp03d, pp3e_tot, pp3f_tot, pp03g, pp03h, pp03i, pp03j, intensi, pp04a, pp04b_cod, pp04b1, pp04b2, pp04b3_mes, pp04b3_ano, pp04b3_dia, pp04c, pp04c99, pp04d_cod, pp04g, pp05b2_mes, pp05b2_ano, pp05b2_dia, pp05c_1, pp05c_2, pp05c_3, pp05e, pp05f, pp05h, pp06a, pp06c, pp06d, pp06e, pp06h, pp07a, pp07c, pp07d, pp07e, pp07f1, pp07f2, pp07f3, pp07f4, pp07f5, pp07g1, pp07g2, pp07g3, pp07g4, pp07g_59, pp07h, pp07i, pp07j, pp07k, pp08d1, pp08d4, pp08f1, pp08f2, pp08j1, pp08j2, pp08j3, pp09a, ...]\n",
      "Index: []\n",
      "\n",
      "[0 rows x 176 columns]\n"
     ]
    }
   ],
   "source": [
    "print(df_2004.shape)\n",
    "print(df_2004.head())"
   ]
  },
  {
   "cell_type": "code",
   "execution_count": 301,
   "id": "6484676e-47e5-4153-88de-0ebf8de04af8",
   "metadata": {},
   "outputs": [],
   "source": [
    "import os"
   ]
  },
  {
   "cell_type": "code",
   "execution_count": 303,
   "id": "6fb85b1b-5fde-4f17-977a-006a0c280c3b",
   "metadata": {},
   "outputs": [
    {
     "name": "stdout",
     "output_type": "stream",
     "text": [
      "¿Existe el archivo? True\n",
      "Tamaño del archivo (bytes): 62904413\n"
     ]
    }
   ],
   "source": [
    "ruta = r\"C:\\Users\\Gustavo\\Documents\\GitHub\\BigDataUBA-Grupo26\\TP 2\\usu_individual_T104.dta\\Individual_t104.dta\"\n",
    "print(\"¿Existe el archivo?\", os.path.exists(ruta))\n",
    "print(\"Tamaño del archivo (bytes):\", os.path.getsize(ruta))"
   ]
  },
  {
   "cell_type": "code",
   "execution_count": 305,
   "id": "1920ec07-91cf-434c-b6df-11d052bf7d58",
   "metadata": {},
   "outputs": [
    {
     "name": "stdout",
     "output_type": "stream",
     "text": [
      "Shape: (45289, 176)\n",
      "     CODUSU  nro_hogar componente h15    ano4       trimestre  \\\n",
      "0  125098          1.0        1.0  Sí  2004.0  1er. Trimestre   \n",
      "1  125397          1.0        1.0  Sí  2004.0  1er. Trimestre   \n",
      "2  125515          1.0        1.0  Sí  2004.0  1er. Trimestre   \n",
      "3  125558          1.0        1.0  Sí  2004.0  1er. Trimestre   \n",
      "4  125558          1.0        2.0  Sí  2004.0  1er. Trimestre   \n",
      "\n",
      "              region mas_500              aglomerado  pondera  ... deccfr  \\\n",
      "0  Gran Buenos Aires       S  Ciudad de Buenos Aires   1299.0  ...     07   \n",
      "1  Gran Buenos Aires       S  Ciudad de Buenos Aires   2018.0  ...     00   \n",
      "2  Gran Buenos Aires       S  Ciudad de Buenos Aires   1486.0  ...     07   \n",
      "3  Gran Buenos Aires       S  Ciudad de Buenos Aires   1674.0  ...     08   \n",
      "4  Gran Buenos Aires       S  Ciudad de Buenos Aires   1674.0  ...     08   \n",
      "\n",
      "  ideccfr rdeccfr gdeccfr pdeccfr adeccfr pj1_1 pj2_1 pj3_1 idimpp  \n",
      "0              06      06              04   0.0   0.0   0.0  00000  \n",
      "1              00      00              00   0.0   0.0   0.0  00000  \n",
      "2              07      07              05   0.0   0.0   0.0  00020  \n",
      "3              08      08              06   0.0   0.0   0.0  00000  \n",
      "4              08      08              06   0.0   0.0   0.0  00000  \n",
      "\n",
      "[5 rows x 176 columns]\n",
      "['CODUSU', 'nro_hogar', 'componente', 'h15', 'ano4', 'trimestre', 'region', 'mas_500', 'aglomerado', 'pondera', 'ch03', 'ch04', 'ch06', 'ch07', 'ch08', 'ch09', 'ch10', 'ch11', 'ch12', 'ch13', 'ch14', 'ch15', 'ch15_cod', 'ch16', 'ch16_cod', 'nivel_ed', 'estado', 'cat_ocup', 'cat_inac', 'pp02c1', 'pp02c2', 'pp02c3', 'pp02c4', 'pp02c5', 'pp02c6', 'pp02c7', 'pp02c8', 'pp02e', 'pp02h', 'pp02i', 'pp03c', 'pp03d', 'pp3e_tot', 'pp3f_tot', 'pp03g', 'pp03h', 'pp03i', 'pp03j', 'intensi', 'pp04a', 'pp04b_cod', 'pp04b1', 'pp04b2', 'pp04b3_mes', 'pp04b3_ano', 'pp04b3_dia', 'pp04c', 'pp04c99', 'pp04d_cod', 'pp04g', 'pp05b2_mes', 'pp05b2_ano', 'pp05b2_dia', 'pp05c_1', 'pp05c_2', 'pp05c_3', 'pp05e', 'pp05f', 'pp05h', 'pp06a', 'pp06c', 'pp06d', 'pp06e', 'pp06h', 'pp07a', 'pp07c', 'pp07d', 'pp07e', 'pp07f1', 'pp07f2', 'pp07f3', 'pp07f4', 'pp07f5', 'pp07g1', 'pp07g2', 'pp07g3', 'pp07g4', 'pp07g_59', 'pp07h', 'pp07i', 'pp07j', 'pp07k', 'pp08d1', 'pp08d4', 'pp08f1', 'pp08f2', 'pp08j1', 'pp08j2', 'pp08j3', 'pp09a', 'pp09a_esp', 'pp09b', 'pp09c', 'pp09c_esp', 'pp10a', 'pp10c', 'pp10d', 'pp10e', 'pp11a', 'pp11b_cod', 'pp11b1', 'pp11b2_mes', 'pp11b2_ano', 'pp11b2_dia', 'pp11c', 'pp11c99', 'pp11d_cod', 'pp11g_ano', 'pp11g_mes', 'pp11g_dia', 'pp11l', 'pp11l1', 'pp11m', 'pp11n', 'pp11o', 'pp11p', 'pp11q', 'pp11r', 'pp11s', 'pp11t', 'p21', 'decocur', 'idecocur', 'rdecocur', 'gdecocur', 'pdecocur', 'adecocur', 'tot_p12', 'p47t', 'decindr', 'idecindr', 'rdecindr', 'gdecindr', 'pdecindr', 'adecindr', 'v2_m', 'v3_m', 'v4_m', 'v5_m', 'v8_m', 'v9_m', 'v10_m', 'v11_m', 'v12_m', 'v18_m', 'v19_am', 'v21_m', 't_vi', 'itf', 'decifr', 'idecifr', 'rdecifr', 'gdecifr', 'pdecifr', 'adecifr', 'ipcf', 'deccfr', 'ideccfr', 'rdeccfr', 'gdeccfr', 'pdeccfr', 'adeccfr', 'pj1_1', 'pj2_1', 'pj3_1', 'idimpp']\n"
     ]
    }
   ],
   "source": [
    "import pandas as pd\n",
    "\n",
    "ruta_2004 = r\"C:\\Users\\Gustavo\\Documents\\GitHub\\BigDataUBA-Grupo26\\TP 2\\usu_individual_T104.dta\\Individual_t104.dta\"\n",
    "df_2004 = pd.read_stata(ruta_2004)\n",
    "\n",
    "print(\"Shape:\", df_2004.shape)\n",
    "print(df_2004.head())\n",
    "print(df_2004.columns.tolist())"
   ]
  },
  {
   "cell_type": "code",
   "execution_count": 306,
   "id": "27813d9a-0ab2-4786-b4af-2d8f602c384c",
   "metadata": {},
   "outputs": [],
   "source": [
    "data_2004['ch04'] = data_2004['ch04'].astype(str).str.strip()"
   ]
  },
  {
   "cell_type": "code",
   "execution_count": 309,
   "id": "b1e62148-39eb-49ba-bf00-0a987ba7c520",
   "metadata": {},
   "outputs": [
    {
     "name": "stdout",
     "output_type": "stream",
     "text": [
      "object\n"
     ]
    }
   ],
   "source": [
    "print(data_2004['ch04'].dtype)"
   ]
  },
  {
   "cell_type": "code",
   "execution_count": 311,
   "id": "5d7dbb43-75e6-477d-8901-0a8f54781129",
   "metadata": {},
   "outputs": [
    {
     "name": "stdout",
     "output_type": "stream",
     "text": [
      "Series([], Name: ch04, dtype: object)\n"
     ]
    }
   ],
   "source": [
    "# Convierte la columna a string y elimina espacios en blanco\n",
    "data_2004['ch04'] = data_2004['ch04'].astype(str).str.strip()\n",
    "\n",
    "# Verifica los resultados\n",
    "print(data_2004['ch04'].head(10))"
   ]
  },
  {
   "cell_type": "code",
   "execution_count": 313,
   "id": "41e9a9c8-666f-4710-94c3-00c972027894",
   "metadata": {},
   "outputs": [
    {
     "name": "stdout",
     "output_type": "stream",
     "text": [
      "Index(['ch04', 'ch06', 'ch10', 'ch12', 'estado', 'cat_ocup', 'cat_inac',\n",
      "       'pp3e_tot', 'pp3f_tot', 'pp03g', 'pondera', 'nivel_ed', 'ipcf', 'itf',\n",
      "       'region', 'ano4'],\n",
      "      dtype='object')\n"
     ]
    }
   ],
   "source": [
    "print(data_2004.columns)"
   ]
  },
  {
   "cell_type": "code",
   "execution_count": 315,
   "id": "75ceafde-8d08-4694-bdb9-1afa87534494",
   "metadata": {},
   "outputs": [],
   "source": [
    "data_2004['ch04'] = data_2004['ch04'].replace(['', ' ', None], 'Desconocido')  # Reemplazar valores vacíos o nulos"
   ]
  },
  {
   "cell_type": "code",
   "execution_count": 317,
   "id": "07732d16-b398-4eb4-b950-c643d8310491",
   "metadata": {},
   "outputs": [],
   "source": [
    "data_2004['ch04'] = data_2004['ch04'].astype(str).str.strip()  # Eliminar espacios en blanco"
   ]
  },
  {
   "cell_type": "code",
   "execution_count": 319,
   "id": "e7ba31f0-271a-47a6-adb0-5f96d40c9ba9",
   "metadata": {},
   "outputs": [],
   "source": [
    "data_2004 = pd.read_stata(r\"C:\\Users\\Gustavo\\Documents\\GitHub\\BigDataUBA-Grupo26\\TP 2\\usu_individual_T104.dta\\Individual_t104.dta\")"
   ]
  },
  {
   "cell_type": "code",
   "execution_count": 345,
   "id": "46202977-e830-4af3-9573-6780988ab5b6",
   "metadata": {},
   "outputs": [],
   "source": [
    "# Creamos un diccionario de mapeo\n",
    "sexo_map = {1: 'Varón', 2: 'Mujer'}\n",
    "\n",
    "# Aplicamos el mapeo solo al DataFrame de 2024\n",
    "df_2024[\"ch04\"] = df_2024[\"ch04\"].map(sexo_map)"
   ]
  },
  {
   "cell_type": "code",
   "execution_count": 347,
   "id": "0c86532d-7fba-4a5d-a84e-8ceb05749508",
   "metadata": {},
   "outputs": [],
   "source": [
    "sexo_2004 = df_2004[\"ch04\"].value_counts()\n",
    "sexo_2024 = df_2024[\"ch04\"].value_counts()"
   ]
  },
  {
   "cell_type": "code",
   "execution_count": 349,
   "id": "e2f32655-f89f-49c0-9786-21ac2126e2bd",
   "metadata": {},
   "outputs": [
    {
     "data": {
      "image/png": "[encoded data removed]",
      "text/plain": [
       "<Figure size 640x480 with 1 Axes>"
      ]
     },
     "metadata": {},
     "output_type": "display_data"
    }
   ],
   "source": [
    "df_sexo = pd.DataFrame({\n",
    "    '2004': sexo_2004,\n",
    "    '2024': sexo_2024\n",
    "}).fillna(0).astype(int)\n",
    "\n",
    "df_sexo.plot(kind='bar', color=['blue', 'red'])\n",
    "plt.title(\"Distribución por Sexo en Mar del Plata (2004 vs 2024)\")\n",
    "plt.ylabel(\"Cantidad\")\n",
    "plt.xlabel(\"Sexo\")\n",
    "plt.xticks(rotation=0)\n",
    "plt.legend(title=\"Año\")\n",
    "plt.show()"
   ]
  },
  {
   "cell_type": "code",
   "execution_count": null,
   "id": "f613eef3-b24a-4ff0-9e67-0d5c0067fd12",
   "metadata": {},
   "outputs": [],
   "source": []
  }
 ],
 "metadata": {
  "kernelspec": {
   "display_name": "Python [conda env:base] *",
   "language": "python",
   "name": "conda-base-py"
  },
  "language_info": {
   "codemirror_mode": {
    "name": "ipython",
    "version": 3
   },
   "file_extension": ".py",
   "mimetype": "text/x-python",
   "name": "python",
   "nbconvert_exporter": "python",
   "pygments_lexer": "ipython3",
   "version": "3.12.7"
  }
 },
 "nbformat": 4,
 "nbformat_minor": 5
}

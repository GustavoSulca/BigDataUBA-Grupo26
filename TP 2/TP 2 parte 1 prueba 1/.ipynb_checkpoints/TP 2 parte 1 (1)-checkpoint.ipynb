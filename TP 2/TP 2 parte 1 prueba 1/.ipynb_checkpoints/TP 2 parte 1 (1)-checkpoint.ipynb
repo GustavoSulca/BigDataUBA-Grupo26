{
 "cells": [
  {
   "cell_type": "code",
   "execution_count": 3,
   "id": "998eccfe-8d88-4973-922a-661f2aea8d86",
   "metadata": {},
   "outputs": [],
   "source": [
    "# Primero importamos las librerías que vamos a usar\n",
    "\n",
    "import pandas as pd\n",
    "import numpy as np"
   ]
  },
  {
   "cell_type": "code",
   "execution_count": 5,
   "id": "ab3e049c-2ca0-41da-a660-40adaf0c0ef5",
   "metadata": {},
   "outputs": [],
   "source": [
    "#Parte I: Familiarizandonos con la base EPH y limpieza"
   ]
  },
  {
   "cell_type": "code",
   "execution_count": 7,
   "id": "41167c69-89ac-4d0c-8edb-79393102813f",
   "metadata": {},
   "outputs": [
    {
     "name": "stdout",
     "output_type": "stream",
     "text": [
      "Requirement already satisfied: pandas in c:\\users\\gustavo\\anaconda3\\lib\\site-packages (2.2.3)\n",
      "Requirement already satisfied: xlrd in c:\\users\\gustavo\\anaconda3\\lib\\site-packages (2.0.1)\n",
      "Requirement already satisfied: openpyxl in c:\\users\\gustavo\\anaconda3\\lib\\site-packages (3.1.5)\n",
      "Requirement already satisfied: pyreadstat in c:\\users\\gustavo\\anaconda3\\lib\\site-packages (1.2.8)\n",
      "Requirement already satisfied: numpy>=1.26.0 in c:\\users\\gustavo\\anaconda3\\lib\\site-packages (from pandas) (1.26.4)\n",
      "Requirement already satisfied: python-dateutil>=2.8.2 in c:\\users\\gustavo\\anaconda3\\lib\\site-packages (from pandas) (2.9.0.post0)\n",
      "Requirement already satisfied: pytz>=2020.1 in c:\\users\\gustavo\\anaconda3\\lib\\site-packages (from pandas) (2025.2)\n",
      "Requirement already satisfied: tzdata>=2022.7 in c:\\users\\gustavo\\anaconda3\\lib\\site-packages (from pandas) (2023.3)\n",
      "Requirement already satisfied: et-xmlfile in c:\\users\\gustavo\\anaconda3\\lib\\site-packages (from openpyxl) (1.1.0)\n",
      "Requirement already satisfied: six>=1.5 in c:\\users\\gustavo\\anaconda3\\lib\\site-packages (from python-dateutil>=2.8.2->pandas) (1.16.0)\n",
      "Note: you may need to restart the kernel to use updated packages.\n"
     ]
    }
   ],
   "source": [
    "pip install --upgrade pandas xlrd openpyxl pyreadstat"
   ]
  },
  {
   "cell_type": "code",
   "execution_count": 9,
   "id": "8272bc4b-80bc-44e3-874c-a1e79c2ce37c",
   "metadata": {},
   "outputs": [],
   "source": [
    "# Cargo los archivos de las bases de datos con la ruta completa\n",
    "\n",
    "# base del 2004 que está en formato .dta (de Stata)\n",
    "df_2004 = pd.read_stata(r\"C:\\Users\\Gustavo\\Documents\\GitHub\\BigDataUBA-Grupo26\\TP 2\\usu_individual_T104.dta\\Individual_t104.dta\")\n",
    "\n",
    "# base del 2024 que está en Excel\n",
    "df_2024 = pd.read_excel(r\"C:\\Users\\Gustavo\\Documents\\GitHub\\BigDataUBA-Grupo26\\TP 2\\EPH_usu_1er_Trim_2024_xlsx\\usu_individual_T124.xlsx\")"
   ]
  },
  {
   "cell_type": "code",
   "execution_count": 10,
   "id": "6c2cc5c6-d5f8-476b-966f-3503dea10ad6",
   "metadata": {},
   "outputs": [],
   "source": [
    "df_2004.columns = df_2004.columns.str.lower()\n",
    "df_2024.columns = df_2024.columns.str.lower()"
   ]
  },
  {
   "cell_type": "code",
   "execution_count": 11,
   "id": "aecf7646-0bf5-4f1e-b0e8-6eef2cd79d64",
   "metadata": {},
   "outputs": [],
   "source": [
    "# Me aseguro de que ambas bases tengan la columna 'ano4' con el año correcto\n",
    "\n",
    "df_2004[\"ano4\"] = 2004\n",
    "df_2024[\"ano4\"] = 2024"
   ]
  },
  {
   "cell_type": "code",
   "execution_count": 12,
   "id": "e27d30dd-45bd-47d5-903d-8c25a79b0484",
   "metadata": {},
   "outputs": [],
   "source": [
    "df = pd.concat([df_2004, df_2024], ignore_index=True)"
   ]
  },
  {
   "cell_type": "code",
   "execution_count": 13,
   "id": "5b77a1c1-89a2-439d-8c18-5449cccabade",
   "metadata": {},
   "outputs": [
    {
     "name": "stdout",
     "output_type": "stream",
     "text": [
      "ano4\n",
      "2024    46050\n",
      "2004    45289\n",
      "Name: count, dtype: int64\n"
     ]
    }
   ],
   "source": [
    "print(df[\"ano4\"].value_counts())"
   ]
  },
  {
   "cell_type": "code",
   "execution_count": 19,
   "id": "4bf3c07d-9ffa-4213-bcb3-d3147bcab287",
   "metadata": {},
   "outputs": [
    {
     "name": "stdout",
     "output_type": "stream",
     "text": [
      "Columnas de la base 2004:\n",
      "['codusu', 'nro_hogar', 'componente', 'h15', 'ano4', 'trimestre', 'region', 'mas_500', 'aglomerado', 'pondera', 'ch03', 'ch04', 'ch06', 'ch07', 'ch08', 'ch09', 'ch10', 'ch11', 'ch12', 'ch13', 'ch14', 'ch15', 'ch15_cod', 'ch16', 'ch16_cod', 'nivel_ed', 'estado', 'cat_ocup', 'cat_inac', 'pp02c1', 'pp02c2', 'pp02c3', 'pp02c4', 'pp02c5', 'pp02c6', 'pp02c7', 'pp02c8', 'pp02e', 'pp02h', 'pp02i', 'pp03c', 'pp03d', 'pp3e_tot', 'pp3f_tot', 'pp03g', 'pp03h', 'pp03i', 'pp03j', 'intensi', 'pp04a', 'pp04b_cod', 'pp04b1', 'pp04b2', 'pp04b3_mes', 'pp04b3_ano', 'pp04b3_dia', 'pp04c', 'pp04c99', 'pp04d_cod', 'pp04g', 'pp05b2_mes', 'pp05b2_ano', 'pp05b2_dia', 'pp05c_1', 'pp05c_2', 'pp05c_3', 'pp05e', 'pp05f', 'pp05h', 'pp06a', 'pp06c', 'pp06d', 'pp06e', 'pp06h', 'pp07a', 'pp07c', 'pp07d', 'pp07e', 'pp07f1', 'pp07f2', 'pp07f3', 'pp07f4', 'pp07f5', 'pp07g1', 'pp07g2', 'pp07g3', 'pp07g4', 'pp07g_59', 'pp07h', 'pp07i', 'pp07j', 'pp07k', 'pp08d1', 'pp08d4', 'pp08f1', 'pp08f2', 'pp08j1', 'pp08j2', 'pp08j3', 'pp09a', 'pp09a_esp', 'pp09b', 'pp09c', 'pp09c_esp', 'pp10a', 'pp10c', 'pp10d', 'pp10e', 'pp11a', 'pp11b_cod', 'pp11b1', 'pp11b2_mes', 'pp11b2_ano', 'pp11b2_dia', 'pp11c', 'pp11c99', 'pp11d_cod', 'pp11g_ano', 'pp11g_mes', 'pp11g_dia', 'pp11l', 'pp11l1', 'pp11m', 'pp11n', 'pp11o', 'pp11p', 'pp11q', 'pp11r', 'pp11s', 'pp11t', 'p21', 'decocur', 'idecocur', 'rdecocur', 'gdecocur', 'pdecocur', 'adecocur', 'tot_p12', 'p47t', 'decindr', 'idecindr', 'rdecindr', 'gdecindr', 'pdecindr', 'adecindr', 'v2_m', 'v3_m', 'v4_m', 'v5_m', 'v8_m', 'v9_m', 'v10_m', 'v11_m', 'v12_m', 'v18_m', 'v19_am', 'v21_m', 't_vi', 'itf', 'decifr', 'idecifr', 'rdecifr', 'gdecifr', 'pdecifr', 'adecifr', 'ipcf', 'deccfr', 'ideccfr', 'rdeccfr', 'gdeccfr', 'pdeccfr', 'adeccfr', 'pj1_1', 'pj2_1', 'pj3_1', 'idimpp']\n",
      "\n",
      "Columnas de la base 2024:\n",
      "['codusu', 'ano4', 'trimestre', 'nro_hogar', 'componente', 'h15', 'region', 'mas_500', 'aglomerado', 'pondera', 'ch03', 'ch04', 'ch05', 'ch06', 'ch07', 'ch08', 'ch09', 'ch10', 'ch11', 'ch12', 'ch13', 'ch14', 'ch15', 'ch15_cod', 'ch16', 'ch16_cod', 'nivel_ed', 'estado', 'cat_ocup', 'cat_inac', 'imputa', 'pp02c1', 'pp02c2', 'pp02c3', 'pp02c4', 'pp02c5', 'pp02c6', 'pp02c7', 'pp02c8', 'pp02e', 'pp02h', 'pp02i', 'pp03c', 'pp03d', 'pp3e_tot', 'pp3f_tot', 'pp03g', 'pp03h', 'pp03i', 'pp03j', 'intensi', 'pp04a', 'pp04b_cod', 'pp04b1', 'pp04b2', 'pp04b3_mes', 'pp04b3_ano', 'pp04b3_dia', 'pp04c', 'pp04c99', 'pp04d_cod', 'pp04g', 'pp05b2_mes', 'pp05b2_ano', 'pp05b2_dia', 'pp05c_1', 'pp05c_2', 'pp05c_3', 'pp05e', 'pp05f', 'pp05h', 'pp06a', 'pp06c', 'pp06d', 'pp06e', 'pp06h', 'pp07a', 'pp07c', 'pp07d', 'pp07e', 'pp07f1', 'pp07f2', 'pp07f3', 'pp07f4', 'pp07f5', 'pp07g1', 'pp07g2', 'pp07g3', 'pp07g4', 'pp07g_59', 'pp07h', 'pp07i', 'pp07j', 'pp07k', 'pp08d1', 'pp08d4', 'pp08f1', 'pp08f2', 'pp08j1', 'pp08j2', 'pp08j3', 'pp09a', 'pp09a_esp', 'pp09b', 'pp09c', 'pp09c_esp', 'pp10a', 'pp10c', 'pp10d', 'pp10e', 'pp11a', 'pp11b_cod', 'pp11b1', 'pp11b2_mes', 'pp11b2_ano', 'pp11b2_dia', 'pp11c', 'pp11c99', 'pp11d_cod', 'pp11g_ano', 'pp11g_mes', 'pp11g_dia', 'pp11l', 'pp11l1', 'pp11m', 'pp11n', 'pp11o', 'pp11p', 'pp11q', 'pp11r', 'pp11s', 'pp11t', 'p21', 'decocur', 'idecocur', 'rdecocur', 'gdecocur', 'pdecocur', 'adecocur', 'pondiio', 'tot_p12', 'p47t', 'decindr', 'idecindr', 'rdecindr', 'gdecindr', 'pdecindr', 'adecindr', 'pondii', 'v2_m', 'v3_m', 'v4_m', 'v5_m', 'v8_m', 'v9_m', 'v10_m', 'v11_m', 'v12_m', 'v18_m', 'v19_am', 'v21_m', 't_vi', 'itf', 'decifr', 'idecifr', 'rdecifr', 'gdecifr', 'pdecifr', 'adecifr', 'ipcf', 'deccfr', 'ideccfr', 'rdeccfr', 'gdeccfr', 'pdeccfr', 'adeccfr', 'pondih']\n"
     ]
    }
   ],
   "source": [
    "# Veo qué columnas tienen cada base para identificar cómo se llama \"AGLOMERADO\"\n",
    "print(\"Columnas de la base 2004:\")\n",
    "print(df_2004.columns.tolist())\n",
    "\n",
    "print(\"\\nColumnas de la base 2024:\")\n",
    "print(df_2024.columns.tolist())\n"
   ]
  },
  {
   "cell_type": "code",
   "execution_count": 21,
   "id": "3c463b3d-8373-4e25-b245-d86aa183d8bd",
   "metadata": {},
   "outputs": [],
   "source": [
    "# Filtro por la región de Mar del Plata\n",
    "\n",
    "# Según la variable AGLOMERADO, el código 34 corresponde a Mar del Plata\n",
    "# Me quedo solo con las personas de esa región\n",
    "\n",
    "df_2004 = df_2004[df_2004[\"aglomerado\"] == 34].copy()\n",
    "df_2024 = df_2024[df_2024[\"aglomerado\"] == 34].copy()\n"
   ]
  },
  {
   "cell_type": "code",
   "execution_count": 23,
   "id": "a20d5e21-be57-4563-bd30-83071049278b",
   "metadata": {},
   "outputs": [],
   "source": [
    "# Le agrego una columna para saber de qué año es cada fila\n",
    "\n",
    "df_2004[\"ano4\"] = 2004\n",
    "df_2024[\"ano4\"] = 2024\n"
   ]
  },
  {
   "cell_type": "code",
   "execution_count": 25,
   "id": "a300ed43-2c0c-483a-86c6-0289ff360339",
   "metadata": {},
   "outputs": [
    {
     "name": "stderr",
     "output_type": "stream",
     "text": [
      "C:\\Users\\Gustavo\\AppData\\Local\\Temp\\ipykernel_20756\\3237440424.py:3: FutureWarning: The behavior of DataFrame concatenation with empty or all-NA entries is deprecated. In a future version, this will no longer exclude empty or all-NA columns when determining the result dtypes. To retain the old behavior, exclude the relevant entries before the concat operation.\n",
      "  df = pd.concat([df_2004, df_2024], ignore_index=True)\n"
     ]
    }
   ],
   "source": [
    "# Junto las dos bases en una sola (como si pegara hojas de Excel una abajo de la otra)\n",
    "\n",
    "df = pd.concat([df_2004, df_2024], ignore_index=True)\n"
   ]
  },
  {
   "cell_type": "code",
   "execution_count": 27,
   "id": "1f36fe79-64ec-4524-b535-328e99b412eb",
   "metadata": {},
   "outputs": [
    {
     "name": "stdout",
     "output_type": "stream",
     "text": [
      "Columnas vacías en df_2004:\n",
      "codusu        True\n",
      "nro_hogar     True\n",
      "componente    True\n",
      "h15           True\n",
      "ano4          True\n",
      "              ... \n",
      "adeccfr       True\n",
      "pj1_1         True\n",
      "pj2_1         True\n",
      "pj3_1         True\n",
      "idimpp        True\n",
      "Length: 176, dtype: bool\n",
      "\n",
      "Columnas vacías en df_2024:\n",
      "codusu        False\n",
      "ano4          False\n",
      "trimestre     False\n",
      "nro_hogar     False\n",
      "componente    False\n",
      "              ...  \n",
      "rdeccfr       False\n",
      "gdeccfr       False\n",
      "pdeccfr        True\n",
      "adeccfr       False\n",
      "pondih        False\n",
      "Length: 177, dtype: bool\n"
     ]
    }
   ],
   "source": [
    "print(\"Columnas vacías en df_2004:\")\n",
    "print(df_2004.isna().all())\n",
    "\n",
    "print(\"\\nColumnas vacías en df_2024:\")\n",
    "print(df_2024.isna().all())"
   ]
  },
  {
   "cell_type": "code",
   "execution_count": 29,
   "id": "77cb4d2f-0609-4ef0-b1b4-390450916342",
   "metadata": {},
   "outputs": [
    {
     "name": "stdout",
     "output_type": "stream",
     "text": [
      "\n",
      "Columnas en df_2004:\n",
      "{'v8_m', 'idecifr', 'pp08f1', 'pp08j3', 'pp11t', 'pp07g_59', 'pp11a', 'pj3_1', 'componente', 'p47t', 'ch15_cod', 'pp07g4', 'pp05f', 'pp06e', 'pp08d4', 'v4_m', 'pp09a_esp', 'pp02c4', 'pp07i', 'pp10e', 'pp07h', 'pp04b_cod', 'pp11b2_mes', 'ch03', 'pp03j', 'pp09c', 'v5_m', 'v10_m', 'pp02c2', 'pp11c99', 'ch16_cod', 'v18_m', 'ch09', 'pondera', 'pp11s', 'pdecocur', 'pp03g', 'pp11l', 'pp05c_2', 'pp03c', 'pp06c', 'pp05b2_ano', 'pp11g_mes', 'ano4', 'pp11m', 'pp04b3_mes', 'pp07c', 'region', 'v11_m', 'pdecifr', 'pp10d', 'adecindr', 'pp07f2', 'cat_inac', 'pp11c', 'v2_m', 'mas_500', 'decindr', 'gdeccfr', 'pp09c_esp', 'pp02c6', 'pp04b2', 'ch15', 'adecifr', 'pp05b2_dia', 'gdecocur', 'pp07g2', 'ch10', 'pp07g3', 'pp02c1', 'pp11b_cod', 'ch13', 'pp11q', 'ch06', 'tot_p12', 'pp3f_tot', 'pp02c5', 'pp07d', 'pp02h', 'pp04b3_dia', 'ch11', 'pp02c7', 'pp05c_1', 'v21_m', 'ch04', 'trimestre', 'pp08d1', 'idecindr', 'nro_hogar', 'pp03h', 'adeccfr', 'adecocur', 'nivel_ed', 'pp04d_cod', 'rdecindr', 'v3_m', 'ch08', 'pp04b1', 'ch16', 'pp11r', 'pp10c', 'pp02c8', 'v19_am', 'decocur', 'pp11g_ano', 'pp11o', 'ch12', 'pp05c_3', 'pp04g', 'deccfr', 'pp09b', 'pp11l1', 'p21', 'pdecindr', 'rdecifr', 'pp05e', 'pp08j2', 'pp06d', 'pp07f5', 'itf', 'pp07j', 'pp05h', 'pp11p', 'pp04a', 'pp04c99', 'ideccfr', 'pp09a', 'pp11b2_ano', 'v9_m', 'pp11d_cod', 'pp07k', 'aglomerado', 'rdecocur', 'pp11b1', 'ch07', 'pp11n', 'gdecifr', 'pp08j1', 'pp11g_dia', 't_vi', 'pp05b2_mes', 'pp07g1', 'estado', 'idimpp', 'pp04c', 'pp10a', 'pdeccfr', 'rdeccfr', 'v12_m', 'decifr', 'pp07e', 'pp07f1', 'intensi', 'pp06a', 'pp02c3', 'pp08f2', 'pp02i', 'pp3e_tot', 'pp04b3_ano', 'pp11b2_dia', 'pp03i', 'gdecindr', 'pj1_1', 'h15', 'pp07a', 'idecocur', 'pp03d', 'pp06h', 'pp07f3', 'pp02e', 'ch14', 'codusu', 'ipcf', 'cat_ocup', 'pj2_1', 'pp07f4'}\n",
      "\n",
      "Columnas en df_2024:\n",
      "{'v8_m', 'idecifr', 'pp08f1', 'pp08j3', 'pp11t', 'pp07g_59', 'pp11a', 'componente', 'p47t', 'ch15_cod', 'pp07g4', 'pp05f', 'pp06e', 'pp08d4', 'v4_m', 'pp09a_esp', 'pp02c4', 'pp07i', 'pp10e', 'pp07h', 'pp04b_cod', 'pp11b2_mes', 'ch03', 'pp03j', 'pp09c', 'v5_m', 'v10_m', 'pp02c2', 'pp11c99', 'ch16_cod', 'v18_m', 'ch09', 'pondera', 'pp11s', 'pdecocur', 'pp03g', 'pp11l', 'pp05c_2', 'pp03c', 'pp06c', 'pp05b2_ano', 'pp11g_mes', 'ano4', 'pp11m', 'pp04b3_mes', 'region', 'pp07c', 'v11_m', 'pdecifr', 'pondiio', 'pp10d', 'adecindr', 'pp07f2', 'cat_inac', 'pp11c', 'v2_m', 'mas_500', 'decindr', 'gdeccfr', 'pp09c_esp', 'pp02c6', 'pp04b2', 'ch15', 'adecifr', 'pp05b2_dia', 'gdecocur', 'pp07g2', 'ch10', 'pp07g3', 'pp02c1', 'pp11b_cod', 'ch13', 'pp11q', 'ch06', 'tot_p12', 'pp3f_tot', 'pp02c5', 'ch05', 'pp07d', 'pp02h', 'pp04b3_dia', 'ch11', 'pp02c7', 'pp05c_1', 'v21_m', 'ch04', 'trimestre', 'pp08d1', 'idecindr', 'nro_hogar', 'pp03h', 'adeccfr', 'adecocur', 'nivel_ed', 'pp04d_cod', 'rdecindr', 'v3_m', 'ch08', 'pp04b1', 'ch16', 'pp11r', 'pp10c', 'pp02c8', 'v19_am', 'decocur', 'pp11g_ano', 'pp11o', 'ch12', 'pp05c_3', 'pp04g', 'deccfr', 'pp09b', 'pp11l1', 'p21', 'pdecindr', 'rdecifr', 'pp05e', 'pp08j2', 'pp06d', 'pp07f5', 'itf', 'pp07j', 'pp05h', 'pp11p', 'pp04a', 'pp04c99', 'ideccfr', 'pp09a', 'pp11b2_ano', 'v9_m', 'pp11d_cod', 'pp07k', 'aglomerado', 'rdecocur', 'pp11b1', 'ch07', 'pp11n', 'gdecifr', 'pp08j1', 'imputa', 'pp11g_dia', 't_vi', 'pp05b2_mes', 'pp07g1', 'estado', 'pp04c', 'pp10a', 'pdeccfr', 'rdeccfr', 'v12_m', 'decifr', 'pondii', 'pp07e', 'pp07f1', 'intensi', 'pp06a', 'pp02c3', 'pp08f2', 'pp02i', 'pp3e_tot', 'pp04b3_ano', 'pp11b2_dia', 'pp03i', 'gdecindr', 'h15', 'pp07a', 'pondih', 'idecocur', 'pp03d', 'pp06h', 'pp07f3', 'pp02e', 'ch14', 'codusu', 'ipcf', 'cat_ocup', 'pp07f4'}\n"
     ]
    }
   ],
   "source": [
    "print(\"\\nColumnas en df_2004:\")\n",
    "print(set(df_2004.columns))\n",
    "\n",
    "print(\"\\nColumnas en df_2024:\")\n",
    "print(set(df_2024.columns))"
   ]
  },
  {
   "cell_type": "code",
   "execution_count": 31,
   "id": "9a65bfb4-47ff-4d81-8935-44c10dbbe5cc",
   "metadata": {},
   "outputs": [],
   "source": [
    "# Eliminar columnas totalmente vacías\n",
    "df_2004_clean = df_2004.dropna(axis=1, how='all')\n",
    "df_2024_clean = df_2024.dropna(axis=1, how='all')\n",
    "\n",
    "# Luego concatenás\n",
    "df = pd.concat([df_2004_clean, df_2024_clean], ignore_index=True)"
   ]
  },
  {
   "cell_type": "code",
   "execution_count": 33,
   "id": "b59aeed9-b1c8-42be-877f-437d317dffe8",
   "metadata": {},
   "outputs": [],
   "source": [
    "# Elijo 15 variables que me interesan para el análisis\n",
    "# Estas variables tienen info sobre edad, sexo, actividad laboral, educación e ingresos\n",
    "# (los cuales están desarrolladas los pdf de diseño de registro y estructura)\n",
    "\n",
    "vars_interes = [\n",
    "    \"CH04\",        # Sexo\n",
    "    \"CH06\",        # Edad\n",
    "    \"CH10\",        # Si asiste o asistió a un establecimiento educativo\n",
    "    \"CH12\",        # Nivel educativo alcanzado\n",
    "    \"ESTADO\",      # Condición de actividad (ocupado, desocupado, etc.)\n",
    "    \"CAT_OCUP\",    # Tipo de ocupación (si trabaja)\n",
    "    \"CAT_INAC\",    # Tipo de inactividad (si no trabaja)\n",
    "    \"PP3E_TOT\",    # Horas trabajadas en su ocupación principal\n",
    "    \"PP3F_TOT\",    # Horas trabajadas en otras ocupaciones\n",
    "    \"PP03G\",       # Si quiere trabajar más horas\n",
    "    \"PONDERA\",     # Factor de expansión (cuánto representa esa persona)\n",
    "    \"NIVEL_ED\",    # Nivel educativo resumido\n",
    "    \"IPCF\",        # Ingreso per cápita familiar\n",
    "    \"ITF\",         # Ingreso total del hogar\n",
    "    \"REGION\"       # Región (por si se necesita más adelante)\n",
    "]\n"
   ]
  },
  {
   "cell_type": "code",
   "execution_count": 35,
   "id": "83ea0266-479b-485f-adbd-5d1352326a86",
   "metadata": {},
   "outputs": [],
   "source": [
    "# Me quedo solo con las columnas que me interesan\n",
    "vars_interes = [col.lower() for col in vars_interes]\n",
    "df = df[vars_interes + [\"ano4\"]]"
   ]
  },
  {
   "cell_type": "code",
   "execution_count": 37,
   "id": "19e097dd-b5a1-4293-bebf-1affe6e9a25c",
   "metadata": {
    "scrolled": true
   },
   "outputs": [
    {
     "name": "stdout",
     "output_type": "stream",
     "text": [
      "Valores faltantes por año:\n",
      "ano4      2024\n",
      "ch04         0\n",
      "ch06         0\n",
      "ch10         0\n",
      "ch12         0\n",
      "estado       0\n",
      "cat_ocup     0\n",
      "cat_inac     0\n",
      "pp3e_tot   493\n",
      "pp3f_tot   493\n",
      "pp03g      493\n",
      "pondera      0\n",
      "nivel_ed     0\n",
      "ipcf         0\n",
      "itf          0\n",
      "region       0\n",
      "ano4         0\n",
      "Limpieza completada. El archivo se guardó como 'EPH_MardelPlata_2004_2024_limpio.csv'\n"
     ]
    },
    {
     "name": "stderr",
     "output_type": "stream",
     "text": [
      "C:\\Users\\Gustavo\\AppData\\Local\\Temp\\ipykernel_20756\\2410578329.py:4: DeprecationWarning: DataFrameGroupBy.apply operated on the grouping columns. This behavior is deprecated, and in a future version of pandas the grouping columns will be excluded from the operation. Either pass `include_groups=False` to exclude the groupings or explicitly select the grouping columns after groupby to silence this warning.\n",
      "  faltantes = df.groupby(\"ano4\").apply(lambda x: x.isna().sum()).T\n"
     ]
    }
   ],
   "source": [
    "# --- CUENTO CUÁNTOS VALORES FALTANTES HAY EN CADA VARIABLE POR AÑO ---\n",
    "\n",
    "# Esto me genera una tabla con la cantidad de \"NA\" por cada variable, separado por año\n",
    "faltantes = df.groupby(\"ano4\").apply(lambda x: x.isna().sum()).T\n",
    "# Muestro esa tabla\n",
    "print(\"Valores faltantes por año:\")\n",
    "print(faltantes)\n",
    "\n",
    "# --- LIMPIO VALORES QUE NO TIENEN SENTIDO ---\n",
    "\n",
    "# Por ejemplo: si los ingresos son negativos o son 9999999 (que es una forma de decir \"no respondió\")\n",
    "# los paso a NA para que no molesten\n",
    "\n",
    "for var in [\"ipcf\", \"itf\"]:\n",
    "    df.loc[df[var] < 0, var] = np.nan\n",
    "    df.loc[df[var] >= 9999999, var] = np.nan\n",
    "\n",
    "# --- GUARDO LA BASE LIMPIA PARA USAR MÁS ADELANTE ---\n",
    "\n",
    "# Me genero un archivo .csv que puedo abrir después o usar para gráficos, análisis, etc.\n",
    "df.to_csv(\"EPH_MardelPlata_2004_2024_limpio.csv\", index=False)\n",
    "\n",
    "\n",
    "print(\"Limpieza completada. El archivo se guardó como 'EPH_MardelPlata_2004_2024_limpio.csv'\")\n"
   ]
  },
  {
   "cell_type": "code",
   "execution_count": 39,
   "id": "f1ed6b70-7cfe-498e-a465-aa7ae52eeaf7",
   "metadata": {},
   "outputs": [],
   "source": [
    "#Parte II: Primer Análisis Exploratorio"
   ]
  },
  {
   "cell_type": "code",
   "execution_count": 40,
   "id": "4db2a88d-15c2-4a9c-8249-9ebd60b06637",
   "metadata": {},
   "outputs": [],
   "source": [
    "import matplotlib.pyplot as plt\n",
    "import seaborn as sns"
   ]
  },
  {
   "cell_type": "code",
   "execution_count": 43,
   "id": "72d53bf9-230b-4320-85a2-648b80a1517b",
   "metadata": {},
   "outputs": [],
   "source": [
    "# --- FILTRO LA BASE PARA QUEDARME CON LOS DATOS DE 2004 Y 2024 ---\n",
    "\n",
    "# Creo dos nuevos DataFrames: uno solo con los datos del año 2004 y otro con los de 2024.\n",
    "# Esto me permite comparar variables entre esos dos años.\n",
    "data_2004 = df[df['ano4'] == 2004]\n",
    "data_2024 = df[df['ano4'] == 2024]\n"
   ]
  },
  {
   "cell_type": "code",
   "execution_count": 45,
   "id": "78920140-6c0b-4bfe-9636-b25fd25cb92e",
   "metadata": {},
   "outputs": [
    {
     "name": "stdout",
     "output_type": "stream",
     "text": [
      "Distribución de sexo en 2004:\n",
      "Series([], Name: count, dtype: int64)\n",
      "\n",
      "Distribución de sexo en 2024:\n",
      "ch04\n",
      "2    506\n",
      "1    465\n",
      "Name: count, dtype: int64\n"
     ]
    }
   ],
   "source": [
    "# Filtro y me aseguro de que las variables de sexo estén bien codificadas (normalmente 'sexo' es 1 para hombres y 2 para mujeres)\n",
    "# Filtra los datos por región si es necesario\n",
    "\n",
    "# Contar la cantidad de hombres y mujeres en cada año\n",
    "sexo_2004 = data_2004['ch04'].value_counts()\n",
    "sexo_2024 = data_2024['ch04'].value_counts()\n",
    "\n",
    "# Mostrar los resultados\n",
    "print(\"Distribución de sexo en 2004:\")\n",
    "print(sexo_2004)\n",
    "\n",
    "print(\"\\nDistribución de sexo en 2024:\")\n",
    "print(sexo_2024)"
   ]
  },
  {
   "cell_type": "code",
   "execution_count": 47,
   "id": "79ba8a98-2054-44ff-8532-dacb576e2ef8",
   "metadata": {},
   "outputs": [
    {
     "name": "stdout",
     "output_type": "stream",
     "text": [
      "Sexo 2004:\n",
      " Series([], Name: count, dtype: int64)\n",
      "Sexo 2024:\n",
      " ch04\n",
      "2    506\n",
      "1    465\n",
      "Name: count, dtype: int64\n",
      "No hay datos para el año 2004.\n"
     ]
    }
   ],
   "source": [
    "# Primero, verifica los datos del año 2004 y 2024\n",
    "# Asegurémonos de que los datos de 2004 están en el dataframe\n",
    "sexo_2004 = data_2004['ch04'].value_counts()  # 'ch04' representa el sexo en los datos de 2004\n",
    "sexo_2024 = data_2024['ch04'].value_counts()  # 'ch04' representa el sexo en los datos de 2024\n",
    "\n",
    "print(\"Sexo 2004:\\n\", sexo_2004)\n",
    "print(\"Sexo 2024:\\n\", sexo_2024)\n",
    "\n",
    "# Comprobamos si sexo_2004 tiene datos\n",
    "if sexo_2004.empty:\n",
    "    print(\"No hay datos para el año 2004.\")\n",
    "else:\n",
    "    # Combinamos los datos en un DataFrame si ambos años tienen datos\n",
    "    sexo_combinado = pd.DataFrame({\n",
    "        'Sexo': list(sexo_2004.index) + list(sexo_2024.index),  # Concatenamos los índices de los dos años\n",
    "        'Cantidad': list(sexo_2004.values) + list(sexo_2024.values),  # Concatenamos los valores\n",
    "        'Año': ['2004'] * len(sexo_2004) + ['2024'] * len(sexo_2024)  # Añadimos la columna 'Año' con el valor correspondiente\n",
    "    })\n",
    "\n",
    "    print(\"Datos combinados:\\n\", sexo_combinado)\n",
    "\n",
    "    # Graficamos los resultados\n",
    "    plt.figure(figsize=(10,6))\n",
    "    sns.barplot(x='Sexo', y='Cantidad', hue='Año', data=sexo_combinado, palette={\"2004\": \"blue\", \"2024\": \"red\"})\n",
    "\n",
    "    # Agregamos etiquetas y título\n",
    "    plt.title('Distribución de Sexo por Año (2004 vs 2024)')\n",
    "    plt.xlabel('Sexo')\n",
    "    plt.ylabel('Cantidad')\n",
    "    plt.legend(title='Año')\n",
    "\n",
    "    # Mostramos la gráfica\n",
    "    plt.show()"
   ]
  },
  {
   "cell_type": "code",
   "execution_count": null,
   "id": "6ad84e40-e049-4ed4-853b-0316e52cd197",
   "metadata": {},
   "outputs": [],
   "source": []
  },
  {
   "cell_type": "code",
   "execution_count": null,
   "id": "5cc5b01f-467f-44af-924e-01532546ebad",
   "metadata": {},
   "outputs": [],
   "source": []
  }
 ],
 "metadata": {
  "kernelspec": {
   "display_name": "Python [conda env:base] *",
   "language": "python",
   "name": "conda-base-py"
  },
  "language_info": {
   "codemirror_mode": {
    "name": "ipython",
    "version": 3
   },
   "file_extension": ".py",
   "mimetype": "text/x-python",
   "name": "python",
   "nbconvert_exporter": "python",
   "pygments_lexer": "ipython3",
   "version": "3.12.7"
  }
 },
 "nbformat": 4,
 "nbformat_minor": 5
}

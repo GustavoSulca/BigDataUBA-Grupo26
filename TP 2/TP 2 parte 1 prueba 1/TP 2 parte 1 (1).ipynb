{
 "cells": [
  {
   "cell_type": "code",
   "execution_count": 5,
   "id": "998eccfe-8d88-4973-922a-661f2aea8d86",
   "metadata": {},
   "outputs": [],
   "source": [
    "# Primero importamos las librerías que vamos a usar\n",
    "\n",
    "import pandas as pd\n",
    "import numpy as np"
   ]
  },
  {
   "cell_type": "code",
   "execution_count": 7,
   "id": "ab3e049c-2ca0-41da-a660-40adaf0c0ef5",
   "metadata": {},
   "outputs": [],
   "source": [
    "#Parte I: Familiarizandonos con la base EPH y limpieza"
   ]
  },
  {
   "cell_type": "code",
   "execution_count": 9,
   "id": "41167c69-89ac-4d0c-8edb-79393102813f",
   "metadata": {},
   "outputs": [
    {
     "name": "stdout",
     "output_type": "stream",
     "text": [
      "Requirement already satisfied: pandas in c:\\users\\gustavo\\anaconda3\\lib\\site-packages (2.2.3)\n",
      "Requirement already satisfied: xlrd in c:\\users\\gustavo\\anaconda3\\lib\\site-packages (2.0.1)\n",
      "Requirement already satisfied: openpyxl in c:\\users\\gustavo\\anaconda3\\lib\\site-packages (3.1.5)\n",
      "Requirement already satisfied: pyreadstat in c:\\users\\gustavo\\anaconda3\\lib\\site-packages (1.2.8)\n",
      "Requirement already satisfied: numpy>=1.26.0 in c:\\users\\gustavo\\anaconda3\\lib\\site-packages (from pandas) (1.26.4)\n",
      "Requirement already satisfied: python-dateutil>=2.8.2 in c:\\users\\gustavo\\anaconda3\\lib\\site-packages (from pandas) (2.9.0.post0)\n",
      "Requirement already satisfied: pytz>=2020.1 in c:\\users\\gustavo\\anaconda3\\lib\\site-packages (from pandas) (2025.2)\n",
      "Requirement already satisfied: tzdata>=2022.7 in c:\\users\\gustavo\\anaconda3\\lib\\site-packages (from pandas) (2023.3)\n",
      "Requirement already satisfied: et-xmlfile in c:\\users\\gustavo\\anaconda3\\lib\\site-packages (from openpyxl) (1.1.0)\n",
      "Requirement already satisfied: six>=1.5 in c:\\users\\gustavo\\anaconda3\\lib\\site-packages (from python-dateutil>=2.8.2->pandas) (1.16.0)\n",
      "Note: you may need to restart the kernel to use updated packages.\n"
     ]
    }
   ],
   "source": [
    "pip install --upgrade pandas xlrd openpyxl pyreadstat"
   ]
  },
  {
   "cell_type": "code",
   "execution_count": 33,
   "id": "8272bc4b-80bc-44e3-874c-a1e79c2ce37c",
   "metadata": {},
   "outputs": [],
   "source": [
    "# Cargo los archivos de las bases de datos con la ruta completa\n",
    "\n",
    "# base del 2004 que está en formato .dta (de Stata)\n",
    "df_2004 = pd.read_stata(r\"C:\\Users\\Gustavo\\Documents\\GitHub\\BigDataUBA-Grupo26\\TP 2\\EPH\\Individual_t104.dta\")\n",
    "\n",
    "# base del 2024 que está en Excel\n",
    "df_2024 = pd.read_excel(r\"C:\\Users\\Gustavo\\Documents\\GitHub\\BigDataUBA-Grupo26\\TP 2\\EPH\\usu_individual_T124.xlsx\")"
   ]
  },
  {
   "cell_type": "code",
   "execution_count": 35,
   "id": "6c2cc5c6-d5f8-476b-966f-3503dea10ad6",
   "metadata": {},
   "outputs": [],
   "source": [
    "df_2004.columns = df_2004.columns.str.lower()\n",
    "df_2024.columns = df_2024.columns.str.lower()"
   ]
  },
  {
   "cell_type": "code",
   "execution_count": 37,
   "id": "aecf7646-0bf5-4f1e-b0e8-6eef2cd79d64",
   "metadata": {},
   "outputs": [],
   "source": [
    "# Me aseguro de que ambas bases tengan la columna 'ano4' con el año correcto\n",
    "\n",
    "df_2004[\"ano4\"] = 2004\n",
    "df_2024[\"ano4\"] = 2024"
   ]
  },
  {
   "cell_type": "code",
   "execution_count": 39,
   "id": "e27d30dd-45bd-47d5-903d-8c25a79b0484",
   "metadata": {},
   "outputs": [],
   "source": [
    "df = pd.concat([df_2004, df_2024], ignore_index=True)"
   ]
  },
  {
   "cell_type": "code",
   "execution_count": 41,
   "id": "5b77a1c1-89a2-439d-8c18-5449cccabade",
   "metadata": {},
   "outputs": [
    {
     "name": "stdout",
     "output_type": "stream",
     "text": [
      "ano4\n",
      "2024    46050\n",
      "2004    45289\n",
      "Name: count, dtype: int64\n"
     ]
    }
   ],
   "source": [
    "print(df[\"ano4\"].value_counts())"
   ]
  },
  {
   "cell_type": "code",
   "execution_count": 43,
   "id": "4bf3c07d-9ffa-4213-bcb3-d3147bcab287",
   "metadata": {},
   "outputs": [
    {
     "name": "stdout",
     "output_type": "stream",
     "text": [
      "Columnas de la base 2004:\n",
      "['codusu', 'nro_hogar', 'componente', 'h15', 'ano4', 'trimestre', 'region', 'mas_500', 'aglomerado', 'pondera', 'ch03', 'ch04', 'ch06', 'ch07', 'ch08', 'ch09', 'ch10', 'ch11', 'ch12', 'ch13', 'ch14', 'ch15', 'ch15_cod', 'ch16', 'ch16_cod', 'nivel_ed', 'estado', 'cat_ocup', 'cat_inac', 'pp02c1', 'pp02c2', 'pp02c3', 'pp02c4', 'pp02c5', 'pp02c6', 'pp02c7', 'pp02c8', 'pp02e', 'pp02h', 'pp02i', 'pp03c', 'pp03d', 'pp3e_tot', 'pp3f_tot', 'pp03g', 'pp03h', 'pp03i', 'pp03j', 'intensi', 'pp04a', 'pp04b_cod', 'pp04b1', 'pp04b2', 'pp04b3_mes', 'pp04b3_ano', 'pp04b3_dia', 'pp04c', 'pp04c99', 'pp04d_cod', 'pp04g', 'pp05b2_mes', 'pp05b2_ano', 'pp05b2_dia', 'pp05c_1', 'pp05c_2', 'pp05c_3', 'pp05e', 'pp05f', 'pp05h', 'pp06a', 'pp06c', 'pp06d', 'pp06e', 'pp06h', 'pp07a', 'pp07c', 'pp07d', 'pp07e', 'pp07f1', 'pp07f2', 'pp07f3', 'pp07f4', 'pp07f5', 'pp07g1', 'pp07g2', 'pp07g3', 'pp07g4', 'pp07g_59', 'pp07h', 'pp07i', 'pp07j', 'pp07k', 'pp08d1', 'pp08d4', 'pp08f1', 'pp08f2', 'pp08j1', 'pp08j2', 'pp08j3', 'pp09a', 'pp09a_esp', 'pp09b', 'pp09c', 'pp09c_esp', 'pp10a', 'pp10c', 'pp10d', 'pp10e', 'pp11a', 'pp11b_cod', 'pp11b1', 'pp11b2_mes', 'pp11b2_ano', 'pp11b2_dia', 'pp11c', 'pp11c99', 'pp11d_cod', 'pp11g_ano', 'pp11g_mes', 'pp11g_dia', 'pp11l', 'pp11l1', 'pp11m', 'pp11n', 'pp11o', 'pp11p', 'pp11q', 'pp11r', 'pp11s', 'pp11t', 'p21', 'decocur', 'idecocur', 'rdecocur', 'gdecocur', 'pdecocur', 'adecocur', 'tot_p12', 'p47t', 'decindr', 'idecindr', 'rdecindr', 'gdecindr', 'pdecindr', 'adecindr', 'v2_m', 'v3_m', 'v4_m', 'v5_m', 'v8_m', 'v9_m', 'v10_m', 'v11_m', 'v12_m', 'v18_m', 'v19_am', 'v21_m', 't_vi', 'itf', 'decifr', 'idecifr', 'rdecifr', 'gdecifr', 'pdecifr', 'adecifr', 'ipcf', 'deccfr', 'ideccfr', 'rdeccfr', 'gdeccfr', 'pdeccfr', 'adeccfr', 'pj1_1', 'pj2_1', 'pj3_1', 'idimpp']\n",
      "\n",
      "Columnas de la base 2024:\n",
      "['codusu', 'ano4', 'trimestre', 'nro_hogar', 'componente', 'h15', 'region', 'mas_500', 'aglomerado', 'pondera', 'ch03', 'ch04', 'ch05', 'ch06', 'ch07', 'ch08', 'ch09', 'ch10', 'ch11', 'ch12', 'ch13', 'ch14', 'ch15', 'ch15_cod', 'ch16', 'ch16_cod', 'nivel_ed', 'estado', 'cat_ocup', 'cat_inac', 'imputa', 'pp02c1', 'pp02c2', 'pp02c3', 'pp02c4', 'pp02c5', 'pp02c6', 'pp02c7', 'pp02c8', 'pp02e', 'pp02h', 'pp02i', 'pp03c', 'pp03d', 'pp3e_tot', 'pp3f_tot', 'pp03g', 'pp03h', 'pp03i', 'pp03j', 'intensi', 'pp04a', 'pp04b_cod', 'pp04b1', 'pp04b2', 'pp04b3_mes', 'pp04b3_ano', 'pp04b3_dia', 'pp04c', 'pp04c99', 'pp04d_cod', 'pp04g', 'pp05b2_mes', 'pp05b2_ano', 'pp05b2_dia', 'pp05c_1', 'pp05c_2', 'pp05c_3', 'pp05e', 'pp05f', 'pp05h', 'pp06a', 'pp06c', 'pp06d', 'pp06e', 'pp06h', 'pp07a', 'pp07c', 'pp07d', 'pp07e', 'pp07f1', 'pp07f2', 'pp07f3', 'pp07f4', 'pp07f5', 'pp07g1', 'pp07g2', 'pp07g3', 'pp07g4', 'pp07g_59', 'pp07h', 'pp07i', 'pp07j', 'pp07k', 'pp08d1', 'pp08d4', 'pp08f1', 'pp08f2', 'pp08j1', 'pp08j2', 'pp08j3', 'pp09a', 'pp09a_esp', 'pp09b', 'pp09c', 'pp09c_esp', 'pp10a', 'pp10c', 'pp10d', 'pp10e', 'pp11a', 'pp11b_cod', 'pp11b1', 'pp11b2_mes', 'pp11b2_ano', 'pp11b2_dia', 'pp11c', 'pp11c99', 'pp11d_cod', 'pp11g_ano', 'pp11g_mes', 'pp11g_dia', 'pp11l', 'pp11l1', 'pp11m', 'pp11n', 'pp11o', 'pp11p', 'pp11q', 'pp11r', 'pp11s', 'pp11t', 'p21', 'decocur', 'idecocur', 'rdecocur', 'gdecocur', 'pdecocur', 'adecocur', 'pondiio', 'tot_p12', 'p47t', 'decindr', 'idecindr', 'rdecindr', 'gdecindr', 'pdecindr', 'adecindr', 'pondii', 'v2_m', 'v3_m', 'v4_m', 'v5_m', 'v8_m', 'v9_m', 'v10_m', 'v11_m', 'v12_m', 'v18_m', 'v19_am', 'v21_m', 't_vi', 'itf', 'decifr', 'idecifr', 'rdecifr', 'gdecifr', 'pdecifr', 'adecifr', 'ipcf', 'deccfr', 'ideccfr', 'rdeccfr', 'gdeccfr', 'pdeccfr', 'adeccfr', 'pondih']\n"
     ]
    }
   ],
   "source": [
    "# Veo qué columnas tienen cada base para identificar cómo se llama \"AGLOMERADO\"\n",
    "print(\"Columnas de la base 2004:\")\n",
    "print(df_2004.columns.tolist())\n",
    "\n",
    "print(\"\\nColumnas de la base 2024:\")\n",
    "print(df_2024.columns.tolist())\n"
   ]
  },
  {
   "cell_type": "code",
   "execution_count": 45,
   "id": "3c463b3d-8373-4e25-b245-d86aa183d8bd",
   "metadata": {},
   "outputs": [],
   "source": [
    "# Filtro por la región de Mar del Plata\n",
    "# Según la variable AGLOMERADO, el código 34 corresponde a Mar del Plata\n",
    "# Me quedo solo con las personas de esa región\n",
    "\n",
    "df_2004 = df_2004[df_2004[\"aglomerado\"] == 34].copy()\n",
    "df_2024 = df_2024[df_2024[\"aglomerado\"] == 34].copy()\n"
   ]
  },
  {
   "cell_type": "code",
   "execution_count": 47,
   "id": "a300ed43-2c0c-483a-86c6-0289ff360339",
   "metadata": {},
   "outputs": [
    {
     "name": "stderr",
     "output_type": "stream",
     "text": [
      "C:\\Users\\Gustavo\\AppData\\Local\\Temp\\ipykernel_4468\\3237440424.py:3: FutureWarning: The behavior of DataFrame concatenation with empty or all-NA entries is deprecated. In a future version, this will no longer exclude empty or all-NA columns when determining the result dtypes. To retain the old behavior, exclude the relevant entries before the concat operation.\n",
      "  df = pd.concat([df_2004, df_2024], ignore_index=True)\n"
     ]
    }
   ],
   "source": [
    "# Junto las dos bases en una sola (como si pegara hojas de Excel una abajo de la otra)\n",
    "\n",
    "df = pd.concat([df_2004, df_2024], ignore_index=True)\n"
   ]
  },
  {
   "cell_type": "code",
   "execution_count": 49,
   "id": "1f36fe79-64ec-4524-b535-328e99b412eb",
   "metadata": {},
   "outputs": [
    {
     "name": "stdout",
     "output_type": "stream",
     "text": [
      "Columnas vacías en df_2004:\n",
      "codusu        True\n",
      "nro_hogar     True\n",
      "componente    True\n",
      "h15           True\n",
      "ano4          True\n",
      "              ... \n",
      "adeccfr       True\n",
      "pj1_1         True\n",
      "pj2_1         True\n",
      "pj3_1         True\n",
      "idimpp        True\n",
      "Length: 176, dtype: bool\n",
      "\n",
      "Columnas vacías en df_2024:\n",
      "codusu        False\n",
      "ano4          False\n",
      "trimestre     False\n",
      "nro_hogar     False\n",
      "componente    False\n",
      "              ...  \n",
      "rdeccfr       False\n",
      "gdeccfr       False\n",
      "pdeccfr        True\n",
      "adeccfr       False\n",
      "pondih        False\n",
      "Length: 177, dtype: bool\n"
     ]
    }
   ],
   "source": [
    "print(\"Columnas vacías en df_2004:\")\n",
    "print(df_2004.isna().all())\n",
    "\n",
    "print(\"\\nColumnas vacías en df_2024:\")\n",
    "print(df_2024.isna().all())"
   ]
  },
  {
   "cell_type": "code",
   "execution_count": 51,
   "id": "77cb4d2f-0609-4ef0-b1b4-390450916342",
   "metadata": {},
   "outputs": [
    {
     "name": "stdout",
     "output_type": "stream",
     "text": [
      "\n",
      "Columnas en df_2004:\n",
      "{'pp05b2_mes', 'pp11n', 'pp06e', 'pp11r', 'rdecocur', 'ch12', 'estado', 'pp11l1', 'pp3f_tot', 'pp09c_esp', 'pp04b_cod', 'decifr', 'ch14', 'pp03i', 'pp07a', 'pp07i', 'pp09a', 'rdecindr', 'pp04c', 'pp11d_cod', 'idecindr', 'pp04g', 'pp11b_cod', 'pp11t', 'rdecifr', 'pp04b3_dia', 'v18_m', 'pp08f1', 'pp02c6', 'ch15', 'adecocur', 'pp07f3', 'pj2_1', 'ch15_cod', 'pp05b2_ano', 'v21_m', 'tot_p12', 'pp03h', 'ch16', 'pp07d', 'cat_ocup', 'pp02c5', 'pp11g_mes', 'pdeccfr', 'idecifr', 'idimpp', 'pp09a_esp', 'v11_m', 'rdeccfr', 'pp03d', 'pp05h', 'deccfr', 'pp05c_3', 'pp08d1', 'pp08j1', 'gdecifr', 'pp11c99', 'pp07e', 'v12_m', 'pp11b2_mes', 'v5_m', 'pp04c99', 'pp11g_ano', 'pp02e', 'pp02c2', 'pp10d', 'pp07j', 'ideccfr', 'v9_m', 'pondera', 'nro_hogar', 'pp07g_59', 'pp10e', 'ch08', 'pp02c7', 'cat_inac', 'pp03j', 'intensi', 'decindr', 'pdecindr', 'gdecindr', 'pp11g_dia', 'ch07', 'pp06d', 'v4_m', 'pp06h', 'v8_m', 'p21', 'v19_am', 'pp05c_2', 'itf', 'pp09c', 'ch11', 'pp07f1', 'idecocur', 'ipcf', 'v2_m', 'nivel_ed', 'pp06a', 'pp3e_tot', 'pp07f2', 'p47t', 'pp04b3_ano', 'pdecocur', 'pp04b2', 'decocur', 'pp07g4', 'h15', 'pp09b', 'pp04b3_mes', 'pp08j2', 'pp07h', 'pj3_1', 'pp11p', 'pp02c8', 'ch10', 'pp02i', 'pp11b2_ano', 'pp07k', 'v10_m', 't_vi', 'pp10a', 'pp03g', 'pp04a', 'pp11c', 'pp04d_cod', 'pp03c', 'pp11o', 'mas_500', 'pp04b1', 'pp11m', 'pp02h', 'ch16_cod', 'codusu', 'pp02c4', 'pp07f5', 'adeccfr', 'adecindr', 'pp07g3', 'pp07g2', 'pp05f', 'pp05b2_dia', 'pp02c1', 'pp10c', 'ano4', 'v3_m', 'ch03', 'pj1_1', 'gdeccfr', 'pp11q', 'pp08j3', 'pp11b1', 'ch06', 'pp08f2', 'aglomerado', 'ch09', 'adecifr', 'componente', 'pp07c', 'pp05e', 'pp11a', 'pp07f4', 'gdecocur', 'pp02c3', 'trimestre', 'ch13', 'pp06c', 'pp05c_1', 'ch04', 'pp07g1', 'region', 'pdecifr', 'pp08d4', 'pp11l', 'pp11s', 'pp11b2_dia'}\n",
      "\n",
      "Columnas en df_2024:\n",
      "{'pp05b2_mes', 'pp11n', 'pp06e', 'pp11r', 'rdecocur', 'ch12', 'estado', 'pp11l1', 'pp3f_tot', 'imputa', 'pp09c_esp', 'pp04b_cod', 'decifr', 'ch14', 'pp03i', 'pp07a', 'pp07i', 'pp09a', 'rdecindr', 'pp04c', 'pp11d_cod', 'idecindr', 'pp04g', 'pp11b_cod', 'pp11t', 'rdecifr', 'pp04b3_dia', 'v18_m', 'pp08f1', 'pp02c6', 'ch15', 'adecocur', 'pp07f3', 'ch05', 'ch15_cod', 'pp05b2_ano', 'v21_m', 'tot_p12', 'pp03h', 'ch16', 'pp07d', 'cat_ocup', 'pp02c5', 'pp11g_mes', 'pdeccfr', 'idecifr', 'pp09a_esp', 'v11_m', 'rdeccfr', 'pp03d', 'pp05h', 'deccfr', 'pp05c_3', 'pp08d1', 'pp08j1', 'gdecifr', 'pp11c99', 'pp07e', 'v12_m', 'pp11b2_mes', 'v5_m', 'pp04c99', 'pp11g_ano', 'pp02e', 'pp02c2', 'pp10d', 'pp07j', 'ideccfr', 'v9_m', 'pondera', 'nro_hogar', 'pp07g_59', 'pp10e', 'ch08', 'pp02c7', 'cat_inac', 'pp03j', 'intensi', 'decindr', 'pdecindr', 'gdecindr', 'pp11g_dia', 'ch07', 'pp06d', 'v4_m', 'pp06h', 'v8_m', 'p21', 'v19_am', 'pp05c_2', 'itf', 'pp09c', 'ch11', 'pp07f1', 'idecocur', 'ipcf', 'v2_m', 'nivel_ed', 'pondiio', 'pp06a', 'pp3e_tot', 'pp07f2', 'p47t', 'pp04b3_ano', 'pdecocur', 'pp04b2', 'decocur', 'pp07g4', 'h15', 'pp09b', 'pp04b3_mes', 'pp08j2', 'pp07h', 'pp11p', 'pp02c8', 'ch10', 'pp02i', 'pp11b2_ano', 'pp07k', 'v10_m', 't_vi', 'pp10a', 'pp03g', 'pp04a', 'pp11c', 'pp04d_cod', 'pp03c', 'pp11o', 'mas_500', 'pp04b1', 'pp11m', 'pp02h', 'ch16_cod', 'codusu', 'pp02c4', 'pp07f5', 'adeccfr', 'adecindr', 'pp07g3', 'pp07g2', 'pp05f', 'pp05b2_dia', 'pp02c1', 'pp10c', 'ano4', 'v3_m', 'ch03', 'pondii', 'gdeccfr', 'pp11q', 'pp08j3', 'pp11b1', 'ch06', 'pp08f2', 'aglomerado', 'ch09', 'adecifr', 'componente', 'pp07c', 'pondih', 'pp05e', 'pp11a', 'pp07f4', 'gdecocur', 'pp02c3', 'trimestre', 'ch13', 'pp06c', 'pp05c_1', 'ch04', 'pp07g1', 'region', 'pdecifr', 'pp08d4', 'pp11l', 'pp11s', 'pp11b2_dia'}\n"
     ]
    }
   ],
   "source": [
    "print(\"\\nColumnas en df_2004:\")\n",
    "print(set(df_2004.columns))\n",
    "\n",
    "print(\"\\nColumnas en df_2024:\")\n",
    "print(set(df_2024.columns))"
   ]
  },
  {
   "cell_type": "code",
   "execution_count": 53,
   "id": "9a65bfb4-47ff-4d81-8935-44c10dbbe5cc",
   "metadata": {},
   "outputs": [],
   "source": [
    "# Eliminar columnas totalmente vacías\n",
    "df_2004_clean = df_2004.dropna(axis=1, how='all')\n",
    "df_2024_clean = df_2024.dropna(axis=1, how='all')\n",
    "\n",
    "# Luego concatenás\n",
    "df = pd.concat([df_2004_clean, df_2024_clean], ignore_index=True)"
   ]
  },
  {
   "cell_type": "code",
   "execution_count": 55,
   "id": "b59aeed9-b1c8-42be-877f-437d317dffe8",
   "metadata": {},
   "outputs": [],
   "source": [
    "# Elijo 15 variables que me interesan para el análisis\n",
    "# Estas variables tienen info sobre edad, sexo, actividad laboral, educación e ingresos\n",
    "# (los cuales están desarrolladas los pdf de diseño de registro y estructura)\n",
    "\n",
    "vars_interes = [\n",
    "    \"CH04\",        # Sexo\n",
    "    \"CH06\",        # Edad\n",
    "    \"CH10\",        # Si asiste o asistió a un establecimiento educativo\n",
    "    \"CH12\",        # Nivel educativo alcanzado\n",
    "    \"ESTADO\",      # Condición de actividad (ocupado, desocupado, etc.)\n",
    "    \"CAT_OCUP\",    # Tipo de ocupación (si trabaja)\n",
    "    \"CAT_INAC\",    # Tipo de inactividad (si no trabaja)\n",
    "    \"PP3E_TOT\",    # Horas trabajadas en su ocupación principal\n",
    "    \"PP3F_TOT\",    # Horas trabajadas en otras ocupaciones\n",
    "    \"PP03G\",       # Si quiere trabajar más horas\n",
    "    \"PONDERA\",     # Factor de expansión (cuánto representa esa persona)\n",
    "    \"NIVEL_ED\",    # Nivel educativo resumido\n",
    "    \"IPCF\",        # Ingreso per cápita familiar\n",
    "    \"ITF\",         # Ingreso total del hogar\n",
    "    \"REGION\"       # Región (por si se necesita más adelante)\n",
    "]\n"
   ]
  },
  {
   "cell_type": "code",
   "execution_count": 57,
   "id": "83ea0266-479b-485f-adbd-5d1352326a86",
   "metadata": {},
   "outputs": [],
   "source": [
    "# Me quedo solo con las columnas que me interesan\n",
    "vars_interes = [col.lower() for col in vars_interes]\n",
    "df = df[vars_interes + [\"ano4\"]]"
   ]
  },
  {
   "cell_type": "code",
   "execution_count": 59,
   "id": "b0c2af47-16a9-45bf-b321-aaa0b13f3a25",
   "metadata": {},
   "outputs": [
    {
     "name": "stderr",
     "output_type": "stream",
     "text": [
      "C:\\Users\\Gustavo\\AppData\\Local\\Temp\\ipykernel_4468\\3791538471.py:1: FutureWarning: The behavior of DataFrame concatenation with empty or all-NA entries is deprecated. In a future version, this will no longer exclude empty or all-NA columns when determining the result dtypes. To retain the old behavior, exclude the relevant entries before the concat operation.\n",
      "  df = pd.concat([df_2004, df_2024], ignore_index=True)\n"
     ]
    }
   ],
   "source": [
    "df = pd.concat([df_2004, df_2024], ignore_index=True)"
   ]
  },
  {
   "cell_type": "code",
   "execution_count": 61,
   "id": "19e097dd-b5a1-4293-bebf-1affe6e9a25c",
   "metadata": {
    "scrolled": true
   },
   "outputs": [
    {
     "name": "stdout",
     "output_type": "stream",
     "text": [
      "Valores faltantes por año:\n",
      "ano4        2024\n",
      "codusu         0\n",
      "nro_hogar      0\n",
      "componente     0\n",
      "h15            0\n",
      "trimestre      0\n",
      "...          ...\n",
      "ch05           0\n",
      "imputa       970\n",
      "pondiio        0\n",
      "pondii         0\n",
      "pondih         0\n",
      "\n",
      "[180 rows x 1 columns]\n",
      "Limpieza completada. El archivo se guardó como 'EPH_MardelPlata_2004_2024_limpio.csv'\n"
     ]
    }
   ],
   "source": [
    "# --- CONTEO DE VALORES FALTANTES POR VARIABLE Y AÑO ---\n",
    "# Agrupo por año y cuento cuántos NaN hay por variable (excluyendo la columna 'ano4' del cálculo)\n",
    "faltantes = df.drop(columns=\"ano4\").groupby(df[\"ano4\"]).apply(lambda x: x.isna().sum()).T\n",
    "\n",
    "# Muestro los valores faltantes\n",
    "print(\"Valores faltantes por año:\")\n",
    "print(faltantes)\n",
    "\n",
    "# --- LIMPIEZA DE VALORES INVÁLIDOS EN VARIABLES DE INGRESO ---\n",
    "# Reemplazo ingresos negativos o mayores a 9.999.999 por NaN (valores inválidos según EPH)\n",
    "for var in [\"ipcf\", \"itf\"]:\n",
    "    df.loc[df[var] < 0, var] = np.nan\n",
    "    df.loc[df[var] >= 9999999, var] = np.nan\n",
    "\n",
    "# --- GUARDADO DE LA BASE LIMPIA ---\n",
    "# Exporto el DataFrame limpio a un archivo .csv para usar en análisis posteriores\n",
    "df.to_csv(\"EPH_MardelPlata_2004_2024_limpio.csv\", index=False)\n",
    "print(\"Limpieza completada. El archivo se guardó como 'EPH_MardelPlata_2004_2024_limpio.csv'\")"
   ]
  },
  {
   "cell_type": "code",
   "execution_count": 37,
   "id": "f1ed6b70-7cfe-498e-a465-aa7ae52eeaf7",
   "metadata": {},
   "outputs": [],
   "source": [
    "#Parte II: Primer Análisis Exploratorio"
   ]
  },
  {
   "cell_type": "code",
   "execution_count": 39,
   "id": "4db2a88d-15c2-4a9c-8249-9ebd60b06637",
   "metadata": {},
   "outputs": [],
   "source": [
    "import matplotlib.pyplot as plt\n",
    "import seaborn as sns"
   ]
  },
  {
   "cell_type": "code",
   "execution_count": 41,
   "id": "72d53bf9-230b-4320-85a2-648b80a1517b",
   "metadata": {},
   "outputs": [],
   "source": [
    "# --- FILTRO LA BASE PARA QUEDARME CON LOS DATOS DE 2004 Y 2024 ---\n",
    "\n",
    "# Creo dos nuevos DataFrames: uno solo con los datos del año 2004 y otro con los de 2024.\n",
    "# Esto me permite comparar variables entre esos dos años.\n",
    "data_2004 = df[df['ano4'] == 2004]\n",
    "data_2024 = df[df['ano4'] == 2024]\n"
   ]
  },
  {
   "cell_type": "code",
   "execution_count": 43,
   "id": "78920140-6c0b-4bfe-9636-b25fd25cb92e",
   "metadata": {},
   "outputs": [
    {
     "name": "stdout",
     "output_type": "stream",
     "text": [
      "Distribución de sexo en 2004:\n",
      "Series([], Name: count, dtype: int64)\n",
      "\n",
      "Distribución de sexo en 2024:\n",
      "ch04\n",
      "2    506\n",
      "1    465\n",
      "Name: count, dtype: int64\n"
     ]
    }
   ],
   "source": [
    "# Filtro y me aseguro de que las variables de sexo estén bien codificadas (normalmente 'sexo' es 1 para hombres y 2 para mujeres)\n",
    "# Filtra los datos por región si es necesario\n",
    "\n",
    "# Contar la cantidad de hombres y mujeres en cada año\n",
    "sexo_2004 = data_2004['ch04'].value_counts()\n",
    "sexo_2024 = data_2024['ch04'].value_counts()\n",
    "\n",
    "# Mostrar los resultados\n",
    "print(\"Distribución de sexo en 2004:\")\n",
    "print(sexo_2004)\n",
    "\n",
    "print(\"\\nDistribución de sexo en 2024:\")\n",
    "print(sexo_2024)"
   ]
  }
 ],
 "metadata": {
  "kernelspec": {
   "display_name": "Python [conda env:base] *",
   "language": "python",
   "name": "conda-base-py"
  },
  "language_info": {
   "codemirror_mode": {
    "name": "ipython",
    "version": 3
   },
   "file_extension": ".py",
   "mimetype": "text/x-python",
   "name": "python",
   "nbconvert_exporter": "python",
   "pygments_lexer": "ipython3",
   "version": "3.12.7"
  }
 },
 "nbformat": 4,
 "nbformat_minor": 5
}
